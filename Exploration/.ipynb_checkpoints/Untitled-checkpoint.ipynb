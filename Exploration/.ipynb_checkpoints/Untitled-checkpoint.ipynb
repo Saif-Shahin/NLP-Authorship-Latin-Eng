{
 "cells": [
  {
   "cell_type": "markdown",
   "id": "76808e1a",
   "metadata": {},
   "source": [
    "# Exploration"
   ]
  },
  {
   "cell_type": "markdown",
   "id": "859e2f95",
   "metadata": {},
   "source": [
    "## Imports"
   ]
  },
  {
   "cell_type": "code",
   "execution_count": null,
   "id": "811f5354",
   "metadata": {},
   "outputs": [],
   "source": [
    "! pip install tensorflow"
   ]
  },
  {
   "cell_type": "code",
   "execution_count": null,
   "id": "541c5fa9",
   "metadata": {
    "scrolled": true
   },
   "outputs": [],
   "source": [
    "import pandas as pd\n",
    "import os\n",
    "import numpy as np\n",
    "import tensorflow as tf\n",
    "import matplotlib.pyplot as plt"
   ]
  },
  {
   "cell_type": "markdown",
   "id": "bdae6235",
   "metadata": {},
   "source": [
    "## Load Data"
   ]
  },
  {
   "cell_type": "code",
   "execution_count": 17,
   "id": "9a558530",
   "metadata": {},
   "outputs": [
    {
     "name": "stdout",
     "output_type": "stream",
     "text": [
      "C:\\Users\\Admin\\OneDrive - McGill University\\COMP551550git\\NLP-Authorship-Latin-Eng\\Exploration\n"
     ]
    },
    {
     "data": {
      "text/plain": [
       "True"
      ]
     },
     "execution_count": 17,
     "metadata": {},
     "output_type": "execute_result"
    }
   ],
   "source": [
    "print(os.getcwd())\n",
    "#Path of the data folder\n",
    "data_path = \"C:/Users/Admin/OneDrive - McGill University/COMP551550git/NLP-Authorship-Latin-Eng\\Data\"\n",
    "os.path.exists(data_path)"
   ]
  },
  {
   "cell_type": "markdown",
   "id": "949c5d61",
   "metadata": {},
   "source": [
    "### TensorFlow"
   ]
  },
  {
   "cell_type": "code",
   "execution_count": 31,
   "id": "7db08286",
   "metadata": {},
   "outputs": [],
   "source": [
    "training_data = pd.read_csv((data_path + \"/Train_Data/train_data_pre_processed_lemmatized.csv\"))\n",
    "validation_data = pd.read_csv((data_path + \"/Validation_Data/pre_processed/validation_data_lemmatized.csv\"))\n",
    "test_data = pd.read_csv((data_path + \"/Test_Data/pre_processed/test_data_lemmatized.csv\"))"
   ]
  },
  {
   "cell_type": "code",
   "execution_count": 32,
   "id": "fa31c368",
   "metadata": {},
   "outputs": [
    {
     "ename": "NameError",
     "evalue": "name 'tf' is not defined",
     "output_type": "error",
     "traceback": [
      "\u001b[1;31m---------------------------------------------------------------------------\u001b[0m",
      "\u001b[1;31mNameError\u001b[0m                                 Traceback (most recent call last)",
      "Cell \u001b[1;32mIn[32], line 2\u001b[0m\n\u001b[0;32m      1\u001b[0m training_data\u001b[38;5;241m.\u001b[39mhead(\u001b[38;5;241m1\u001b[39m)\n\u001b[1;32m----> 2\u001b[0m training_data_la \u001b[38;5;241m=\u001b[39m tf\u001b[38;5;241m.\u001b[39mdata\u001b[38;5;241m.\u001b[39mDataset\u001b[38;5;241m.\u001b[39mfrom_tensor_slices(\u001b[38;5;28mdict\u001b[39m(training_data[[\u001b[38;5;124m'\u001b[39m\u001b[38;5;124mla\u001b[39m\u001b[38;5;124m'\u001b[39m,\u001b[38;5;124m'\u001b[39m\u001b[38;5;124mfile\u001b[39m\u001b[38;5;124m'\u001b[39m]]))\n\u001b[0;32m      3\u001b[0m training_data_en \u001b[38;5;241m=\u001b[39m tf\u001b[38;5;241m.\u001b[39mdata\u001b[38;5;241m.\u001b[39mDataset\u001b[38;5;241m.\u001b[39mfrom_tensor_slices(\u001b[38;5;28mdict\u001b[39m(training_data[[\u001b[38;5;124m'\u001b[39m\u001b[38;5;124men\u001b[39m\u001b[38;5;124m'\u001b[39m,\u001b[38;5;124m'\u001b[39m\u001b[38;5;124mfile\u001b[39m\u001b[38;5;124m'\u001b[39m]]))\n",
      "\u001b[1;31mNameError\u001b[0m: name 'tf' is not defined"
     ]
    }
   ],
   "source": [
    "training_data.head(1)\n",
    "training_data_la = tf.data.Dataset.from_tensor_slices(dict(training_data[['la','file']]))\n",
    "training_data_en = tf.data.Dataset.from_tensor_slices(dict(training_data[['en','file']]))"
   ]
  },
  {
   "cell_type": "code",
   "execution_count": 26,
   "id": "ae85c8e8",
   "metadata": {},
   "outputs": [
    {
     "data": {
      "text/html": [
       "<div>\n",
       "<style scoped>\n",
       "    .dataframe tbody tr th:only-of-type {\n",
       "        vertical-align: middle;\n",
       "    }\n",
       "\n",
       "    .dataframe tbody tr th {\n",
       "        vertical-align: top;\n",
       "    }\n",
       "\n",
       "    .dataframe thead th {\n",
       "        text-align: right;\n",
       "    }\n",
       "</style>\n",
       "<table border=\"1\" class=\"dataframe\">\n",
       "  <thead>\n",
       "    <tr style=\"text-align: right;\">\n",
       "      <th></th>\n",
       "      <th>Unnamed: 0</th>\n",
       "      <th>id</th>\n",
       "      <th>la</th>\n",
       "      <th>en</th>\n",
       "      <th>file</th>\n",
       "    </tr>\n",
       "  </thead>\n",
       "  <tbody>\n",
       "    <tr>\n",
       "      <th>0</th>\n",
       "      <td>14</td>\n",
       "      <td>2</td>\n",
       "      <td>Quid si nolo vel nullus fuerint? quis denique ...</td>\n",
       "      <td>But if they wont come, or if you have none? Wh...</td>\n",
       "      <td>final_alignments\\Tertullian_Apology.json</td>\n",
       "    </tr>\n",
       "  </tbody>\n",
       "</table>\n",
       "</div>"
      ],
      "text/plain": [
       "   Unnamed: 0  id                                                 la  \\\n",
       "0          14   2  Quid si nolo vel nullus fuerint? quis denique ...   \n",
       "\n",
       "                                                  en  \\\n",
       "0  But if they wont come, or if you have none? Wh...   \n",
       "\n",
       "                                       file  \n",
       "0  final_alignments\\Tertullian_Apology.json  "
      ]
     },
     "execution_count": 26,
     "metadata": {},
     "output_type": "execute_result"
    }
   ],
   "source": [
    "validation_data.head(1)\n",
    "validation_data_la = tf.data.Dataset.from_tensor_slices(dict(validation_data[['la','file']]))\n",
    "validation_data_en = tf.data.Dataset.from_tensor_slices(dict(validation_data[['en','file']]))"
   ]
  },
  {
   "cell_type": "code",
   "execution_count": 27,
   "id": "cd73b3a4",
   "metadata": {},
   "outputs": [
    {
     "data": {
      "text/html": [
       "<div>\n",
       "<style scoped>\n",
       "    .dataframe tbody tr th:only-of-type {\n",
       "        vertical-align: middle;\n",
       "    }\n",
       "\n",
       "    .dataframe tbody tr th {\n",
       "        vertical-align: top;\n",
       "    }\n",
       "\n",
       "    .dataframe thead th {\n",
       "        text-align: right;\n",
       "    }\n",
       "</style>\n",
       "<table border=\"1\" class=\"dataframe\">\n",
       "  <thead>\n",
       "    <tr style=\"text-align: right;\">\n",
       "      <th></th>\n",
       "      <th>Unnamed: 0</th>\n",
       "      <th>id</th>\n",
       "      <th>la</th>\n",
       "      <th>en</th>\n",
       "      <th>file</th>\n",
       "    </tr>\n",
       "  </thead>\n",
       "  <tbody>\n",
       "    <tr>\n",
       "      <th>0</th>\n",
       "      <td>1</td>\n",
       "      <td>1</td>\n",
       "      <td>super aspis et basiliscus calco conculco leo e...</td>\n",
       "      <td>super aspidem et basiliscum ambulabis et; conc...</td>\n",
       "      <td>final_alignments\\Vulgate_Bible.json</td>\n",
       "    </tr>\n",
       "  </tbody>\n",
       "</table>\n",
       "</div>"
      ],
      "text/plain": [
       "   Unnamed: 0  id                                                 la  \\\n",
       "0           1   1  super aspis et basiliscus calco conculco leo e...   \n",
       "\n",
       "                                                  en  \\\n",
       "0  super aspidem et basiliscum ambulabis et; conc...   \n",
       "\n",
       "                                  file  \n",
       "0  final_alignments\\Vulgate_Bible.json  "
      ]
     },
     "execution_count": 27,
     "metadata": {},
     "output_type": "execute_result"
    }
   ],
   "source": [
    "test_data.head(1)\n",
    "test_data_la = tf.data.Dataset.from_tensor_slices(dict(test_data[['la','file']]))\n",
    "test_data_data_en = tf.data.Dataset.from_tensor_slices(dict(test_data[['en','file']]))"
   ]
  },
  {
   "cell_type": "code",
   "execution_count": null,
   "id": "0c3f8cf8",
   "metadata": {},
   "outputs": [],
   "source": []
  }
 ],
 "metadata": {
  "kernelspec": {
   "display_name": "Python 3 (ipykernel)",
   "language": "python",
   "name": "python3"
  },
  "language_info": {
   "codemirror_mode": {
    "name": "ipython",
    "version": 3
   },
   "file_extension": ".py",
   "mimetype": "text/x-python",
   "name": "python",
   "nbconvert_exporter": "python",
   "pygments_lexer": "ipython3",
   "version": "3.11.5"
  }
 },
 "nbformat": 4,
 "nbformat_minor": 5
}
