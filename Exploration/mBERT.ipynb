{
  "nbformat": 4,
  "nbformat_minor": 0,
  "metadata": {
    "colab": {
      "provenance": [],
      "gpuType": "V100"
    },
    "kernelspec": {
      "name": "python3",
      "display_name": "Python 3"
    },
    "language_info": {
      "name": "python"
    },
    "accelerator": "GPU",
    "widgets": {
      "application/vnd.jupyter.widget-state+json": {
        "f290e59a52b24dc985810d6f9ebaca7a": {
          "model_module": "@jupyter-widgets/controls",
          "model_name": "HBoxModel",
          "model_module_version": "1.5.0",
          "state": {
            "_dom_classes": [],
            "_model_module": "@jupyter-widgets/controls",
            "_model_module_version": "1.5.0",
            "_model_name": "HBoxModel",
            "_view_count": null,
            "_view_module": "@jupyter-widgets/controls",
            "_view_module_version": "1.5.0",
            "_view_name": "HBoxView",
            "box_style": "",
            "children": [
              "IPY_MODEL_dbd55dbb5de641edaf6c72ceacacef52",
              "IPY_MODEL_cf5cee1bce2145d082df636cd178ccb6",
              "IPY_MODEL_6422b0a8598e49f8811a5e11858c7ca1"
            ],
            "layout": "IPY_MODEL_938d2ad175f14dfa9586552f9ee97d34"
          }
        },
        "dbd55dbb5de641edaf6c72ceacacef52": {
          "model_module": "@jupyter-widgets/controls",
          "model_name": "HTMLModel",
          "model_module_version": "1.5.0",
          "state": {
            "_dom_classes": [],
            "_model_module": "@jupyter-widgets/controls",
            "_model_module_version": "1.5.0",
            "_model_name": "HTMLModel",
            "_view_count": null,
            "_view_module": "@jupyter-widgets/controls",
            "_view_module_version": "1.5.0",
            "_view_name": "HTMLView",
            "description": "",
            "description_tooltip": null,
            "layout": "IPY_MODEL_6295dd9bf054492cba35eb013ca80ce0",
            "placeholder": "​",
            "style": "IPY_MODEL_c182f5ea077642628e9bc0d4dd4fde40",
            "value": "tokenizer_config.json: 100%"
          }
        },
        "cf5cee1bce2145d082df636cd178ccb6": {
          "model_module": "@jupyter-widgets/controls",
          "model_name": "FloatProgressModel",
          "model_module_version": "1.5.0",
          "state": {
            "_dom_classes": [],
            "_model_module": "@jupyter-widgets/controls",
            "_model_module_version": "1.5.0",
            "_model_name": "FloatProgressModel",
            "_view_count": null,
            "_view_module": "@jupyter-widgets/controls",
            "_view_module_version": "1.5.0",
            "_view_name": "ProgressView",
            "bar_style": "success",
            "description": "",
            "description_tooltip": null,
            "layout": "IPY_MODEL_0172f16d901e46868b257ff0b70cb230",
            "max": 28,
            "min": 0,
            "orientation": "horizontal",
            "style": "IPY_MODEL_5611d3dc3f0c4be9979bf535e6e653b0",
            "value": 28
          }
        },
        "6422b0a8598e49f8811a5e11858c7ca1": {
          "model_module": "@jupyter-widgets/controls",
          "model_name": "HTMLModel",
          "model_module_version": "1.5.0",
          "state": {
            "_dom_classes": [],
            "_model_module": "@jupyter-widgets/controls",
            "_model_module_version": "1.5.0",
            "_model_name": "HTMLModel",
            "_view_count": null,
            "_view_module": "@jupyter-widgets/controls",
            "_view_module_version": "1.5.0",
            "_view_name": "HTMLView",
            "description": "",
            "description_tooltip": null,
            "layout": "IPY_MODEL_d30f09d2e1fc48b99cef7d411bf343f9",
            "placeholder": "​",
            "style": "IPY_MODEL_af8a102fe2284fa6bf88b4aca812fbd9",
            "value": " 28.0/28.0 [00:00&lt;00:00, 370B/s]"
          }
        },
        "938d2ad175f14dfa9586552f9ee97d34": {
          "model_module": "@jupyter-widgets/base",
          "model_name": "LayoutModel",
          "model_module_version": "1.2.0",
          "state": {
            "_model_module": "@jupyter-widgets/base",
            "_model_module_version": "1.2.0",
            "_model_name": "LayoutModel",
            "_view_count": null,
            "_view_module": "@jupyter-widgets/base",
            "_view_module_version": "1.2.0",
            "_view_name": "LayoutView",
            "align_content": null,
            "align_items": null,
            "align_self": null,
            "border": null,
            "bottom": null,
            "display": null,
            "flex": null,
            "flex_flow": null,
            "grid_area": null,
            "grid_auto_columns": null,
            "grid_auto_flow": null,
            "grid_auto_rows": null,
            "grid_column": null,
            "grid_gap": null,
            "grid_row": null,
            "grid_template_areas": null,
            "grid_template_columns": null,
            "grid_template_rows": null,
            "height": null,
            "justify_content": null,
            "justify_items": null,
            "left": null,
            "margin": null,
            "max_height": null,
            "max_width": null,
            "min_height": null,
            "min_width": null,
            "object_fit": null,
            "object_position": null,
            "order": null,
            "overflow": null,
            "overflow_x": null,
            "overflow_y": null,
            "padding": null,
            "right": null,
            "top": null,
            "visibility": null,
            "width": null
          }
        },
        "6295dd9bf054492cba35eb013ca80ce0": {
          "model_module": "@jupyter-widgets/base",
          "model_name": "LayoutModel",
          "model_module_version": "1.2.0",
          "state": {
            "_model_module": "@jupyter-widgets/base",
            "_model_module_version": "1.2.0",
            "_model_name": "LayoutModel",
            "_view_count": null,
            "_view_module": "@jupyter-widgets/base",
            "_view_module_version": "1.2.0",
            "_view_name": "LayoutView",
            "align_content": null,
            "align_items": null,
            "align_self": null,
            "border": null,
            "bottom": null,
            "display": null,
            "flex": null,
            "flex_flow": null,
            "grid_area": null,
            "grid_auto_columns": null,
            "grid_auto_flow": null,
            "grid_auto_rows": null,
            "grid_column": null,
            "grid_gap": null,
            "grid_row": null,
            "grid_template_areas": null,
            "grid_template_columns": null,
            "grid_template_rows": null,
            "height": null,
            "justify_content": null,
            "justify_items": null,
            "left": null,
            "margin": null,
            "max_height": null,
            "max_width": null,
            "min_height": null,
            "min_width": null,
            "object_fit": null,
            "object_position": null,
            "order": null,
            "overflow": null,
            "overflow_x": null,
            "overflow_y": null,
            "padding": null,
            "right": null,
            "top": null,
            "visibility": null,
            "width": null
          }
        },
        "c182f5ea077642628e9bc0d4dd4fde40": {
          "model_module": "@jupyter-widgets/controls",
          "model_name": "DescriptionStyleModel",
          "model_module_version": "1.5.0",
          "state": {
            "_model_module": "@jupyter-widgets/controls",
            "_model_module_version": "1.5.0",
            "_model_name": "DescriptionStyleModel",
            "_view_count": null,
            "_view_module": "@jupyter-widgets/base",
            "_view_module_version": "1.2.0",
            "_view_name": "StyleView",
            "description_width": ""
          }
        },
        "0172f16d901e46868b257ff0b70cb230": {
          "model_module": "@jupyter-widgets/base",
          "model_name": "LayoutModel",
          "model_module_version": "1.2.0",
          "state": {
            "_model_module": "@jupyter-widgets/base",
            "_model_module_version": "1.2.0",
            "_model_name": "LayoutModel",
            "_view_count": null,
            "_view_module": "@jupyter-widgets/base",
            "_view_module_version": "1.2.0",
            "_view_name": "LayoutView",
            "align_content": null,
            "align_items": null,
            "align_self": null,
            "border": null,
            "bottom": null,
            "display": null,
            "flex": null,
            "flex_flow": null,
            "grid_area": null,
            "grid_auto_columns": null,
            "grid_auto_flow": null,
            "grid_auto_rows": null,
            "grid_column": null,
            "grid_gap": null,
            "grid_row": null,
            "grid_template_areas": null,
            "grid_template_columns": null,
            "grid_template_rows": null,
            "height": null,
            "justify_content": null,
            "justify_items": null,
            "left": null,
            "margin": null,
            "max_height": null,
            "max_width": null,
            "min_height": null,
            "min_width": null,
            "object_fit": null,
            "object_position": null,
            "order": null,
            "overflow": null,
            "overflow_x": null,
            "overflow_y": null,
            "padding": null,
            "right": null,
            "top": null,
            "visibility": null,
            "width": null
          }
        },
        "5611d3dc3f0c4be9979bf535e6e653b0": {
          "model_module": "@jupyter-widgets/controls",
          "model_name": "ProgressStyleModel",
          "model_module_version": "1.5.0",
          "state": {
            "_model_module": "@jupyter-widgets/controls",
            "_model_module_version": "1.5.0",
            "_model_name": "ProgressStyleModel",
            "_view_count": null,
            "_view_module": "@jupyter-widgets/base",
            "_view_module_version": "1.2.0",
            "_view_name": "StyleView",
            "bar_color": null,
            "description_width": ""
          }
        },
        "d30f09d2e1fc48b99cef7d411bf343f9": {
          "model_module": "@jupyter-widgets/base",
          "model_name": "LayoutModel",
          "model_module_version": "1.2.0",
          "state": {
            "_model_module": "@jupyter-widgets/base",
            "_model_module_version": "1.2.0",
            "_model_name": "LayoutModel",
            "_view_count": null,
            "_view_module": "@jupyter-widgets/base",
            "_view_module_version": "1.2.0",
            "_view_name": "LayoutView",
            "align_content": null,
            "align_items": null,
            "align_self": null,
            "border": null,
            "bottom": null,
            "display": null,
            "flex": null,
            "flex_flow": null,
            "grid_area": null,
            "grid_auto_columns": null,
            "grid_auto_flow": null,
            "grid_auto_rows": null,
            "grid_column": null,
            "grid_gap": null,
            "grid_row": null,
            "grid_template_areas": null,
            "grid_template_columns": null,
            "grid_template_rows": null,
            "height": null,
            "justify_content": null,
            "justify_items": null,
            "left": null,
            "margin": null,
            "max_height": null,
            "max_width": null,
            "min_height": null,
            "min_width": null,
            "object_fit": null,
            "object_position": null,
            "order": null,
            "overflow": null,
            "overflow_x": null,
            "overflow_y": null,
            "padding": null,
            "right": null,
            "top": null,
            "visibility": null,
            "width": null
          }
        },
        "af8a102fe2284fa6bf88b4aca812fbd9": {
          "model_module": "@jupyter-widgets/controls",
          "model_name": "DescriptionStyleModel",
          "model_module_version": "1.5.0",
          "state": {
            "_model_module": "@jupyter-widgets/controls",
            "_model_module_version": "1.5.0",
            "_model_name": "DescriptionStyleModel",
            "_view_count": null,
            "_view_module": "@jupyter-widgets/base",
            "_view_module_version": "1.2.0",
            "_view_name": "StyleView",
            "description_width": ""
          }
        },
        "1bd7458ed1cd437ebc6ed84c1271099b": {
          "model_module": "@jupyter-widgets/controls",
          "model_name": "HBoxModel",
          "model_module_version": "1.5.0",
          "state": {
            "_dom_classes": [],
            "_model_module": "@jupyter-widgets/controls",
            "_model_module_version": "1.5.0",
            "_model_name": "HBoxModel",
            "_view_count": null,
            "_view_module": "@jupyter-widgets/controls",
            "_view_module_version": "1.5.0",
            "_view_name": "HBoxView",
            "box_style": "",
            "children": [
              "IPY_MODEL_b0c0db149bcc411e8cdbdc23d31d5ed3",
              "IPY_MODEL_565ee70085834a6184e24020d49c534b",
              "IPY_MODEL_c579b89afe57423ea54c35f611d5eea9"
            ],
            "layout": "IPY_MODEL_6ebf05f24f484b689cc8e1fe5ca7bc36"
          }
        },
        "b0c0db149bcc411e8cdbdc23d31d5ed3": {
          "model_module": "@jupyter-widgets/controls",
          "model_name": "HTMLModel",
          "model_module_version": "1.5.0",
          "state": {
            "_dom_classes": [],
            "_model_module": "@jupyter-widgets/controls",
            "_model_module_version": "1.5.0",
            "_model_name": "HTMLModel",
            "_view_count": null,
            "_view_module": "@jupyter-widgets/controls",
            "_view_module_version": "1.5.0",
            "_view_name": "HTMLView",
            "description": "",
            "description_tooltip": null,
            "layout": "IPY_MODEL_b8ceea94673a4780935b59eaef1620d1",
            "placeholder": "​",
            "style": "IPY_MODEL_01c126ad9b02414e9a6433ea964f5f0a",
            "value": "vocab.txt: 100%"
          }
        },
        "565ee70085834a6184e24020d49c534b": {
          "model_module": "@jupyter-widgets/controls",
          "model_name": "FloatProgressModel",
          "model_module_version": "1.5.0",
          "state": {
            "_dom_classes": [],
            "_model_module": "@jupyter-widgets/controls",
            "_model_module_version": "1.5.0",
            "_model_name": "FloatProgressModel",
            "_view_count": null,
            "_view_module": "@jupyter-widgets/controls",
            "_view_module_version": "1.5.0",
            "_view_name": "ProgressView",
            "bar_style": "success",
            "description": "",
            "description_tooltip": null,
            "layout": "IPY_MODEL_fd8e60275a974a8eb9335693167f1755",
            "max": 871891,
            "min": 0,
            "orientation": "horizontal",
            "style": "IPY_MODEL_7a2e740750a14ee791536aca54d6a970",
            "value": 871891
          }
        },
        "c579b89afe57423ea54c35f611d5eea9": {
          "model_module": "@jupyter-widgets/controls",
          "model_name": "HTMLModel",
          "model_module_version": "1.5.0",
          "state": {
            "_dom_classes": [],
            "_model_module": "@jupyter-widgets/controls",
            "_model_module_version": "1.5.0",
            "_model_name": "HTMLModel",
            "_view_count": null,
            "_view_module": "@jupyter-widgets/controls",
            "_view_module_version": "1.5.0",
            "_view_name": "HTMLView",
            "description": "",
            "description_tooltip": null,
            "layout": "IPY_MODEL_7e32d73c3ee04b108c6375483f01e8f6",
            "placeholder": "​",
            "style": "IPY_MODEL_4306cda06e51453a866b349ea53f0ab2",
            "value": " 872k/872k [00:00&lt;00:00, 6.09MB/s]"
          }
        },
        "6ebf05f24f484b689cc8e1fe5ca7bc36": {
          "model_module": "@jupyter-widgets/base",
          "model_name": "LayoutModel",
          "model_module_version": "1.2.0",
          "state": {
            "_model_module": "@jupyter-widgets/base",
            "_model_module_version": "1.2.0",
            "_model_name": "LayoutModel",
            "_view_count": null,
            "_view_module": "@jupyter-widgets/base",
            "_view_module_version": "1.2.0",
            "_view_name": "LayoutView",
            "align_content": null,
            "align_items": null,
            "align_self": null,
            "border": null,
            "bottom": null,
            "display": null,
            "flex": null,
            "flex_flow": null,
            "grid_area": null,
            "grid_auto_columns": null,
            "grid_auto_flow": null,
            "grid_auto_rows": null,
            "grid_column": null,
            "grid_gap": null,
            "grid_row": null,
            "grid_template_areas": null,
            "grid_template_columns": null,
            "grid_template_rows": null,
            "height": null,
            "justify_content": null,
            "justify_items": null,
            "left": null,
            "margin": null,
            "max_height": null,
            "max_width": null,
            "min_height": null,
            "min_width": null,
            "object_fit": null,
            "object_position": null,
            "order": null,
            "overflow": null,
            "overflow_x": null,
            "overflow_y": null,
            "padding": null,
            "right": null,
            "top": null,
            "visibility": null,
            "width": null
          }
        },
        "b8ceea94673a4780935b59eaef1620d1": {
          "model_module": "@jupyter-widgets/base",
          "model_name": "LayoutModel",
          "model_module_version": "1.2.0",
          "state": {
            "_model_module": "@jupyter-widgets/base",
            "_model_module_version": "1.2.0",
            "_model_name": "LayoutModel",
            "_view_count": null,
            "_view_module": "@jupyter-widgets/base",
            "_view_module_version": "1.2.0",
            "_view_name": "LayoutView",
            "align_content": null,
            "align_items": null,
            "align_self": null,
            "border": null,
            "bottom": null,
            "display": null,
            "flex": null,
            "flex_flow": null,
            "grid_area": null,
            "grid_auto_columns": null,
            "grid_auto_flow": null,
            "grid_auto_rows": null,
            "grid_column": null,
            "grid_gap": null,
            "grid_row": null,
            "grid_template_areas": null,
            "grid_template_columns": null,
            "grid_template_rows": null,
            "height": null,
            "justify_content": null,
            "justify_items": null,
            "left": null,
            "margin": null,
            "max_height": null,
            "max_width": null,
            "min_height": null,
            "min_width": null,
            "object_fit": null,
            "object_position": null,
            "order": null,
            "overflow": null,
            "overflow_x": null,
            "overflow_y": null,
            "padding": null,
            "right": null,
            "top": null,
            "visibility": null,
            "width": null
          }
        },
        "01c126ad9b02414e9a6433ea964f5f0a": {
          "model_module": "@jupyter-widgets/controls",
          "model_name": "DescriptionStyleModel",
          "model_module_version": "1.5.0",
          "state": {
            "_model_module": "@jupyter-widgets/controls",
            "_model_module_version": "1.5.0",
            "_model_name": "DescriptionStyleModel",
            "_view_count": null,
            "_view_module": "@jupyter-widgets/base",
            "_view_module_version": "1.2.0",
            "_view_name": "StyleView",
            "description_width": ""
          }
        },
        "fd8e60275a974a8eb9335693167f1755": {
          "model_module": "@jupyter-widgets/base",
          "model_name": "LayoutModel",
          "model_module_version": "1.2.0",
          "state": {
            "_model_module": "@jupyter-widgets/base",
            "_model_module_version": "1.2.0",
            "_model_name": "LayoutModel",
            "_view_count": null,
            "_view_module": "@jupyter-widgets/base",
            "_view_module_version": "1.2.0",
            "_view_name": "LayoutView",
            "align_content": null,
            "align_items": null,
            "align_self": null,
            "border": null,
            "bottom": null,
            "display": null,
            "flex": null,
            "flex_flow": null,
            "grid_area": null,
            "grid_auto_columns": null,
            "grid_auto_flow": null,
            "grid_auto_rows": null,
            "grid_column": null,
            "grid_gap": null,
            "grid_row": null,
            "grid_template_areas": null,
            "grid_template_columns": null,
            "grid_template_rows": null,
            "height": null,
            "justify_content": null,
            "justify_items": null,
            "left": null,
            "margin": null,
            "max_height": null,
            "max_width": null,
            "min_height": null,
            "min_width": null,
            "object_fit": null,
            "object_position": null,
            "order": null,
            "overflow": null,
            "overflow_x": null,
            "overflow_y": null,
            "padding": null,
            "right": null,
            "top": null,
            "visibility": null,
            "width": null
          }
        },
        "7a2e740750a14ee791536aca54d6a970": {
          "model_module": "@jupyter-widgets/controls",
          "model_name": "ProgressStyleModel",
          "model_module_version": "1.5.0",
          "state": {
            "_model_module": "@jupyter-widgets/controls",
            "_model_module_version": "1.5.0",
            "_model_name": "ProgressStyleModel",
            "_view_count": null,
            "_view_module": "@jupyter-widgets/base",
            "_view_module_version": "1.2.0",
            "_view_name": "StyleView",
            "bar_color": null,
            "description_width": ""
          }
        },
        "7e32d73c3ee04b108c6375483f01e8f6": {
          "model_module": "@jupyter-widgets/base",
          "model_name": "LayoutModel",
          "model_module_version": "1.2.0",
          "state": {
            "_model_module": "@jupyter-widgets/base",
            "_model_module_version": "1.2.0",
            "_model_name": "LayoutModel",
            "_view_count": null,
            "_view_module": "@jupyter-widgets/base",
            "_view_module_version": "1.2.0",
            "_view_name": "LayoutView",
            "align_content": null,
            "align_items": null,
            "align_self": null,
            "border": null,
            "bottom": null,
            "display": null,
            "flex": null,
            "flex_flow": null,
            "grid_area": null,
            "grid_auto_columns": null,
            "grid_auto_flow": null,
            "grid_auto_rows": null,
            "grid_column": null,
            "grid_gap": null,
            "grid_row": null,
            "grid_template_areas": null,
            "grid_template_columns": null,
            "grid_template_rows": null,
            "height": null,
            "justify_content": null,
            "justify_items": null,
            "left": null,
            "margin": null,
            "max_height": null,
            "max_width": null,
            "min_height": null,
            "min_width": null,
            "object_fit": null,
            "object_position": null,
            "order": null,
            "overflow": null,
            "overflow_x": null,
            "overflow_y": null,
            "padding": null,
            "right": null,
            "top": null,
            "visibility": null,
            "width": null
          }
        },
        "4306cda06e51453a866b349ea53f0ab2": {
          "model_module": "@jupyter-widgets/controls",
          "model_name": "DescriptionStyleModel",
          "model_module_version": "1.5.0",
          "state": {
            "_model_module": "@jupyter-widgets/controls",
            "_model_module_version": "1.5.0",
            "_model_name": "DescriptionStyleModel",
            "_view_count": null,
            "_view_module": "@jupyter-widgets/base",
            "_view_module_version": "1.2.0",
            "_view_name": "StyleView",
            "description_width": ""
          }
        },
        "f007839cf6ba468497b08c1f05ffb8b6": {
          "model_module": "@jupyter-widgets/controls",
          "model_name": "HBoxModel",
          "model_module_version": "1.5.0",
          "state": {
            "_dom_classes": [],
            "_model_module": "@jupyter-widgets/controls",
            "_model_module_version": "1.5.0",
            "_model_name": "HBoxModel",
            "_view_count": null,
            "_view_module": "@jupyter-widgets/controls",
            "_view_module_version": "1.5.0",
            "_view_name": "HBoxView",
            "box_style": "",
            "children": [
              "IPY_MODEL_864e9d78bdaf4de1bfad6fa42d9128e9",
              "IPY_MODEL_ba52dcd1ff48430291438a93898d5a47",
              "IPY_MODEL_13b45086d8794c87a32daf08caa562fa"
            ],
            "layout": "IPY_MODEL_6e80e468862842bfaa1fcd771259f257"
          }
        },
        "864e9d78bdaf4de1bfad6fa42d9128e9": {
          "model_module": "@jupyter-widgets/controls",
          "model_name": "HTMLModel",
          "model_module_version": "1.5.0",
          "state": {
            "_dom_classes": [],
            "_model_module": "@jupyter-widgets/controls",
            "_model_module_version": "1.5.0",
            "_model_name": "HTMLModel",
            "_view_count": null,
            "_view_module": "@jupyter-widgets/controls",
            "_view_module_version": "1.5.0",
            "_view_name": "HTMLView",
            "description": "",
            "description_tooltip": null,
            "layout": "IPY_MODEL_fd2732aa949244ac9e381f7540e16fcf",
            "placeholder": "​",
            "style": "IPY_MODEL_52d60c88956e4e9aa02d7a6a4bd6ee0e",
            "value": "tokenizer.json: 100%"
          }
        },
        "ba52dcd1ff48430291438a93898d5a47": {
          "model_module": "@jupyter-widgets/controls",
          "model_name": "FloatProgressModel",
          "model_module_version": "1.5.0",
          "state": {
            "_dom_classes": [],
            "_model_module": "@jupyter-widgets/controls",
            "_model_module_version": "1.5.0",
            "_model_name": "FloatProgressModel",
            "_view_count": null,
            "_view_module": "@jupyter-widgets/controls",
            "_view_module_version": "1.5.0",
            "_view_name": "ProgressView",
            "bar_style": "success",
            "description": "",
            "description_tooltip": null,
            "layout": "IPY_MODEL_d7ba57c909aa4d1dafe4c204d4b86ac6",
            "max": 1715180,
            "min": 0,
            "orientation": "horizontal",
            "style": "IPY_MODEL_ccf3b5d4e8ff4a189d32bcf92bea5497",
            "value": 1715180
          }
        },
        "13b45086d8794c87a32daf08caa562fa": {
          "model_module": "@jupyter-widgets/controls",
          "model_name": "HTMLModel",
          "model_module_version": "1.5.0",
          "state": {
            "_dom_classes": [],
            "_model_module": "@jupyter-widgets/controls",
            "_model_module_version": "1.5.0",
            "_model_name": "HTMLModel",
            "_view_count": null,
            "_view_module": "@jupyter-widgets/controls",
            "_view_module_version": "1.5.0",
            "_view_name": "HTMLView",
            "description": "",
            "description_tooltip": null,
            "layout": "IPY_MODEL_9cd49fdf3edd4ac3a8df3ef35fed3ebf",
            "placeholder": "​",
            "style": "IPY_MODEL_96c295d1083d4ad99247d9049983488a",
            "value": " 1.72M/1.72M [00:00&lt;00:00, 27.8MB/s]"
          }
        },
        "6e80e468862842bfaa1fcd771259f257": {
          "model_module": "@jupyter-widgets/base",
          "model_name": "LayoutModel",
          "model_module_version": "1.2.0",
          "state": {
            "_model_module": "@jupyter-widgets/base",
            "_model_module_version": "1.2.0",
            "_model_name": "LayoutModel",
            "_view_count": null,
            "_view_module": "@jupyter-widgets/base",
            "_view_module_version": "1.2.0",
            "_view_name": "LayoutView",
            "align_content": null,
            "align_items": null,
            "align_self": null,
            "border": null,
            "bottom": null,
            "display": null,
            "flex": null,
            "flex_flow": null,
            "grid_area": null,
            "grid_auto_columns": null,
            "grid_auto_flow": null,
            "grid_auto_rows": null,
            "grid_column": null,
            "grid_gap": null,
            "grid_row": null,
            "grid_template_areas": null,
            "grid_template_columns": null,
            "grid_template_rows": null,
            "height": null,
            "justify_content": null,
            "justify_items": null,
            "left": null,
            "margin": null,
            "max_height": null,
            "max_width": null,
            "min_height": null,
            "min_width": null,
            "object_fit": null,
            "object_position": null,
            "order": null,
            "overflow": null,
            "overflow_x": null,
            "overflow_y": null,
            "padding": null,
            "right": null,
            "top": null,
            "visibility": null,
            "width": null
          }
        },
        "fd2732aa949244ac9e381f7540e16fcf": {
          "model_module": "@jupyter-widgets/base",
          "model_name": "LayoutModel",
          "model_module_version": "1.2.0",
          "state": {
            "_model_module": "@jupyter-widgets/base",
            "_model_module_version": "1.2.0",
            "_model_name": "LayoutModel",
            "_view_count": null,
            "_view_module": "@jupyter-widgets/base",
            "_view_module_version": "1.2.0",
            "_view_name": "LayoutView",
            "align_content": null,
            "align_items": null,
            "align_self": null,
            "border": null,
            "bottom": null,
            "display": null,
            "flex": null,
            "flex_flow": null,
            "grid_area": null,
            "grid_auto_columns": null,
            "grid_auto_flow": null,
            "grid_auto_rows": null,
            "grid_column": null,
            "grid_gap": null,
            "grid_row": null,
            "grid_template_areas": null,
            "grid_template_columns": null,
            "grid_template_rows": null,
            "height": null,
            "justify_content": null,
            "justify_items": null,
            "left": null,
            "margin": null,
            "max_height": null,
            "max_width": null,
            "min_height": null,
            "min_width": null,
            "object_fit": null,
            "object_position": null,
            "order": null,
            "overflow": null,
            "overflow_x": null,
            "overflow_y": null,
            "padding": null,
            "right": null,
            "top": null,
            "visibility": null,
            "width": null
          }
        },
        "52d60c88956e4e9aa02d7a6a4bd6ee0e": {
          "model_module": "@jupyter-widgets/controls",
          "model_name": "DescriptionStyleModel",
          "model_module_version": "1.5.0",
          "state": {
            "_model_module": "@jupyter-widgets/controls",
            "_model_module_version": "1.5.0",
            "_model_name": "DescriptionStyleModel",
            "_view_count": null,
            "_view_module": "@jupyter-widgets/base",
            "_view_module_version": "1.2.0",
            "_view_name": "StyleView",
            "description_width": ""
          }
        },
        "d7ba57c909aa4d1dafe4c204d4b86ac6": {
          "model_module": "@jupyter-widgets/base",
          "model_name": "LayoutModel",
          "model_module_version": "1.2.0",
          "state": {
            "_model_module": "@jupyter-widgets/base",
            "_model_module_version": "1.2.0",
            "_model_name": "LayoutModel",
            "_view_count": null,
            "_view_module": "@jupyter-widgets/base",
            "_view_module_version": "1.2.0",
            "_view_name": "LayoutView",
            "align_content": null,
            "align_items": null,
            "align_self": null,
            "border": null,
            "bottom": null,
            "display": null,
            "flex": null,
            "flex_flow": null,
            "grid_area": null,
            "grid_auto_columns": null,
            "grid_auto_flow": null,
            "grid_auto_rows": null,
            "grid_column": null,
            "grid_gap": null,
            "grid_row": null,
            "grid_template_areas": null,
            "grid_template_columns": null,
            "grid_template_rows": null,
            "height": null,
            "justify_content": null,
            "justify_items": null,
            "left": null,
            "margin": null,
            "max_height": null,
            "max_width": null,
            "min_height": null,
            "min_width": null,
            "object_fit": null,
            "object_position": null,
            "order": null,
            "overflow": null,
            "overflow_x": null,
            "overflow_y": null,
            "padding": null,
            "right": null,
            "top": null,
            "visibility": null,
            "width": null
          }
        },
        "ccf3b5d4e8ff4a189d32bcf92bea5497": {
          "model_module": "@jupyter-widgets/controls",
          "model_name": "ProgressStyleModel",
          "model_module_version": "1.5.0",
          "state": {
            "_model_module": "@jupyter-widgets/controls",
            "_model_module_version": "1.5.0",
            "_model_name": "ProgressStyleModel",
            "_view_count": null,
            "_view_module": "@jupyter-widgets/base",
            "_view_module_version": "1.2.0",
            "_view_name": "StyleView",
            "bar_color": null,
            "description_width": ""
          }
        },
        "9cd49fdf3edd4ac3a8df3ef35fed3ebf": {
          "model_module": "@jupyter-widgets/base",
          "model_name": "LayoutModel",
          "model_module_version": "1.2.0",
          "state": {
            "_model_module": "@jupyter-widgets/base",
            "_model_module_version": "1.2.0",
            "_model_name": "LayoutModel",
            "_view_count": null,
            "_view_module": "@jupyter-widgets/base",
            "_view_module_version": "1.2.0",
            "_view_name": "LayoutView",
            "align_content": null,
            "align_items": null,
            "align_self": null,
            "border": null,
            "bottom": null,
            "display": null,
            "flex": null,
            "flex_flow": null,
            "grid_area": null,
            "grid_auto_columns": null,
            "grid_auto_flow": null,
            "grid_auto_rows": null,
            "grid_column": null,
            "grid_gap": null,
            "grid_row": null,
            "grid_template_areas": null,
            "grid_template_columns": null,
            "grid_template_rows": null,
            "height": null,
            "justify_content": null,
            "justify_items": null,
            "left": null,
            "margin": null,
            "max_height": null,
            "max_width": null,
            "min_height": null,
            "min_width": null,
            "object_fit": null,
            "object_position": null,
            "order": null,
            "overflow": null,
            "overflow_x": null,
            "overflow_y": null,
            "padding": null,
            "right": null,
            "top": null,
            "visibility": null,
            "width": null
          }
        },
        "96c295d1083d4ad99247d9049983488a": {
          "model_module": "@jupyter-widgets/controls",
          "model_name": "DescriptionStyleModel",
          "model_module_version": "1.5.0",
          "state": {
            "_model_module": "@jupyter-widgets/controls",
            "_model_module_version": "1.5.0",
            "_model_name": "DescriptionStyleModel",
            "_view_count": null,
            "_view_module": "@jupyter-widgets/base",
            "_view_module_version": "1.2.0",
            "_view_name": "StyleView",
            "description_width": ""
          }
        },
        "5eed1eb1c45d459da822fa5e42839967": {
          "model_module": "@jupyter-widgets/controls",
          "model_name": "HBoxModel",
          "model_module_version": "1.5.0",
          "state": {
            "_dom_classes": [],
            "_model_module": "@jupyter-widgets/controls",
            "_model_module_version": "1.5.0",
            "_model_name": "HBoxModel",
            "_view_count": null,
            "_view_module": "@jupyter-widgets/controls",
            "_view_module_version": "1.5.0",
            "_view_name": "HBoxView",
            "box_style": "",
            "children": [
              "IPY_MODEL_b8ed637c533748d6931cd0ca6a6acbe3",
              "IPY_MODEL_7e7f820ef25a444ea585a93a744624f7",
              "IPY_MODEL_8bffd063988d486dadbd4fc9036b8a82"
            ],
            "layout": "IPY_MODEL_ee24fcd3043c439f83ed329003ba8d1b"
          }
        },
        "b8ed637c533748d6931cd0ca6a6acbe3": {
          "model_module": "@jupyter-widgets/controls",
          "model_name": "HTMLModel",
          "model_module_version": "1.5.0",
          "state": {
            "_dom_classes": [],
            "_model_module": "@jupyter-widgets/controls",
            "_model_module_version": "1.5.0",
            "_model_name": "HTMLModel",
            "_view_count": null,
            "_view_module": "@jupyter-widgets/controls",
            "_view_module_version": "1.5.0",
            "_view_name": "HTMLView",
            "description": "",
            "description_tooltip": null,
            "layout": "IPY_MODEL_41fb91a6d7714e53811006261d8da181",
            "placeholder": "​",
            "style": "IPY_MODEL_e175e0e4629b42689af023bbfe1bdf6f",
            "value": "config.json: 100%"
          }
        },
        "7e7f820ef25a444ea585a93a744624f7": {
          "model_module": "@jupyter-widgets/controls",
          "model_name": "FloatProgressModel",
          "model_module_version": "1.5.0",
          "state": {
            "_dom_classes": [],
            "_model_module": "@jupyter-widgets/controls",
            "_model_module_version": "1.5.0",
            "_model_name": "FloatProgressModel",
            "_view_count": null,
            "_view_module": "@jupyter-widgets/controls",
            "_view_module_version": "1.5.0",
            "_view_name": "ProgressView",
            "bar_style": "success",
            "description": "",
            "description_tooltip": null,
            "layout": "IPY_MODEL_98447fcd51eb4dbb9a7fe232dd1a99dd",
            "max": 625,
            "min": 0,
            "orientation": "horizontal",
            "style": "IPY_MODEL_ea182031bbbf4e37a5eeb1d2034be9f3",
            "value": 625
          }
        },
        "8bffd063988d486dadbd4fc9036b8a82": {
          "model_module": "@jupyter-widgets/controls",
          "model_name": "HTMLModel",
          "model_module_version": "1.5.0",
          "state": {
            "_dom_classes": [],
            "_model_module": "@jupyter-widgets/controls",
            "_model_module_version": "1.5.0",
            "_model_name": "HTMLModel",
            "_view_count": null,
            "_view_module": "@jupyter-widgets/controls",
            "_view_module_version": "1.5.0",
            "_view_name": "HTMLView",
            "description": "",
            "description_tooltip": null,
            "layout": "IPY_MODEL_ee4d3a21bf794d59a2ab6fc91d675a8f",
            "placeholder": "​",
            "style": "IPY_MODEL_ac971d05df2042dd94e1dd62c355f49b",
            "value": " 625/625 [00:00&lt;00:00, 9.51kB/s]"
          }
        },
        "ee24fcd3043c439f83ed329003ba8d1b": {
          "model_module": "@jupyter-widgets/base",
          "model_name": "LayoutModel",
          "model_module_version": "1.2.0",
          "state": {
            "_model_module": "@jupyter-widgets/base",
            "_model_module_version": "1.2.0",
            "_model_name": "LayoutModel",
            "_view_count": null,
            "_view_module": "@jupyter-widgets/base",
            "_view_module_version": "1.2.0",
            "_view_name": "LayoutView",
            "align_content": null,
            "align_items": null,
            "align_self": null,
            "border": null,
            "bottom": null,
            "display": null,
            "flex": null,
            "flex_flow": null,
            "grid_area": null,
            "grid_auto_columns": null,
            "grid_auto_flow": null,
            "grid_auto_rows": null,
            "grid_column": null,
            "grid_gap": null,
            "grid_row": null,
            "grid_template_areas": null,
            "grid_template_columns": null,
            "grid_template_rows": null,
            "height": null,
            "justify_content": null,
            "justify_items": null,
            "left": null,
            "margin": null,
            "max_height": null,
            "max_width": null,
            "min_height": null,
            "min_width": null,
            "object_fit": null,
            "object_position": null,
            "order": null,
            "overflow": null,
            "overflow_x": null,
            "overflow_y": null,
            "padding": null,
            "right": null,
            "top": null,
            "visibility": null,
            "width": null
          }
        },
        "41fb91a6d7714e53811006261d8da181": {
          "model_module": "@jupyter-widgets/base",
          "model_name": "LayoutModel",
          "model_module_version": "1.2.0",
          "state": {
            "_model_module": "@jupyter-widgets/base",
            "_model_module_version": "1.2.0",
            "_model_name": "LayoutModel",
            "_view_count": null,
            "_view_module": "@jupyter-widgets/base",
            "_view_module_version": "1.2.0",
            "_view_name": "LayoutView",
            "align_content": null,
            "align_items": null,
            "align_self": null,
            "border": null,
            "bottom": null,
            "display": null,
            "flex": null,
            "flex_flow": null,
            "grid_area": null,
            "grid_auto_columns": null,
            "grid_auto_flow": null,
            "grid_auto_rows": null,
            "grid_column": null,
            "grid_gap": null,
            "grid_row": null,
            "grid_template_areas": null,
            "grid_template_columns": null,
            "grid_template_rows": null,
            "height": null,
            "justify_content": null,
            "justify_items": null,
            "left": null,
            "margin": null,
            "max_height": null,
            "max_width": null,
            "min_height": null,
            "min_width": null,
            "object_fit": null,
            "object_position": null,
            "order": null,
            "overflow": null,
            "overflow_x": null,
            "overflow_y": null,
            "padding": null,
            "right": null,
            "top": null,
            "visibility": null,
            "width": null
          }
        },
        "e175e0e4629b42689af023bbfe1bdf6f": {
          "model_module": "@jupyter-widgets/controls",
          "model_name": "DescriptionStyleModel",
          "model_module_version": "1.5.0",
          "state": {
            "_model_module": "@jupyter-widgets/controls",
            "_model_module_version": "1.5.0",
            "_model_name": "DescriptionStyleModel",
            "_view_count": null,
            "_view_module": "@jupyter-widgets/base",
            "_view_module_version": "1.2.0",
            "_view_name": "StyleView",
            "description_width": ""
          }
        },
        "98447fcd51eb4dbb9a7fe232dd1a99dd": {
          "model_module": "@jupyter-widgets/base",
          "model_name": "LayoutModel",
          "model_module_version": "1.2.0",
          "state": {
            "_model_module": "@jupyter-widgets/base",
            "_model_module_version": "1.2.0",
            "_model_name": "LayoutModel",
            "_view_count": null,
            "_view_module": "@jupyter-widgets/base",
            "_view_module_version": "1.2.0",
            "_view_name": "LayoutView",
            "align_content": null,
            "align_items": null,
            "align_self": null,
            "border": null,
            "bottom": null,
            "display": null,
            "flex": null,
            "flex_flow": null,
            "grid_area": null,
            "grid_auto_columns": null,
            "grid_auto_flow": null,
            "grid_auto_rows": null,
            "grid_column": null,
            "grid_gap": null,
            "grid_row": null,
            "grid_template_areas": null,
            "grid_template_columns": null,
            "grid_template_rows": null,
            "height": null,
            "justify_content": null,
            "justify_items": null,
            "left": null,
            "margin": null,
            "max_height": null,
            "max_width": null,
            "min_height": null,
            "min_width": null,
            "object_fit": null,
            "object_position": null,
            "order": null,
            "overflow": null,
            "overflow_x": null,
            "overflow_y": null,
            "padding": null,
            "right": null,
            "top": null,
            "visibility": null,
            "width": null
          }
        },
        "ea182031bbbf4e37a5eeb1d2034be9f3": {
          "model_module": "@jupyter-widgets/controls",
          "model_name": "ProgressStyleModel",
          "model_module_version": "1.5.0",
          "state": {
            "_model_module": "@jupyter-widgets/controls",
            "_model_module_version": "1.5.0",
            "_model_name": "ProgressStyleModel",
            "_view_count": null,
            "_view_module": "@jupyter-widgets/base",
            "_view_module_version": "1.2.0",
            "_view_name": "StyleView",
            "bar_color": null,
            "description_width": ""
          }
        },
        "ee4d3a21bf794d59a2ab6fc91d675a8f": {
          "model_module": "@jupyter-widgets/base",
          "model_name": "LayoutModel",
          "model_module_version": "1.2.0",
          "state": {
            "_model_module": "@jupyter-widgets/base",
            "_model_module_version": "1.2.0",
            "_model_name": "LayoutModel",
            "_view_count": null,
            "_view_module": "@jupyter-widgets/base",
            "_view_module_version": "1.2.0",
            "_view_name": "LayoutView",
            "align_content": null,
            "align_items": null,
            "align_self": null,
            "border": null,
            "bottom": null,
            "display": null,
            "flex": null,
            "flex_flow": null,
            "grid_area": null,
            "grid_auto_columns": null,
            "grid_auto_flow": null,
            "grid_auto_rows": null,
            "grid_column": null,
            "grid_gap": null,
            "grid_row": null,
            "grid_template_areas": null,
            "grid_template_columns": null,
            "grid_template_rows": null,
            "height": null,
            "justify_content": null,
            "justify_items": null,
            "left": null,
            "margin": null,
            "max_height": null,
            "max_width": null,
            "min_height": null,
            "min_width": null,
            "object_fit": null,
            "object_position": null,
            "order": null,
            "overflow": null,
            "overflow_x": null,
            "overflow_y": null,
            "padding": null,
            "right": null,
            "top": null,
            "visibility": null,
            "width": null
          }
        },
        "ac971d05df2042dd94e1dd62c355f49b": {
          "model_module": "@jupyter-widgets/controls",
          "model_name": "DescriptionStyleModel",
          "model_module_version": "1.5.0",
          "state": {
            "_model_module": "@jupyter-widgets/controls",
            "_model_module_version": "1.5.0",
            "_model_name": "DescriptionStyleModel",
            "_view_count": null,
            "_view_module": "@jupyter-widgets/base",
            "_view_module_version": "1.2.0",
            "_view_name": "StyleView",
            "description_width": ""
          }
        },
        "f81a91b66d9d48d7b5ff0198c0dd8341": {
          "model_module": "@jupyter-widgets/controls",
          "model_name": "HBoxModel",
          "model_module_version": "1.5.0",
          "state": {
            "_dom_classes": [],
            "_model_module": "@jupyter-widgets/controls",
            "_model_module_version": "1.5.0",
            "_model_name": "HBoxModel",
            "_view_count": null,
            "_view_module": "@jupyter-widgets/controls",
            "_view_module_version": "1.5.0",
            "_view_name": "HBoxView",
            "box_style": "",
            "children": [
              "IPY_MODEL_ecb896afe2eb4e6bbbeee5b1ac4f01ab",
              "IPY_MODEL_790ec19775904301ade937247b5b3742",
              "IPY_MODEL_e738921a3ec64edd819d837c24c0f65c"
            ],
            "layout": "IPY_MODEL_3a75ca6dcd254b27a41ec9492c8701d9"
          }
        },
        "ecb896afe2eb4e6bbbeee5b1ac4f01ab": {
          "model_module": "@jupyter-widgets/controls",
          "model_name": "HTMLModel",
          "model_module_version": "1.5.0",
          "state": {
            "_dom_classes": [],
            "_model_module": "@jupyter-widgets/controls",
            "_model_module_version": "1.5.0",
            "_model_name": "HTMLModel",
            "_view_count": null,
            "_view_module": "@jupyter-widgets/controls",
            "_view_module_version": "1.5.0",
            "_view_name": "HTMLView",
            "description": "",
            "description_tooltip": null,
            "layout": "IPY_MODEL_e18e995fca87463a87f7c56b66e38719",
            "placeholder": "​",
            "style": "IPY_MODEL_539f6ff2001a441586156800b9b81626",
            "value": "model.safetensors: 100%"
          }
        },
        "790ec19775904301ade937247b5b3742": {
          "model_module": "@jupyter-widgets/controls",
          "model_name": "FloatProgressModel",
          "model_module_version": "1.5.0",
          "state": {
            "_dom_classes": [],
            "_model_module": "@jupyter-widgets/controls",
            "_model_module_version": "1.5.0",
            "_model_name": "FloatProgressModel",
            "_view_count": null,
            "_view_module": "@jupyter-widgets/controls",
            "_view_module_version": "1.5.0",
            "_view_name": "ProgressView",
            "bar_style": "success",
            "description": "",
            "description_tooltip": null,
            "layout": "IPY_MODEL_23392ab39bba4ef6b6102073ab6b6cce",
            "max": 672247920,
            "min": 0,
            "orientation": "horizontal",
            "style": "IPY_MODEL_213ebd9bcc814d3db75edb48a905b595",
            "value": 672247920
          }
        },
        "e738921a3ec64edd819d837c24c0f65c": {
          "model_module": "@jupyter-widgets/controls",
          "model_name": "HTMLModel",
          "model_module_version": "1.5.0",
          "state": {
            "_dom_classes": [],
            "_model_module": "@jupyter-widgets/controls",
            "_model_module_version": "1.5.0",
            "_model_name": "HTMLModel",
            "_view_count": null,
            "_view_module": "@jupyter-widgets/controls",
            "_view_module_version": "1.5.0",
            "_view_name": "HTMLView",
            "description": "",
            "description_tooltip": null,
            "layout": "IPY_MODEL_0d6efb7b4e32482894a7ef474eff3feb",
            "placeholder": "​",
            "style": "IPY_MODEL_2e7ef129e41a469fb6a233fabe48c842",
            "value": " 672M/672M [00:07&lt;00:00, 101MB/s]"
          }
        },
        "3a75ca6dcd254b27a41ec9492c8701d9": {
          "model_module": "@jupyter-widgets/base",
          "model_name": "LayoutModel",
          "model_module_version": "1.2.0",
          "state": {
            "_model_module": "@jupyter-widgets/base",
            "_model_module_version": "1.2.0",
            "_model_name": "LayoutModel",
            "_view_count": null,
            "_view_module": "@jupyter-widgets/base",
            "_view_module_version": "1.2.0",
            "_view_name": "LayoutView",
            "align_content": null,
            "align_items": null,
            "align_self": null,
            "border": null,
            "bottom": null,
            "display": null,
            "flex": null,
            "flex_flow": null,
            "grid_area": null,
            "grid_auto_columns": null,
            "grid_auto_flow": null,
            "grid_auto_rows": null,
            "grid_column": null,
            "grid_gap": null,
            "grid_row": null,
            "grid_template_areas": null,
            "grid_template_columns": null,
            "grid_template_rows": null,
            "height": null,
            "justify_content": null,
            "justify_items": null,
            "left": null,
            "margin": null,
            "max_height": null,
            "max_width": null,
            "min_height": null,
            "min_width": null,
            "object_fit": null,
            "object_position": null,
            "order": null,
            "overflow": null,
            "overflow_x": null,
            "overflow_y": null,
            "padding": null,
            "right": null,
            "top": null,
            "visibility": null,
            "width": null
          }
        },
        "e18e995fca87463a87f7c56b66e38719": {
          "model_module": "@jupyter-widgets/base",
          "model_name": "LayoutModel",
          "model_module_version": "1.2.0",
          "state": {
            "_model_module": "@jupyter-widgets/base",
            "_model_module_version": "1.2.0",
            "_model_name": "LayoutModel",
            "_view_count": null,
            "_view_module": "@jupyter-widgets/base",
            "_view_module_version": "1.2.0",
            "_view_name": "LayoutView",
            "align_content": null,
            "align_items": null,
            "align_self": null,
            "border": null,
            "bottom": null,
            "display": null,
            "flex": null,
            "flex_flow": null,
            "grid_area": null,
            "grid_auto_columns": null,
            "grid_auto_flow": null,
            "grid_auto_rows": null,
            "grid_column": null,
            "grid_gap": null,
            "grid_row": null,
            "grid_template_areas": null,
            "grid_template_columns": null,
            "grid_template_rows": null,
            "height": null,
            "justify_content": null,
            "justify_items": null,
            "left": null,
            "margin": null,
            "max_height": null,
            "max_width": null,
            "min_height": null,
            "min_width": null,
            "object_fit": null,
            "object_position": null,
            "order": null,
            "overflow": null,
            "overflow_x": null,
            "overflow_y": null,
            "padding": null,
            "right": null,
            "top": null,
            "visibility": null,
            "width": null
          }
        },
        "539f6ff2001a441586156800b9b81626": {
          "model_module": "@jupyter-widgets/controls",
          "model_name": "DescriptionStyleModel",
          "model_module_version": "1.5.0",
          "state": {
            "_model_module": "@jupyter-widgets/controls",
            "_model_module_version": "1.5.0",
            "_model_name": "DescriptionStyleModel",
            "_view_count": null,
            "_view_module": "@jupyter-widgets/base",
            "_view_module_version": "1.2.0",
            "_view_name": "StyleView",
            "description_width": ""
          }
        },
        "23392ab39bba4ef6b6102073ab6b6cce": {
          "model_module": "@jupyter-widgets/base",
          "model_name": "LayoutModel",
          "model_module_version": "1.2.0",
          "state": {
            "_model_module": "@jupyter-widgets/base",
            "_model_module_version": "1.2.0",
            "_model_name": "LayoutModel",
            "_view_count": null,
            "_view_module": "@jupyter-widgets/base",
            "_view_module_version": "1.2.0",
            "_view_name": "LayoutView",
            "align_content": null,
            "align_items": null,
            "align_self": null,
            "border": null,
            "bottom": null,
            "display": null,
            "flex": null,
            "flex_flow": null,
            "grid_area": null,
            "grid_auto_columns": null,
            "grid_auto_flow": null,
            "grid_auto_rows": null,
            "grid_column": null,
            "grid_gap": null,
            "grid_row": null,
            "grid_template_areas": null,
            "grid_template_columns": null,
            "grid_template_rows": null,
            "height": null,
            "justify_content": null,
            "justify_items": null,
            "left": null,
            "margin": null,
            "max_height": null,
            "max_width": null,
            "min_height": null,
            "min_width": null,
            "object_fit": null,
            "object_position": null,
            "order": null,
            "overflow": null,
            "overflow_x": null,
            "overflow_y": null,
            "padding": null,
            "right": null,
            "top": null,
            "visibility": null,
            "width": null
          }
        },
        "213ebd9bcc814d3db75edb48a905b595": {
          "model_module": "@jupyter-widgets/controls",
          "model_name": "ProgressStyleModel",
          "model_module_version": "1.5.0",
          "state": {
            "_model_module": "@jupyter-widgets/controls",
            "_model_module_version": "1.5.0",
            "_model_name": "ProgressStyleModel",
            "_view_count": null,
            "_view_module": "@jupyter-widgets/base",
            "_view_module_version": "1.2.0",
            "_view_name": "StyleView",
            "bar_color": null,
            "description_width": ""
          }
        },
        "0d6efb7b4e32482894a7ef474eff3feb": {
          "model_module": "@jupyter-widgets/base",
          "model_name": "LayoutModel",
          "model_module_version": "1.2.0",
          "state": {
            "_model_module": "@jupyter-widgets/base",
            "_model_module_version": "1.2.0",
            "_model_name": "LayoutModel",
            "_view_count": null,
            "_view_module": "@jupyter-widgets/base",
            "_view_module_version": "1.2.0",
            "_view_name": "LayoutView",
            "align_content": null,
            "align_items": null,
            "align_self": null,
            "border": null,
            "bottom": null,
            "display": null,
            "flex": null,
            "flex_flow": null,
            "grid_area": null,
            "grid_auto_columns": null,
            "grid_auto_flow": null,
            "grid_auto_rows": null,
            "grid_column": null,
            "grid_gap": null,
            "grid_row": null,
            "grid_template_areas": null,
            "grid_template_columns": null,
            "grid_template_rows": null,
            "height": null,
            "justify_content": null,
            "justify_items": null,
            "left": null,
            "margin": null,
            "max_height": null,
            "max_width": null,
            "min_height": null,
            "min_width": null,
            "object_fit": null,
            "object_position": null,
            "order": null,
            "overflow": null,
            "overflow_x": null,
            "overflow_y": null,
            "padding": null,
            "right": null,
            "top": null,
            "visibility": null,
            "width": null
          }
        },
        "2e7ef129e41a469fb6a233fabe48c842": {
          "model_module": "@jupyter-widgets/controls",
          "model_name": "DescriptionStyleModel",
          "model_module_version": "1.5.0",
          "state": {
            "_model_module": "@jupyter-widgets/controls",
            "_model_module_version": "1.5.0",
            "_model_name": "DescriptionStyleModel",
            "_view_count": null,
            "_view_module": "@jupyter-widgets/base",
            "_view_module_version": "1.2.0",
            "_view_name": "StyleView",
            "description_width": ""
          }
        }
      }
    }
  },
  "cells": [
    {
      "cell_type": "code",
      "source": [
        "from google.colab import files\n",
        "files.upload()"
      ],
      "metadata": {
        "colab": {
          "base_uri": "https://localhost:8080/",
          "height": 58
        },
        "id": "13LxyoKzskus",
        "outputId": "ba498f38-ca98-43df-d144-b5eb7239922c"
      },
      "execution_count": 2,
      "outputs": [
        {
          "output_type": "display_data",
          "data": {
            "text/plain": [
              "<IPython.core.display.HTML object>"
            ],
            "text/html": [
              "\n",
              "     <input type=\"file\" id=\"files-d84a8132-2e17-4d5e-a0f8-20928982cd89\" name=\"files[]\" multiple disabled\n",
              "        style=\"border:none\" />\n",
              "     <output id=\"result-d84a8132-2e17-4d5e-a0f8-20928982cd89\">\n",
              "      Upload widget is only available when the cell has been executed in the\n",
              "      current browser session. Please rerun this cell to enable.\n",
              "      </output>\n",
              "      <script>// Copyright 2017 Google LLC\n",
              "//\n",
              "// Licensed under the Apache License, Version 2.0 (the \"License\");\n",
              "// you may not use this file except in compliance with the License.\n",
              "// You may obtain a copy of the License at\n",
              "//\n",
              "//      http://www.apache.org/licenses/LICENSE-2.0\n",
              "//\n",
              "// Unless required by applicable law or agreed to in writing, software\n",
              "// distributed under the License is distributed on an \"AS IS\" BASIS,\n",
              "// WITHOUT WARRANTIES OR CONDITIONS OF ANY KIND, either express or implied.\n",
              "// See the License for the specific language governing permissions and\n",
              "// limitations under the License.\n",
              "\n",
              "/**\n",
              " * @fileoverview Helpers for google.colab Python module.\n",
              " */\n",
              "(function(scope) {\n",
              "function span(text, styleAttributes = {}) {\n",
              "  const element = document.createElement('span');\n",
              "  element.textContent = text;\n",
              "  for (const key of Object.keys(styleAttributes)) {\n",
              "    element.style[key] = styleAttributes[key];\n",
              "  }\n",
              "  return element;\n",
              "}\n",
              "\n",
              "// Max number of bytes which will be uploaded at a time.\n",
              "const MAX_PAYLOAD_SIZE = 100 * 1024;\n",
              "\n",
              "function _uploadFiles(inputId, outputId) {\n",
              "  const steps = uploadFilesStep(inputId, outputId);\n",
              "  const outputElement = document.getElementById(outputId);\n",
              "  // Cache steps on the outputElement to make it available for the next call\n",
              "  // to uploadFilesContinue from Python.\n",
              "  outputElement.steps = steps;\n",
              "\n",
              "  return _uploadFilesContinue(outputId);\n",
              "}\n",
              "\n",
              "// This is roughly an async generator (not supported in the browser yet),\n",
              "// where there are multiple asynchronous steps and the Python side is going\n",
              "// to poll for completion of each step.\n",
              "// This uses a Promise to block the python side on completion of each step,\n",
              "// then passes the result of the previous step as the input to the next step.\n",
              "function _uploadFilesContinue(outputId) {\n",
              "  const outputElement = document.getElementById(outputId);\n",
              "  const steps = outputElement.steps;\n",
              "\n",
              "  const next = steps.next(outputElement.lastPromiseValue);\n",
              "  return Promise.resolve(next.value.promise).then((value) => {\n",
              "    // Cache the last promise value to make it available to the next\n",
              "    // step of the generator.\n",
              "    outputElement.lastPromiseValue = value;\n",
              "    return next.value.response;\n",
              "  });\n",
              "}\n",
              "\n",
              "/**\n",
              " * Generator function which is called between each async step of the upload\n",
              " * process.\n",
              " * @param {string} inputId Element ID of the input file picker element.\n",
              " * @param {string} outputId Element ID of the output display.\n",
              " * @return {!Iterable<!Object>} Iterable of next steps.\n",
              " */\n",
              "function* uploadFilesStep(inputId, outputId) {\n",
              "  const inputElement = document.getElementById(inputId);\n",
              "  inputElement.disabled = false;\n",
              "\n",
              "  const outputElement = document.getElementById(outputId);\n",
              "  outputElement.innerHTML = '';\n",
              "\n",
              "  const pickedPromise = new Promise((resolve) => {\n",
              "    inputElement.addEventListener('change', (e) => {\n",
              "      resolve(e.target.files);\n",
              "    });\n",
              "  });\n",
              "\n",
              "  const cancel = document.createElement('button');\n",
              "  inputElement.parentElement.appendChild(cancel);\n",
              "  cancel.textContent = 'Cancel upload';\n",
              "  const cancelPromise = new Promise((resolve) => {\n",
              "    cancel.onclick = () => {\n",
              "      resolve(null);\n",
              "    };\n",
              "  });\n",
              "\n",
              "  // Wait for the user to pick the files.\n",
              "  const files = yield {\n",
              "    promise: Promise.race([pickedPromise, cancelPromise]),\n",
              "    response: {\n",
              "      action: 'starting',\n",
              "    }\n",
              "  };\n",
              "\n",
              "  cancel.remove();\n",
              "\n",
              "  // Disable the input element since further picks are not allowed.\n",
              "  inputElement.disabled = true;\n",
              "\n",
              "  if (!files) {\n",
              "    return {\n",
              "      response: {\n",
              "        action: 'complete',\n",
              "      }\n",
              "    };\n",
              "  }\n",
              "\n",
              "  for (const file of files) {\n",
              "    const li = document.createElement('li');\n",
              "    li.append(span(file.name, {fontWeight: 'bold'}));\n",
              "    li.append(span(\n",
              "        `(${file.type || 'n/a'}) - ${file.size} bytes, ` +\n",
              "        `last modified: ${\n",
              "            file.lastModifiedDate ? file.lastModifiedDate.toLocaleDateString() :\n",
              "                                    'n/a'} - `));\n",
              "    const percent = span('0% done');\n",
              "    li.appendChild(percent);\n",
              "\n",
              "    outputElement.appendChild(li);\n",
              "\n",
              "    const fileDataPromise = new Promise((resolve) => {\n",
              "      const reader = new FileReader();\n",
              "      reader.onload = (e) => {\n",
              "        resolve(e.target.result);\n",
              "      };\n",
              "      reader.readAsArrayBuffer(file);\n",
              "    });\n",
              "    // Wait for the data to be ready.\n",
              "    let fileData = yield {\n",
              "      promise: fileDataPromise,\n",
              "      response: {\n",
              "        action: 'continue',\n",
              "      }\n",
              "    };\n",
              "\n",
              "    // Use a chunked sending to avoid message size limits. See b/62115660.\n",
              "    let position = 0;\n",
              "    do {\n",
              "      const length = Math.min(fileData.byteLength - position, MAX_PAYLOAD_SIZE);\n",
              "      const chunk = new Uint8Array(fileData, position, length);\n",
              "      position += length;\n",
              "\n",
              "      const base64 = btoa(String.fromCharCode.apply(null, chunk));\n",
              "      yield {\n",
              "        response: {\n",
              "          action: 'append',\n",
              "          file: file.name,\n",
              "          data: base64,\n",
              "        },\n",
              "      };\n",
              "\n",
              "      let percentDone = fileData.byteLength === 0 ?\n",
              "          100 :\n",
              "          Math.round((position / fileData.byteLength) * 100);\n",
              "      percent.textContent = `${percentDone}% done`;\n",
              "\n",
              "    } while (position < fileData.byteLength);\n",
              "  }\n",
              "\n",
              "  // All done.\n",
              "  yield {\n",
              "    response: {\n",
              "      action: 'complete',\n",
              "    }\n",
              "  };\n",
              "}\n",
              "\n",
              "scope.google = scope.google || {};\n",
              "scope.google.colab = scope.google.colab || {};\n",
              "scope.google.colab._files = {\n",
              "  _uploadFiles,\n",
              "  _uploadFilesContinue,\n",
              "};\n",
              "})(self);\n",
              "</script> "
            ]
          },
          "metadata": {}
        },
        {
          "output_type": "execute_result",
          "data": {
            "text/plain": [
              "{}"
            ]
          },
          "metadata": {},
          "execution_count": 2
        }
      ]
    },
    {
      "cell_type": "code",
      "source": [
        "import sys, re\n",
        "!pip install transformers\n",
        "from transformers import BertTokenizer, BertModel, AdamW, get_cosine_schedule_with_warmup\n",
        "import torch\n",
        "import torch.nn as nn\n",
        "import torch.nn.functional as F\n",
        "import matplotlib.pyplot as plt"
      ],
      "metadata": {
        "colab": {
          "base_uri": "https://localhost:8080/"
        },
        "id": "SmO0ETDFsrfQ",
        "outputId": "14a09803-0038-4ae7-ca57-3f9278a0ae44"
      },
      "execution_count": 12,
      "outputs": [
        {
          "output_type": "stream",
          "name": "stdout",
          "text": [
            "Requirement already satisfied: transformers in /usr/local/lib/python3.10/dist-packages (4.35.2)\n",
            "Requirement already satisfied: filelock in /usr/local/lib/python3.10/dist-packages (from transformers) (3.13.1)\n",
            "Requirement already satisfied: huggingface-hub<1.0,>=0.16.4 in /usr/local/lib/python3.10/dist-packages (from transformers) (0.19.4)\n",
            "Requirement already satisfied: numpy>=1.17 in /usr/local/lib/python3.10/dist-packages (from transformers) (1.23.5)\n",
            "Requirement already satisfied: packaging>=20.0 in /usr/local/lib/python3.10/dist-packages (from transformers) (23.2)\n",
            "Requirement already satisfied: pyyaml>=5.1 in /usr/local/lib/python3.10/dist-packages (from transformers) (6.0.1)\n",
            "Requirement already satisfied: regex!=2019.12.17 in /usr/local/lib/python3.10/dist-packages (from transformers) (2023.6.3)\n",
            "Requirement already satisfied: requests in /usr/local/lib/python3.10/dist-packages (from transformers) (2.31.0)\n",
            "Requirement already satisfied: tokenizers<0.19,>=0.14 in /usr/local/lib/python3.10/dist-packages (from transformers) (0.15.0)\n",
            "Requirement already satisfied: safetensors>=0.3.1 in /usr/local/lib/python3.10/dist-packages (from transformers) (0.4.1)\n",
            "Requirement already satisfied: tqdm>=4.27 in /usr/local/lib/python3.10/dist-packages (from transformers) (4.66.1)\n",
            "Requirement already satisfied: fsspec>=2023.5.0 in /usr/local/lib/python3.10/dist-packages (from huggingface-hub<1.0,>=0.16.4->transformers) (2023.6.0)\n",
            "Requirement already satisfied: typing-extensions>=3.7.4.3 in /usr/local/lib/python3.10/dist-packages (from huggingface-hub<1.0,>=0.16.4->transformers) (4.5.0)\n",
            "Requirement already satisfied: charset-normalizer<4,>=2 in /usr/local/lib/python3.10/dist-packages (from requests->transformers) (3.3.2)\n",
            "Requirement already satisfied: idna<4,>=2.5 in /usr/local/lib/python3.10/dist-packages (from requests->transformers) (3.6)\n",
            "Requirement already satisfied: urllib3<3,>=1.21.1 in /usr/local/lib/python3.10/dist-packages (from requests->transformers) (2.0.7)\n",
            "Requirement already satisfied: certifi>=2017.4.17 in /usr/local/lib/python3.10/dist-packages (from requests->transformers) (2023.11.17)\n"
          ]
        }
      ]
    },
    {
      "cell_type": "code",
      "execution_count": 13,
      "metadata": {
        "colab": {
          "base_uri": "https://localhost:8080/"
        },
        "id": "xoivft9OsXGc",
        "outputId": "8c3ca1bb-9fa2-4ec0-c79b-89f16421aa38"
      },
      "outputs": [
        {
          "output_type": "stream",
          "name": "stdout",
          "text": [
            "Archive:  Data.zip\n",
            "replace __MACOSX/._Data? [y]es, [n]o, [A]ll, [N]one, [r]ename: "
          ]
        }
      ],
      "source": [
        "!unzip Data.zip"
      ]
    },
    {
      "cell_type": "code",
      "source": [
        "import torch\n",
        "\n",
        "if torch.cuda.is_available():\n",
        "    device = torch.device(\"cuda\")\n",
        "    print(\"Using GPU:\", torch.cuda.get_device_name(0))\n",
        "else:\n",
        "    device = torch.device(\"cpu\")\n",
        "    print(\"Using CPU\")"
      ],
      "metadata": {
        "colab": {
          "base_uri": "https://localhost:8080/"
        },
        "id": "na0zOAyzsmag",
        "outputId": "53800d53-fdf3-4a2f-f9c3-2210512e80c6"
      },
      "execution_count": 14,
      "outputs": [
        {
          "output_type": "stream",
          "name": "stdout",
          "text": [
            "Using GPU: Tesla V100-SXM2-16GB\n"
          ]
        }
      ]
    },
    {
      "cell_type": "markdown",
      "source": [
        "*Loading the Datasets*"
      ],
      "metadata": {
        "id": "E8G2yMp-sts2"
      }
    },
    {
      "cell_type": "code",
      "source": [
        "import pandas as pd\n",
        "\n",
        "train_data_17k_unprocessed_path= \"/content/Data/Train_Data/UnProcessed/translated_data_train_16k_format_fix.csv\"\n",
        "train_data_17k_pre_lem_sw_path = \"/content/Data/Train_Data/pre_processed/train_data_lemmatized_sw_removed.csv\"\n",
        "\n",
        "\n",
        "\n",
        "train_data_17k_unprocessed = pd.read_csv(train_data_17k_unprocessed_path)\n",
        "train_data_unprocessed_unaugmented = train_data_17k_unprocessed.iloc[:4355]\n",
        "train_data_17k_pre_lem_sw= pd.read_csv(train_data_17k_pre_lem_sw_path)\n",
        "\n",
        "test_data_unprocessed_path= \"Data/Test_Data/un_processed/test_data_filtered.csv\"\n",
        "test_data_pre_lem_sw_path = 'Data/Test_Data/pre_processed/test_data_lemmatized_sw_removed.csv'\n",
        "\n",
        "test_data_unprocessed= pd.read_csv(test_data_unprocessed_path)\n",
        "test_data_pre_lem_sw= pd.read_csv(test_data_pre_lem_sw_path)\n",
        "\n"
      ],
      "metadata": {
        "id": "6qbvWNiBsof9"
      },
      "execution_count": 15,
      "outputs": []
    },
    {
      "cell_type": "code",
      "source": [
        "def reset_ids(df):\n",
        "    df['id'] = range(1, len(df) + 1)\n",
        "    return df"
      ],
      "metadata": {
        "id": "NvF2GtqZtgYB"
      },
      "execution_count": 16,
      "outputs": []
    },
    {
      "cell_type": "code",
      "source": [
        "\n",
        "train_data_17k_unprocessed_path= \"/content/train_data_unprocessed.csv\"\n",
        "train_data_17k_pre_lem_path = '/content/Data/Train_Data/pre_processed/train_data_lemmatized.csv'\n",
        "train_data_17k_pre_lem_sw_path = \"/content/Data/Train_Data/pre_processed/train_data_lemmatized_sw_removed.csv\"\n",
        "train_data_17k_pre_sw_path= \"/content/Data/Train_Data/pre_processed/train_data_sw_removed.csv\"\n",
        "\n",
        "\n",
        "\n",
        "train_data_17k_unprocessed = pd.read_csv(train_data_17k_unprocessed_path, index_col=0)\n",
        "train_data_17k_unprocessed.reset_index(inplace=True)\n",
        "\n",
        "\n",
        "train_data_17k_unprocessed= reset_ids(train_data_17k_unprocessed)\n",
        "\n",
        "\n",
        "train_data_unprocessed_unaugmented = train_data_17k_unprocessed.iloc[:4355]\n",
        "train_data_17k_pre_lem_sw= pd.read_csv(train_data_17k_pre_lem_sw_path)\n",
        "train_data_17k_pre_sw= pd.read_csv(train_data_17k_pre_sw_path)\n",
        "train_data_17k_pre_lem= pd.read_csv(train_data_17k_pre_lem_path)\n",
        "\n"
      ],
      "metadata": {
        "id": "w1wYTSw0thhi"
      },
      "execution_count": 17,
      "outputs": []
    },
    {
      "cell_type": "code",
      "source": [
        "test_data_unprocessed_path= \"Data/Test_Data/un_processed/test_data_filtered.csv\"\n",
        "test_data_pre_lem_sw_path = 'Data/Test_Data/pre_processed/test_data_lemmatized_sw_removed.csv'\n",
        "\n",
        "test_data_unprocessed= pd.read_csv(test_data_unprocessed_path, index_col=0)\n",
        "test_data_unprocessed= test_data_unprocessed.reset_index(drop=True)\n",
        "test_data_pre_lem_sw= pd.read_csv(test_data_pre_lem_sw_path)\n"
      ],
      "metadata": {
        "id": "AkawbsZMtkuV"
      },
      "execution_count": 18,
      "outputs": []
    },
    {
      "cell_type": "code",
      "source": [
        "valid_data_unprocessed_path= \"Data/Validation_Data/UnProcessed/validation_data_filtered.csv\"\n",
        "valid_data_pre_lem_path= \"Data/Validation_Data/pre_processed/validation_data_lemmatized.csv\"\n",
        "valid_data_pre_lem_sw_path= \"Data/Validation_Data/pre_processed/validation_data_lemmatized_sw_removed.csv\"\n",
        "valid_data_pre_sw_path=\"Data/Validation_Data/pre_processed/validation_data_sw_removed.csv\"\n",
        "\n",
        "valid_data_unprocessed=pd.read_csv(valid_data_unprocessed_path, index_col=0)\n",
        "valid_data_pre_lem=pd.read_csv(valid_data_pre_lem_path, index_col=0)\n",
        "valid_data_pre_lem_sw=pd.read_csv(valid_data_pre_lem_sw_path, index_col=0)\n",
        "valid_data_pre_sw= pd.read_csv(valid_data_pre_sw_path, index_col=0)\n"
      ],
      "metadata": {
        "id": "MPdab32utpTs"
      },
      "execution_count": 19,
      "outputs": []
    },
    {
      "cell_type": "code",
      "source": [
        "#Function to split the datasets by language\n",
        "\n",
        "from torch.utils.data import TensorDataset\n",
        "\n",
        "def split_lang(df, tokenizer):\n",
        "\n",
        "\n",
        "    tokenized_la = tokenizer(df['la'].tolist(), padding=True, truncation=True, max_length=256, return_tensors=\"pt\")\n",
        "    features_la = tokenized_la['input_ids']\n",
        "    attention_mask_la = tokenized_la['attention_mask']\n",
        "\n",
        "    # Tokenize 'en' column and include attention mask\n",
        "    tokenized_en = tokenizer(df['en'].tolist(), padding=True, truncation=True, max_length=256, return_tensors=\"pt\")\n",
        "    features_en = tokenized_en['input_ids']\n",
        "    attention_mask_en = tokenized_en['attention_mask']\n",
        "\n",
        "\n",
        "\n",
        "    assert len(features_la) == len(df) and len(features_en) == len(df), \"Tokenization output length does not match DataFrame length\"\n",
        "\n",
        "    # Convert file paths to numerical labels\n",
        "    file_to_idx = {file: idx for idx, file in enumerate(df['file'].unique())}\n",
        "    labels = torch.tensor([file_to_idx[file] for file in df['file'].values])\n",
        "\n",
        "    print(labels[1])\n",
        "\n",
        "\n",
        "    # Create TensorDatasets\n",
        "    dataset_la = TensorDataset(features_la, attention_mask_la, labels)\n",
        "    dataset_en = TensorDataset(features_en, attention_mask_en, labels)\n",
        "\n",
        "\n",
        "\n",
        "    assert len(dataset_la) == len(df) and len(dataset_en) == len(df), \"TensorDataset size does not match DataFrame size\"\n",
        "\n",
        "    return dataset_la, dataset_en\n",
        "\n"
      ],
      "metadata": {
        "id": "hVkoeGBitrB-"
      },
      "execution_count": 20,
      "outputs": []
    },
    {
      "cell_type": "code",
      "source": [
        "#functions to allign the feature embeddings\n",
        "\n",
        "def reset_id_column(df):\n",
        "\n",
        "    # Reset the index to start from 0 and then adjust to start from 1\n",
        "    df = df.reset_index(drop=True)\n",
        "    df.index += 1\n",
        "\n",
        "    df['id'] = df.index\n",
        "\n",
        "    return df\n",
        "\n",
        "def sort_dataframe_by_file(df):\n",
        "    \"\"\"\n",
        "    Sorts the DataFrame based on the 'file' column in alphabetical order.\n",
        "\n",
        "    Args:\n",
        "    df (pd.DataFrame): The DataFrame to be sorted.\n",
        "\n",
        "    Returns:\n",
        "    pd.DataFrame: The sorted DataFrame.\n",
        "    \"\"\"\n",
        "    if 'file' in df.columns:\n",
        "        # Sort the DataFrame based on the 'file' column\n",
        "        sorted_df = df.sort_values(by='file', ascending=True)\n",
        "        return sorted_df\n",
        "    else:\n",
        "        print(\"The DataFrame does not have a 'file' column.\")\n",
        "        return df"
      ],
      "metadata": {
        "id": "c5bXCP8ot26K"
      },
      "execution_count": 21,
      "outputs": []
    },
    {
      "cell_type": "code",
      "source": [
        "train_data_unprocessed_unaugmented_sorted= sort_dataframe_by_file(train_data_unprocessed_unaugmented)\n",
        "\n",
        "test_data_unprocessed_sorted= sort_dataframe_by_file(test_data_unprocessed)"
      ],
      "metadata": {
        "id": "Y4jPgNdUuIwu"
      },
      "execution_count": 22,
      "outputs": []
    },
    {
      "cell_type": "code",
      "source": [
        "multilingual_BERT_tokenizer = BertTokenizer.from_pretrained('bert-base-multilingual-uncased')\n"
      ],
      "metadata": {
        "colab": {
          "base_uri": "https://localhost:8080/",
          "height": 145,
          "referenced_widgets": [
            "f290e59a52b24dc985810d6f9ebaca7a",
            "dbd55dbb5de641edaf6c72ceacacef52",
            "cf5cee1bce2145d082df636cd178ccb6",
            "6422b0a8598e49f8811a5e11858c7ca1",
            "938d2ad175f14dfa9586552f9ee97d34",
            "6295dd9bf054492cba35eb013ca80ce0",
            "c182f5ea077642628e9bc0d4dd4fde40",
            "0172f16d901e46868b257ff0b70cb230",
            "5611d3dc3f0c4be9979bf535e6e653b0",
            "d30f09d2e1fc48b99cef7d411bf343f9",
            "af8a102fe2284fa6bf88b4aca812fbd9",
            "1bd7458ed1cd437ebc6ed84c1271099b",
            "b0c0db149bcc411e8cdbdc23d31d5ed3",
            "565ee70085834a6184e24020d49c534b",
            "c579b89afe57423ea54c35f611d5eea9",
            "6ebf05f24f484b689cc8e1fe5ca7bc36",
            "b8ceea94673a4780935b59eaef1620d1",
            "01c126ad9b02414e9a6433ea964f5f0a",
            "fd8e60275a974a8eb9335693167f1755",
            "7a2e740750a14ee791536aca54d6a970",
            "7e32d73c3ee04b108c6375483f01e8f6",
            "4306cda06e51453a866b349ea53f0ab2",
            "f007839cf6ba468497b08c1f05ffb8b6",
            "864e9d78bdaf4de1bfad6fa42d9128e9",
            "ba52dcd1ff48430291438a93898d5a47",
            "13b45086d8794c87a32daf08caa562fa",
            "6e80e468862842bfaa1fcd771259f257",
            "fd2732aa949244ac9e381f7540e16fcf",
            "52d60c88956e4e9aa02d7a6a4bd6ee0e",
            "d7ba57c909aa4d1dafe4c204d4b86ac6",
            "ccf3b5d4e8ff4a189d32bcf92bea5497",
            "9cd49fdf3edd4ac3a8df3ef35fed3ebf",
            "96c295d1083d4ad99247d9049983488a",
            "5eed1eb1c45d459da822fa5e42839967",
            "b8ed637c533748d6931cd0ca6a6acbe3",
            "7e7f820ef25a444ea585a93a744624f7",
            "8bffd063988d486dadbd4fc9036b8a82",
            "ee24fcd3043c439f83ed329003ba8d1b",
            "41fb91a6d7714e53811006261d8da181",
            "e175e0e4629b42689af023bbfe1bdf6f",
            "98447fcd51eb4dbb9a7fe232dd1a99dd",
            "ea182031bbbf4e37a5eeb1d2034be9f3",
            "ee4d3a21bf794d59a2ab6fc91d675a8f",
            "ac971d05df2042dd94e1dd62c355f49b"
          ]
        },
        "id": "nWJ5MUWn2Dl3",
        "outputId": "8997bd3b-d99a-4c19-aaba-a81e43d85dbd"
      },
      "execution_count": 25,
      "outputs": [
        {
          "output_type": "display_data",
          "data": {
            "text/plain": [
              "tokenizer_config.json:   0%|          | 0.00/28.0 [00:00<?, ?B/s]"
            ],
            "application/vnd.jupyter.widget-view+json": {
              "version_major": 2,
              "version_minor": 0,
              "model_id": "f290e59a52b24dc985810d6f9ebaca7a"
            }
          },
          "metadata": {}
        },
        {
          "output_type": "display_data",
          "data": {
            "text/plain": [
              "vocab.txt:   0%|          | 0.00/872k [00:00<?, ?B/s]"
            ],
            "application/vnd.jupyter.widget-view+json": {
              "version_major": 2,
              "version_minor": 0,
              "model_id": "1bd7458ed1cd437ebc6ed84c1271099b"
            }
          },
          "metadata": {}
        },
        {
          "output_type": "display_data",
          "data": {
            "text/plain": [
              "tokenizer.json:   0%|          | 0.00/1.72M [00:00<?, ?B/s]"
            ],
            "application/vnd.jupyter.widget-view+json": {
              "version_major": 2,
              "version_minor": 0,
              "model_id": "f007839cf6ba468497b08c1f05ffb8b6"
            }
          },
          "metadata": {}
        },
        {
          "output_type": "display_data",
          "data": {
            "text/plain": [
              "config.json:   0%|          | 0.00/625 [00:00<?, ?B/s]"
            ],
            "application/vnd.jupyter.widget-view+json": {
              "version_major": 2,
              "version_minor": 0,
              "model_id": "5eed1eb1c45d459da822fa5e42839967"
            }
          },
          "metadata": {}
        }
      ]
    },
    {
      "cell_type": "code",
      "source": [
        "la_train_unp_unaug, en_train_unp_unaug = split_lang(train_data_unprocessed_unaugmented_sorted, multilingual_BERT_tokenizer)\n"
      ],
      "metadata": {
        "colab": {
          "base_uri": "https://localhost:8080/"
        },
        "id": "zhwkd8XguUyH",
        "outputId": "d7149f02-9eed-4364-daae-e18b77b0975b"
      },
      "execution_count": 26,
      "outputs": [
        {
          "output_type": "stream",
          "name": "stdout",
          "text": [
            "tensor(0)\n"
          ]
        }
      ]
    },
    {
      "cell_type": "code",
      "source": [
        "la_test_unp, en_test_unp = split_lang(test_data_unprocessed_sorted, multilingual_BERT_tokenizer)\n"
      ],
      "metadata": {
        "colab": {
          "base_uri": "https://localhost:8080/"
        },
        "id": "aRNzUY2VuVYi",
        "outputId": "280cd414-c494-44db-e206-bb19ab7013f8"
      },
      "execution_count": 27,
      "outputs": [
        {
          "output_type": "stream",
          "name": "stdout",
          "text": [
            "tensor(0)\n"
          ]
        }
      ]
    },
    {
      "cell_type": "markdown",
      "source": [
        "*Defining the model and the classifier*"
      ],
      "metadata": {
        "id": "v_ZtrV_us8nq"
      }
    },
    {
      "cell_type": "code",
      "source": [
        "\n",
        "\n",
        "number_of_authors= 5\n",
        "class Classifier(nn.Module):\n",
        "    def __init__(self):\n",
        "        super(Classifier, self).__init__()\n",
        "        self.fc1 = nn.Linear(768, 768)  # to make it comparable to what was done in contra x paper.\n",
        "        self.fc2 = nn.Linear(768, number_of_authors)\n",
        "        self.dropout = nn.Dropout(0.35)\n",
        "\n",
        "    def forward(self, x):\n",
        "        x = F.relu(self.fc1(x))\n",
        "        x = self.dropout(x)\n",
        "        x = self.fc2(x)\n",
        "        return x\n",
        "\n",
        "\n",
        "class MultilingualBertForAuthorshipAttribution(nn.Module):\n",
        "    def __init__(self, bert_model, classifier):\n",
        "        super(MultilingualBertForAuthorshipAttribution, self).__init__()\n",
        "        self.bert_model = bert_model\n",
        "        self.classifier = classifier\n",
        "\n",
        "    def forward(self, input_ids, attention_mask):\n",
        "        outputs = self.bert_model(input_ids=input_ids, attention_mask=attention_mask)\n",
        "        pooled_output = outputs[1]  # The pooled output can be treated as embeddings\n",
        "        classifier_output = self.classifier(pooled_output)\n",
        "        return pooled_output, classifier_output\n"
      ],
      "metadata": {
        "id": "kB9IBCJvs5yw"
      },
      "execution_count": 28,
      "outputs": []
    },
    {
      "cell_type": "markdown",
      "source": [
        "*Loss Function*"
      ],
      "metadata": {
        "id": "aXI9U9aCtG6u"
      }
    },
    {
      "cell_type": "code",
      "source": [
        "def noncontrastive_loss_function(outputs, labels, embeddings, temperature=0.1, lambda_coef=1.0):\n",
        "\n",
        "    # Cross-entropy loss\n",
        "    LCE = F.cross_entropy(outputs, labels)\n",
        "\n",
        "\n",
        "    combined_loss = LCE\n",
        "\n",
        "    return combined_loss"
      ],
      "metadata": {
        "id": "FULVco8utBj1"
      },
      "execution_count": 29,
      "outputs": []
    },
    {
      "cell_type": "markdown",
      "source": [
        "*Training Function*"
      ],
      "metadata": {
        "id": "CzgSdhTttL9Y"
      }
    },
    {
      "cell_type": "code",
      "source": [
        "from torch.utils.data import DataLoader\n",
        "\n",
        "def train_model_non_cont(model, train_dataset, val_dataset, lambda_coef=1.0, temperature=0.1, learning_rate=2e-5, num_epochs=8, batch_size=24, weight_decay=0.0001, l1_lambda=0.001):\n",
        "    \"\"\"\n",
        "    Train the model with the specified parameters.\n",
        "    \"\"\"\n",
        "    model = model.to(device)\n",
        "\n",
        "    # Create DataLoaders for the training and validation data\n",
        "    train_loader = DataLoader(train_dataset, batch_size=batch_size, shuffle=True)\n",
        "    val_loader = DataLoader(val_dataset, batch_size=batch_size)\n",
        "\n",
        "    # Initialize the optimizer with L2 regularization (weight decay)\n",
        "    optimizer = AdamW(model.parameters(), lr=learning_rate, weight_decay=weight_decay)\n",
        "\n",
        "    total_steps = len(train_loader) * num_epochs\n",
        "    # Initialize the learning rate scheduler\n",
        "    scheduler = get_cosine_schedule_with_warmup(optimizer, num_warmup_steps=0, num_training_steps=total_steps)\n",
        "\n",
        "    training_losses = []\n",
        "    validation_losses = []\n",
        "\n",
        "    # Early stopping parameters\n",
        "    no_improvement = 0\n",
        "    min_val_loss = float('inf')\n",
        "\n",
        "    # Set the model to training mode\n",
        "    model.train()\n",
        "\n",
        "    for epoch in range(num_epochs):\n",
        "        total_train_loss = 0\n",
        "\n",
        "        # Training phase\n",
        "        for batch in train_loader:\n",
        "            inputs, attention_mask, labels = batch\n",
        "            inputs, attention_mask, labels = inputs.to(device), attention_mask.to(device), labels.to(device)\n",
        "\n",
        "            # Forward pass: Compute embeddings and output logits from the model\n",
        "            embeddings, outputs = model(inputs, attention_mask)\n",
        "\n",
        "            # Compute the non-contrastive loss\n",
        "            loss = noncontrastive_loss_function(outputs, labels, embeddings, temperature, lambda_coef)\n",
        "\n",
        "            # L1 regularization term\n",
        "            l1_reg = sum(torch.sum(torch.abs(param)) for param in model.parameters())\n",
        "            loss += l1_lambda * l1_reg\n",
        "\n",
        "            # Backward pass and optimization\n",
        "            optimizer.zero_grad()\n",
        "            loss.backward()\n",
        "            optimizer.step()\n",
        "            scheduler.step()\n",
        "\n",
        "            total_train_loss += loss.item()\n",
        "\n",
        "        avg_train_loss = total_train_loss / len(train_loader)\n",
        "        training_losses.append(avg_train_loss)\n",
        "\n",
        "        # Validation phase\n",
        "        model.eval()\n",
        "        total_val_loss = 0\n",
        "\n",
        "        with torch.no_grad():\n",
        "            for batch in val_loader:\n",
        "                inputs, attention_mask, labels = batch\n",
        "                inputs, attention_mask, labels = inputs.to(device), attention_mask.to(device), labels.to(device)\n",
        "\n",
        "                embeddings, outputs = model(inputs, attention_mask)\n",
        "                loss = noncontrastive_loss_function(outputs, labels, embeddings, temperature, lambda_coef)\n",
        "\n",
        "                # L1 regularization term also during validation\n",
        "                l1_reg = sum(torch.sum(torch.abs(param)) for param in model.parameters())\n",
        "                loss += l1_lambda * l1_reg\n",
        "\n",
        "                total_val_loss += loss.item()\n",
        "\n",
        "        avg_val_loss = total_val_loss / len(val_loader)\n",
        "        validation_losses.append(avg_val_loss)\n",
        "\n",
        "        # Check for early stopping\n",
        "        if avg_val_loss < min_val_loss:\n",
        "            min_val_loss = avg_val_loss\n",
        "            no_improvement = 0\n",
        "        else:\n",
        "            no_improvement += 1\n",
        "\n",
        "        if no_improvement >= 2:\n",
        "            print(f'Early stopping triggered at epoch {epoch+1}')\n",
        "            break\n",
        "\n",
        "        model.train()  # Switch back to training mode\n",
        "\n",
        "        print(f'Epoch {epoch+1}/{num_epochs} completed. Training Loss: {avg_train_loss:.4f}, Validation Loss: {avg_val_loss:.4f}')\n",
        "\n",
        "    print('Training completed')\n",
        "\n",
        "    plt.figure(figsize=(10, 6))\n",
        "    plt.plot(training_losses, label='Training Loss')\n",
        "    plt.plot(validation_losses, label='Validation Loss')\n",
        "    plt.title('Training and Validation Loss Over Epochs mBERT Non-Contrastive Learning')\n",
        "    plt.xlabel('Epochs')\n",
        "    plt.ylabel('Loss')\n",
        "    plt.legend()\n",
        "    plt.show()\n",
        "\n",
        "    return model\n"
      ],
      "metadata": {
        "id": "alz3wwFttPlL"
      },
      "execution_count": 34,
      "outputs": []
    },
    {
      "cell_type": "markdown",
      "source": [
        "*Evaluation Function*"
      ],
      "metadata": {
        "id": "kWOIV7XZtP2b"
      }
    },
    {
      "cell_type": "code",
      "source": [
        "from sklearn.metrics import accuracy_score\n",
        "\n",
        "def evaluate_model(model, test_data, phrase, device=device, batch_size=24):\n",
        "    \"\"\"\n",
        "    Evaluate the model on the test dataset.\n",
        "\n",
        "    Args:\n",
        "    model (torch.nn.Module): The trained model to be evaluated.\n",
        "    test_data (TensorDataset): The test dataset.\n",
        "    phrase (str): Description phrase for logging.\n",
        "    device (str): The device to run the model on, 'cpu' or 'cuda'.\n",
        "    batch_size (int): Batch size for evaluation.\n",
        "\n",
        "    Returns:\n",
        "    float: The accuracy of the model on the test dataset.\n",
        "    \"\"\"\n",
        "    model.eval()  # Set the model to evaluation mode\n",
        "\n",
        "    # Create a DataLoader for the test data\n",
        "    test_loader = DataLoader(test_data, batch_size=batch_size)\n",
        "\n",
        "    true_labels = []\n",
        "    predictions = []\n",
        "    examples_printed = 0\n",
        "\n",
        "    with torch.no_grad():  # No need to track gradients during evaluation\n",
        "        for batch in test_loader:\n",
        "            inputs, attention_mask, labels = batch\n",
        "            inputs, attention_mask, labels = inputs.to(device), attention_mask.to(device), labels.to(device)\n",
        "\n",
        "            embeddings, outputs = model(inputs, attention_mask=attention_mask)\n",
        "            _, predicted = torch.max(outputs, 1)\n",
        "\n",
        "            predictions.extend(predicted.cpu().numpy())\n",
        "            true_labels.extend(labels.cpu().numpy())\n",
        "\n",
        "            # Print some examples\n",
        "            if examples_printed < 5:\n",
        "                for i in range(batch_size):\n",
        "                    examples_printed += 1\n",
        "                    if examples_printed >= 5:\n",
        "                        break\n",
        "\n",
        "    accuracy = accuracy_score(true_labels, predictions)\n",
        "    return accuracy"
      ],
      "metadata": {
        "id": "BCo4ovnGuNgP"
      },
      "execution_count": 31,
      "outputs": []
    },
    {
      "cell_type": "markdown",
      "source": [
        "*Model Training:*"
      ],
      "metadata": {
        "id": "7CSxdMSIuQuo"
      }
    },
    {
      "cell_type": "markdown",
      "source": [
        "unprocessed unaugmented data:"
      ],
      "metadata": {
        "id": "xI2s3UINujEo"
      }
    },
    {
      "cell_type": "code",
      "source": [
        "multilingual_BERT_model__lat_unp_unaug = BertModel.from_pretrained(\"bert-base-multilingual-uncased\")\n",
        "multilingual_BERT_model__en_unp_unaug=  BertModel.from_pretrained(\"bert-base-multilingual-uncased\")\n",
        "\n",
        "classifier_lat_unp_unaug = Classifier()\n",
        "classifier_en_unp_unaug = Classifier()\n",
        "\n",
        "\n",
        "multilingual_bert_authorship_model_lat_unp_unaug= MultilingualBertForAuthorshipAttribution(multilingual_BERT_model__lat_unp_unaug, classifier_lat_unp_unaug)\n",
        "multilingual_bert_authorship_model_en_unp_unaug = MultilingualBertForAuthorshipAttribution(multilingual_BERT_model__en_unp_unaug, classifier_en_unp_unaug)\n",
        "\n",
        "# Seed for reproducibility\n",
        "torch.manual_seed(42)\n",
        "\n",
        "# Shuffle indices for 'la_train_unp_unaug'\n",
        "la_indices = torch.randperm(len(la_train_unp_unaug))\n",
        "la_train_unp_unaug = TensorDataset(*[t[la_indices] for t in la_train_unp_unaug.tensors])\n",
        "\n",
        "# Shuffle indices for 'en_train_unp_unaug'\n",
        "en_indices = torch.randperm(len(en_train_unp_unaug))\n",
        "en_train_unp_unaug = TensorDataset(*[t[en_indices] for t in en_train_unp_unaug.tensors])\n",
        "\n",
        "\n",
        "valid_data_unprocessed_la, valid_data_unprocessed_en = split_lang(valid_data_unprocessed, multilingual_BERT_tokenizer)\n",
        "\n",
        "\n",
        "num_samples = 2\n",
        "\n",
        "print(\"Samples from la_train_unp_unaug:\")\n",
        "for i in range(min(num_samples, len(la_train_unp_unaug))):\n",
        "    sample = la_train_unp_unaug[i]\n",
        "    print(f\"Sample {i+1}: {sample}\")\n",
        "\n",
        "print(\"\\nSamples from en_train_unp_unaug:\")\n",
        "for i in range(min(num_samples, len(en_train_unp_unaug))):\n",
        "    sample = en_train_unp_unaug[i]\n",
        "    print(f\"Sample {i+1}: {sample}\")"
      ],
      "metadata": {
        "colab": {
          "base_uri": "https://localhost:8080/",
          "height": 1000,
          "referenced_widgets": [
            "f81a91b66d9d48d7b5ff0198c0dd8341",
            "ecb896afe2eb4e6bbbeee5b1ac4f01ab",
            "790ec19775904301ade937247b5b3742",
            "e738921a3ec64edd819d837c24c0f65c",
            "3a75ca6dcd254b27a41ec9492c8701d9",
            "e18e995fca87463a87f7c56b66e38719",
            "539f6ff2001a441586156800b9b81626",
            "23392ab39bba4ef6b6102073ab6b6cce",
            "213ebd9bcc814d3db75edb48a905b595",
            "0d6efb7b4e32482894a7ef474eff3feb",
            "2e7ef129e41a469fb6a233fabe48c842"
          ]
        },
        "id": "rHx4pcFtuned",
        "outputId": "90de42ae-557e-4275-8da5-548ea6208150"
      },
      "execution_count": 32,
      "outputs": [
        {
          "output_type": "display_data",
          "data": {
            "text/plain": [
              "model.safetensors:   0%|          | 0.00/672M [00:00<?, ?B/s]"
            ],
            "application/vnd.jupyter.widget-view+json": {
              "version_major": 2,
              "version_minor": 0,
              "model_id": "f81a91b66d9d48d7b5ff0198c0dd8341"
            }
          },
          "metadata": {}
        },
        {
          "output_type": "stream",
          "name": "stdout",
          "text": [
            "tensor(1)\n",
            "Samples from la_train_unp_unaug:\n",
            "Sample 1: (tensor([  101, 10193, 10155, 94110, 88463, 11399, 10165,   117, 43424, 10132,\n",
            "        11413, 12875,   119,   102,     0,     0,     0,     0,     0,     0,\n",
            "            0,     0,     0,     0,     0,     0,     0,     0,     0,     0,\n",
            "            0,     0,     0,     0,     0,     0,     0,     0,     0,     0,\n",
            "            0,     0,     0,     0,     0,     0,     0,     0,     0,     0,\n",
            "            0,     0,     0,     0,     0,     0,     0,     0,     0,     0,\n",
            "            0,     0,     0,     0,     0,     0,     0,     0,     0,     0,\n",
            "            0,     0,     0,     0,     0,     0,     0,     0,     0,     0,\n",
            "            0,     0,     0,     0,     0,     0,     0,     0,     0,     0,\n",
            "            0,     0,     0,     0,     0,     0,     0,     0,     0,     0,\n",
            "            0,     0,     0,     0,     0,     0,     0,     0,     0,     0,\n",
            "            0,     0,     0,     0,     0,     0,     0,     0,     0,     0,\n",
            "            0,     0,     0,     0,     0,     0,     0,     0,     0,     0,\n",
            "            0,     0,     0,     0,     0,     0,     0,     0,     0,     0,\n",
            "            0,     0,     0,     0,     0,     0,     0,     0,     0,     0,\n",
            "            0,     0,     0,     0,     0,     0,     0,     0,     0,     0,\n",
            "            0,     0,     0,     0,     0,     0,     0,     0,     0,     0,\n",
            "            0,     0,     0,     0,     0,     0,     0,     0,     0,     0,\n",
            "            0,     0,     0,     0,     0,     0,     0,     0,     0,     0,\n",
            "            0,     0,     0,     0,     0,     0,     0,     0,     0,     0,\n",
            "            0,     0,     0,     0,     0,     0,     0,     0,     0,     0,\n",
            "            0,     0,     0,     0,     0,     0,     0,     0,     0,     0,\n",
            "            0,     0,     0,     0,     0,     0,     0,     0,     0,     0,\n",
            "            0,     0,     0,     0,     0,     0,     0,     0,     0,     0,\n",
            "            0,     0,     0,     0,     0,     0,     0,     0,     0,     0,\n",
            "            0,     0,     0,     0,     0,     0]), tensor([1, 1, 1, 1, 1, 1, 1, 1, 1, 1, 1, 1, 1, 1, 0, 0, 0, 0, 0, 0, 0, 0, 0, 0,\n",
            "        0, 0, 0, 0, 0, 0, 0, 0, 0, 0, 0, 0, 0, 0, 0, 0, 0, 0, 0, 0, 0, 0, 0, 0,\n",
            "        0, 0, 0, 0, 0, 0, 0, 0, 0, 0, 0, 0, 0, 0, 0, 0, 0, 0, 0, 0, 0, 0, 0, 0,\n",
            "        0, 0, 0, 0, 0, 0, 0, 0, 0, 0, 0, 0, 0, 0, 0, 0, 0, 0, 0, 0, 0, 0, 0, 0,\n",
            "        0, 0, 0, 0, 0, 0, 0, 0, 0, 0, 0, 0, 0, 0, 0, 0, 0, 0, 0, 0, 0, 0, 0, 0,\n",
            "        0, 0, 0, 0, 0, 0, 0, 0, 0, 0, 0, 0, 0, 0, 0, 0, 0, 0, 0, 0, 0, 0, 0, 0,\n",
            "        0, 0, 0, 0, 0, 0, 0, 0, 0, 0, 0, 0, 0, 0, 0, 0, 0, 0, 0, 0, 0, 0, 0, 0,\n",
            "        0, 0, 0, 0, 0, 0, 0, 0, 0, 0, 0, 0, 0, 0, 0, 0, 0, 0, 0, 0, 0, 0, 0, 0,\n",
            "        0, 0, 0, 0, 0, 0, 0, 0, 0, 0, 0, 0, 0, 0, 0, 0, 0, 0, 0, 0, 0, 0, 0, 0,\n",
            "        0, 0, 0, 0, 0, 0, 0, 0, 0, 0, 0, 0, 0, 0, 0, 0, 0, 0, 0, 0, 0, 0, 0, 0,\n",
            "        0, 0, 0, 0, 0, 0, 0, 0, 0, 0, 0, 0, 0, 0, 0, 0]), tensor(0))\n",
            "Sample 2: (tensor([  101, 26740, 19983, 13798, 30311, 10132, 74478, 10107, 28472, 11061,\n",
            "        76985, 10150, 14447, 25200, 23464, 15733, 11088, 41496, 65010, 10150,\n",
            "        16348, 93225,   117, 10379, 27820, 66754, 10258, 15931, 10165, 10230,\n",
            "        12905, 10104, 34219, 18459, 38924,   117, 10128, 27776, 10348, 10592,\n",
            "        19166, 10585,   117, 10137, 10379, 10559, 19719, 10112, 31338, 10111,\n",
            "        10317, 27776, 38136, 10123,   117, 10104, 33615, 10310, 82519, 66485,\n",
            "        10247,   119,   102,     0,     0,     0,     0,     0,     0,     0,\n",
            "            0,     0,     0,     0,     0,     0,     0,     0,     0,     0,\n",
            "            0,     0,     0,     0,     0,     0,     0,     0,     0,     0,\n",
            "            0,     0,     0,     0,     0,     0,     0,     0,     0,     0,\n",
            "            0,     0,     0,     0,     0,     0,     0,     0,     0,     0,\n",
            "            0,     0,     0,     0,     0,     0,     0,     0,     0,     0,\n",
            "            0,     0,     0,     0,     0,     0,     0,     0,     0,     0,\n",
            "            0,     0,     0,     0,     0,     0,     0,     0,     0,     0,\n",
            "            0,     0,     0,     0,     0,     0,     0,     0,     0,     0,\n",
            "            0,     0,     0,     0,     0,     0,     0,     0,     0,     0,\n",
            "            0,     0,     0,     0,     0,     0,     0,     0,     0,     0,\n",
            "            0,     0,     0,     0,     0,     0,     0,     0,     0,     0,\n",
            "            0,     0,     0,     0,     0,     0,     0,     0,     0,     0,\n",
            "            0,     0,     0,     0,     0,     0,     0,     0,     0,     0,\n",
            "            0,     0,     0,     0,     0,     0,     0,     0,     0,     0,\n",
            "            0,     0,     0,     0,     0,     0,     0,     0,     0,     0,\n",
            "            0,     0,     0,     0,     0,     0,     0,     0,     0,     0,\n",
            "            0,     0,     0,     0,     0,     0,     0,     0,     0,     0,\n",
            "            0,     0,     0,     0,     0,     0,     0,     0,     0,     0,\n",
            "            0,     0,     0,     0,     0,     0]), tensor([1, 1, 1, 1, 1, 1, 1, 1, 1, 1, 1, 1, 1, 1, 1, 1, 1, 1, 1, 1, 1, 1, 1, 1,\n",
            "        1, 1, 1, 1, 1, 1, 1, 1, 1, 1, 1, 1, 1, 1, 1, 1, 1, 1, 1, 1, 1, 1, 1, 1,\n",
            "        1, 1, 1, 1, 1, 1, 1, 1, 1, 1, 1, 1, 1, 1, 1, 0, 0, 0, 0, 0, 0, 0, 0, 0,\n",
            "        0, 0, 0, 0, 0, 0, 0, 0, 0, 0, 0, 0, 0, 0, 0, 0, 0, 0, 0, 0, 0, 0, 0, 0,\n",
            "        0, 0, 0, 0, 0, 0, 0, 0, 0, 0, 0, 0, 0, 0, 0, 0, 0, 0, 0, 0, 0, 0, 0, 0,\n",
            "        0, 0, 0, 0, 0, 0, 0, 0, 0, 0, 0, 0, 0, 0, 0, 0, 0, 0, 0, 0, 0, 0, 0, 0,\n",
            "        0, 0, 0, 0, 0, 0, 0, 0, 0, 0, 0, 0, 0, 0, 0, 0, 0, 0, 0, 0, 0, 0, 0, 0,\n",
            "        0, 0, 0, 0, 0, 0, 0, 0, 0, 0, 0, 0, 0, 0, 0, 0, 0, 0, 0, 0, 0, 0, 0, 0,\n",
            "        0, 0, 0, 0, 0, 0, 0, 0, 0, 0, 0, 0, 0, 0, 0, 0, 0, 0, 0, 0, 0, 0, 0, 0,\n",
            "        0, 0, 0, 0, 0, 0, 0, 0, 0, 0, 0, 0, 0, 0, 0, 0, 0, 0, 0, 0, 0, 0, 0, 0,\n",
            "        0, 0, 0, 0, 0, 0, 0, 0, 0, 0, 0, 0, 0, 0, 0, 0]), tensor(1))\n",
            "\n",
            "Samples from en_train_unp_unaug:\n",
            "Sample 1: (tensor([  101, 10103, 33345, 10107, 10203, 10342, 14329, 10114, 14008, 11227,\n",
            "          117, 10574, 20917, 10763, 10108, 12787, 29742,   117, 10110, 33503,\n",
            "          117, 10110, 27318,   131, 10110, 11312, 11449, 10990, 12103, 10163,\n",
            "        10160, 10487, 19093,   119,   102,     0,     0,     0,     0,     0,\n",
            "            0,     0,     0,     0,     0,     0,     0,     0,     0,     0,\n",
            "            0,     0,     0,     0,     0,     0,     0,     0,     0,     0,\n",
            "            0,     0,     0,     0,     0,     0,     0,     0,     0,     0,\n",
            "            0,     0,     0,     0,     0,     0,     0,     0,     0,     0,\n",
            "            0,     0,     0,     0,     0,     0,     0,     0,     0,     0,\n",
            "            0,     0,     0,     0,     0,     0,     0,     0,     0,     0,\n",
            "            0,     0,     0,     0,     0,     0,     0,     0,     0,     0,\n",
            "            0,     0,     0,     0,     0,     0,     0,     0,     0,     0,\n",
            "            0,     0,     0,     0,     0,     0,     0,     0,     0,     0,\n",
            "            0,     0,     0,     0,     0,     0,     0,     0,     0,     0,\n",
            "            0,     0,     0,     0,     0,     0,     0,     0,     0,     0,\n",
            "            0,     0,     0,     0,     0,     0,     0,     0,     0,     0,\n",
            "            0,     0,     0,     0,     0,     0,     0,     0,     0,     0,\n",
            "            0,     0,     0,     0,     0,     0,     0,     0,     0,     0,\n",
            "            0,     0,     0,     0,     0,     0,     0,     0,     0,     0,\n",
            "            0,     0,     0,     0,     0,     0,     0,     0,     0,     0,\n",
            "            0,     0,     0,     0,     0,     0,     0,     0,     0,     0,\n",
            "            0,     0,     0,     0,     0,     0,     0,     0,     0,     0,\n",
            "            0,     0,     0,     0,     0,     0,     0,     0,     0,     0,\n",
            "            0,     0,     0,     0,     0,     0,     0,     0,     0,     0,\n",
            "            0,     0,     0,     0,     0,     0,     0,     0,     0,     0,\n",
            "            0,     0,     0,     0,     0,     0]), tensor([1, 1, 1, 1, 1, 1, 1, 1, 1, 1, 1, 1, 1, 1, 1, 1, 1, 1, 1, 1, 1, 1, 1, 1,\n",
            "        1, 1, 1, 1, 1, 1, 1, 1, 1, 1, 1, 0, 0, 0, 0, 0, 0, 0, 0, 0, 0, 0, 0, 0,\n",
            "        0, 0, 0, 0, 0, 0, 0, 0, 0, 0, 0, 0, 0, 0, 0, 0, 0, 0, 0, 0, 0, 0, 0, 0,\n",
            "        0, 0, 0, 0, 0, 0, 0, 0, 0, 0, 0, 0, 0, 0, 0, 0, 0, 0, 0, 0, 0, 0, 0, 0,\n",
            "        0, 0, 0, 0, 0, 0, 0, 0, 0, 0, 0, 0, 0, 0, 0, 0, 0, 0, 0, 0, 0, 0, 0, 0,\n",
            "        0, 0, 0, 0, 0, 0, 0, 0, 0, 0, 0, 0, 0, 0, 0, 0, 0, 0, 0, 0, 0, 0, 0, 0,\n",
            "        0, 0, 0, 0, 0, 0, 0, 0, 0, 0, 0, 0, 0, 0, 0, 0, 0, 0, 0, 0, 0, 0, 0, 0,\n",
            "        0, 0, 0, 0, 0, 0, 0, 0, 0, 0, 0, 0, 0, 0, 0, 0, 0, 0, 0, 0, 0, 0, 0, 0,\n",
            "        0, 0, 0, 0, 0, 0, 0, 0, 0, 0, 0, 0, 0, 0, 0, 0, 0, 0, 0, 0, 0, 0, 0, 0,\n",
            "        0, 0, 0, 0, 0, 0, 0, 0, 0, 0, 0, 0, 0, 0, 0, 0, 0, 0, 0, 0, 0, 0, 0, 0,\n",
            "        0, 0, 0, 0, 0, 0, 0, 0, 0, 0, 0, 0, 0, 0, 0, 0]), tensor(4))\n",
            "Sample 2: (tensor([  101, 13054, 10103, 15316,   117, 10110, 34651, 10197, 10171, 21835,\n",
            "        42290,   132,   102,     0,     0,     0,     0,     0,     0,     0,\n",
            "            0,     0,     0,     0,     0,     0,     0,     0,     0,     0,\n",
            "            0,     0,     0,     0,     0,     0,     0,     0,     0,     0,\n",
            "            0,     0,     0,     0,     0,     0,     0,     0,     0,     0,\n",
            "            0,     0,     0,     0,     0,     0,     0,     0,     0,     0,\n",
            "            0,     0,     0,     0,     0,     0,     0,     0,     0,     0,\n",
            "            0,     0,     0,     0,     0,     0,     0,     0,     0,     0,\n",
            "            0,     0,     0,     0,     0,     0,     0,     0,     0,     0,\n",
            "            0,     0,     0,     0,     0,     0,     0,     0,     0,     0,\n",
            "            0,     0,     0,     0,     0,     0,     0,     0,     0,     0,\n",
            "            0,     0,     0,     0,     0,     0,     0,     0,     0,     0,\n",
            "            0,     0,     0,     0,     0,     0,     0,     0,     0,     0,\n",
            "            0,     0,     0,     0,     0,     0,     0,     0,     0,     0,\n",
            "            0,     0,     0,     0,     0,     0,     0,     0,     0,     0,\n",
            "            0,     0,     0,     0,     0,     0,     0,     0,     0,     0,\n",
            "            0,     0,     0,     0,     0,     0,     0,     0,     0,     0,\n",
            "            0,     0,     0,     0,     0,     0,     0,     0,     0,     0,\n",
            "            0,     0,     0,     0,     0,     0,     0,     0,     0,     0,\n",
            "            0,     0,     0,     0,     0,     0,     0,     0,     0,     0,\n",
            "            0,     0,     0,     0,     0,     0,     0,     0,     0,     0,\n",
            "            0,     0,     0,     0,     0,     0,     0,     0,     0,     0,\n",
            "            0,     0,     0,     0,     0,     0,     0,     0,     0,     0,\n",
            "            0,     0,     0,     0,     0,     0,     0,     0,     0,     0,\n",
            "            0,     0,     0,     0,     0,     0,     0,     0,     0,     0,\n",
            "            0,     0,     0,     0,     0,     0]), tensor([1, 1, 1, 1, 1, 1, 1, 1, 1, 1, 1, 1, 1, 0, 0, 0, 0, 0, 0, 0, 0, 0, 0, 0,\n",
            "        0, 0, 0, 0, 0, 0, 0, 0, 0, 0, 0, 0, 0, 0, 0, 0, 0, 0, 0, 0, 0, 0, 0, 0,\n",
            "        0, 0, 0, 0, 0, 0, 0, 0, 0, 0, 0, 0, 0, 0, 0, 0, 0, 0, 0, 0, 0, 0, 0, 0,\n",
            "        0, 0, 0, 0, 0, 0, 0, 0, 0, 0, 0, 0, 0, 0, 0, 0, 0, 0, 0, 0, 0, 0, 0, 0,\n",
            "        0, 0, 0, 0, 0, 0, 0, 0, 0, 0, 0, 0, 0, 0, 0, 0, 0, 0, 0, 0, 0, 0, 0, 0,\n",
            "        0, 0, 0, 0, 0, 0, 0, 0, 0, 0, 0, 0, 0, 0, 0, 0, 0, 0, 0, 0, 0, 0, 0, 0,\n",
            "        0, 0, 0, 0, 0, 0, 0, 0, 0, 0, 0, 0, 0, 0, 0, 0, 0, 0, 0, 0, 0, 0, 0, 0,\n",
            "        0, 0, 0, 0, 0, 0, 0, 0, 0, 0, 0, 0, 0, 0, 0, 0, 0, 0, 0, 0, 0, 0, 0, 0,\n",
            "        0, 0, 0, 0, 0, 0, 0, 0, 0, 0, 0, 0, 0, 0, 0, 0, 0, 0, 0, 0, 0, 0, 0, 0,\n",
            "        0, 0, 0, 0, 0, 0, 0, 0, 0, 0, 0, 0, 0, 0, 0, 0, 0, 0, 0, 0, 0, 0, 0, 0,\n",
            "        0, 0, 0, 0, 0, 0, 0, 0, 0, 0, 0, 0, 0, 0, 0, 0]), tensor(0))\n"
          ]
        }
      ]
    },
    {
      "cell_type": "code",
      "source": [
        "def save_model(model, filepath):\n",
        "    torch.save(model.state_dict(), filepath)\n",
        "\n",
        "def load_model(model, filename, device):\n",
        "    model.load_state_dict(torch.load(filename, map_location=device))\n",
        "    return model\n",
        "\n",
        "\n",
        "\n",
        "model_la_unp_unaug = train_model_non_cont(multilingual_bert_authorship_model_lat_unp_unaug, la_train_unp_unaug, valid_data_unprocessed_la)\n",
        "save_model(model_la_unp_unaug, 'model_la_unp_unaug.pth')\n",
        "\n",
        "del multilingual_bert_authorship_model_lat_unp_unaug\n",
        "torch.cuda.empty_cache()\n",
        "\n",
        "# Train the English model\n",
        "model_en_unp_unaug = train_model_non_cont(multilingual_bert_authorship_model_en_unp_unaug, en_train_unp_unaug, valid_data_unprocessed_en)\n",
        "\n",
        "save_model(model_en_unp_unaug, 'model_en_unp_unaug.pth')\n",
        "\n",
        "# Clean up\n",
        "del multilingual_bert_authorship_model_en_unp_unaug\n",
        "torch.cuda.empty_cache()\n"
      ],
      "metadata": {
        "colab": {
          "base_uri": "https://localhost:8080/",
          "height": 1000
        },
        "id": "m4ZjQAtbuwxo",
        "outputId": "d8afdde5-d7c4-405e-ec4c-dbcd00947c01"
      },
      "execution_count": 35,
      "outputs": [
        {
          "output_type": "stream",
          "name": "stderr",
          "text": [
            "/usr/local/lib/python3.10/dist-packages/transformers/optimization.py:411: FutureWarning: This implementation of AdamW is deprecated and will be removed in a future version. Use the PyTorch implementation torch.optim.AdamW instead, or set `no_deprecation_warning=True` to disable this warning\n",
            "  warnings.warn(\n"
          ]
        },
        {
          "output_type": "stream",
          "name": "stdout",
          "text": [
            "Epoch 1/8 completed. Training Loss: 5225.9325, Validation Loss: 4949.8031\n",
            "Epoch 2/8 completed. Training Loss: 4700.7925, Validation Loss: 4472.1447\n",
            "Epoch 3/8 completed. Training Loss: 4273.1742, Validation Loss: 4097.2303\n",
            "Epoch 4/8 completed. Training Loss: 3950.2678, Validation Loss: 3826.6861\n",
            "Epoch 5/8 completed. Training Loss: 3728.6898, Validation Loss: 3652.7063\n",
            "Epoch 6/8 completed. Training Loss: 3596.2822, Validation Loss: 3559.0315\n",
            "Epoch 7/8 completed. Training Loss: 3533.4292, Validation Loss: 3523.1772\n",
            "Epoch 8/8 completed. Training Loss: 3515.2183, Validation Loss: 3517.9016\n",
            "Training completed\n"
          ]
        },
        {
          "output_type": "display_data",
          "data": {
            "text/plain": [
              "<Figure size 1000x600 with 1 Axes>"
            ],
            "image/png": "[encoded data removed]"
          },
          "metadata": {}
        },
        {
          "output_type": "stream",
          "name": "stderr",
          "text": [
            "/usr/local/lib/python3.10/dist-packages/transformers/optimization.py:411: FutureWarning: This implementation of AdamW is deprecated and will be removed in a future version. Use the PyTorch implementation torch.optim.AdamW instead, or set `no_deprecation_warning=True` to disable this warning\n",
            "  warnings.warn(\n"
          ]
        },
        {
          "output_type": "stream",
          "name": "stdout",
          "text": [
            "Epoch 1/8 completed. Training Loss: 5225.8606, Validation Loss: 4948.2246\n",
            "Epoch 2/8 completed. Training Loss: 4699.8406, Validation Loss: 4470.8443\n",
            "Epoch 3/8 completed. Training Loss: 4271.5487, Validation Loss: 4094.6231\n",
            "Epoch 4/8 completed. Training Loss: 3947.2878, Validation Loss: 3822.7029\n",
            "Epoch 5/8 completed. Training Loss: 3724.1221, Validation Loss: 3646.9923\n",
            "Epoch 6/8 completed. Training Loss: 3590.2402, Validation Loss: 3552.1565\n",
            "Epoch 7/8 completed. Training Loss: 3526.5303, Validation Loss: 3515.9027\n",
            "Epoch 8/8 completed. Training Loss: 3508.0541, Validation Loss: 3510.5607\n",
            "Training completed\n"
          ]
        },
        {
          "output_type": "display_data",
          "data": {
            "text/plain": [
              "<Figure size 1000x600 with 1 Axes>"
            ],
            "image/png": "[encoded data removed]"
          },
          "metadata": {}
        }
      ]
    },
    {
      "cell_type": "markdown",
      "source": [
        "Unprocessed Augmented Data:"
      ],
      "metadata": {
        "id": "wDAjMMwFu6oX"
      }
    },
    {
      "cell_type": "code",
      "source": [
        "multilingual_BERT_model__lat_unp_aug = BertModel.from_pretrained(\"bert-base-multilingual-uncased\")\n",
        "multilingual_BERT_model__en_unp_aug=  BertModel.from_pretrained(\"bert-base-multilingual-uncased\")\n",
        "\n",
        "classifier_lat_unp_aug = Classifier()\n",
        "classifier_en_unp_aug = Classifier()\n",
        "\n",
        "\n",
        "multilingual_bert_authorship_model_unp_aug1 = MultilingualBertForAuthorshipAttribution(multilingual_BERT_model__lat_unp_aug, classifier_lat_unp_aug)\n",
        "multilingual_bert_authorship_model_unp_aug2= MultilingualBertForAuthorshipAttribution(multilingual_BERT_model__en_unp_aug, classifier_en_unp_aug)\n",
        "multilingual_BERT_tokenizer= BertTokenizer.from_pretrained('bert-base-multilingual-uncased')\n",
        "\n",
        "sorted_unp_aug_train= sort_dataframe_by_file(train_data_17k_pre_lem)\n",
        "\n",
        "la_train_unp_aug, en_train_unp_aug= split_lang(sorted_unp_aug_train, multilingual_BERT_tokenizer)\n",
        "\n",
        "# Seed for reproducibility\n",
        "torch.manual_seed(42)\n",
        "\n",
        "# Shuffle indices for 'la_train_unp_aug'\n",
        "la_indices = torch.randperm(len(la_train_unp_aug))\n",
        "la_train_unp_aug = TensorDataset(*[t[la_indices] for t in la_train_unp_aug.tensors])\n",
        "\n",
        "# Shuffle indices for 'en_train_unp_aug'\n",
        "en_indices = torch.randperm(len(en_train_unp_aug))\n",
        "en_train_unp_aug = TensorDataset(*[t[en_indices] for t in en_train_unp_aug.tensors])\n",
        "\n",
        "\n",
        "\n",
        "\n",
        "model_la_unp_aug = train_model_non_cont(multilingual_bert_authorship_model_unp_aug1, la_train_unp_aug, valid_data_unprocessed_la)\n",
        "save_model(model_la_unp_aug, 'model_la_unp_aug.pth')\n",
        "\n",
        "del multilingual_BERT_model__lat_unp_aug\n",
        "torch.cuda.empty_cache()\n",
        "\n",
        "\n",
        "\n",
        "model_en_unp_aug = train_model_non_cont(multilingual_bert_authorship_model_unp_aug2, en_train_unp_aug, valid_data_unprocessed_en)\n",
        "\n",
        "save_model(model_en_unp_aug, 'model_en_unp_aug.pth')\n",
        "\n",
        "del multilingual_BERT_model__en_unp_aug\n",
        "torch.cuda.empty_cache()\n"
      ],
      "metadata": {
        "colab": {
          "base_uri": "https://localhost:8080/",
          "height": 1000
        },
        "id": "yyCWAf3qu7Q7",
        "outputId": "aca8abe1-ceb7-40d0-dd33-d48f9bbc1f0d"
      },
      "execution_count": 37,
      "outputs": [
        {
          "output_type": "stream",
          "name": "stdout",
          "text": [
            "tensor(0)\n",
            "Epoch 1/8 completed. Training Loss: 4453.0491, Validation Loss: 3527.3667\n",
            "Epoch 2/8 completed. Training Loss: 2833.5480, Validation Loss: 2246.6867\n",
            "Epoch 3/8 completed. Training Loss: 1829.0949, Validation Loss: 1487.1683\n",
            "Epoch 4/8 completed. Training Loss: 1252.5024, Validation Loss: 1066.6009\n",
            "Epoch 5/8 completed. Training Loss: 941.4880, Validation Loss: 847.4069\n",
            "Epoch 6/8 completed. Training Loss: 785.3442, Validation Loss: 744.1443\n",
            "Epoch 7/8 completed. Training Loss: 718.6076, Validation Loss: 707.4565\n",
            "Epoch 8/8 completed. Training Loss: 700.1942, Validation Loss: 702.1713\n",
            "Training completed\n"
          ]
        },
        {
          "output_type": "display_data",
          "data": {
            "text/plain": [
              "<Figure size 1000x600 with 1 Axes>"
            ],
            "image/png": "[encoded data removed]"
          },
          "metadata": {}
        },
        {
          "output_type": "stream",
          "name": "stdout",
          "text": [
            "Epoch 1/8 completed. Training Loss: 4465.6157, Validation Loss: 3547.7674\n",
            "Epoch 2/8 completed. Training Loss: 2856.5325, Validation Loss: 2272.6379\n",
            "Epoch 3/8 completed. Training Loss: 1855.7618, Validation Loss: 1514.1887\n",
            "Epoch 4/8 completed. Training Loss: 1278.9445, Validation Loss: 1091.8773\n",
            "Epoch 5/8 completed. Training Loss: 965.9952, Validation Loss: 870.6264\n",
            "Epoch 6/8 completed. Training Loss: 808.2197, Validation Loss: 766.3471\n",
            "Epoch 7/8 completed. Training Loss: 740.5198, Validation Loss: 728.8881\n",
            "Epoch 8/8 completed. Training Loss: 721.7868, Validation Loss: 723.5009\n",
            "Training completed\n"
          ]
        },
        {
          "output_type": "display_data",
          "data": {
            "text/plain": [
              "<Figure size 1000x600 with 1 Axes>"
            ],
            "image/png": "[encoded data removed]"
          },
          "metadata": {}
        }
      ]
    },
    {
      "cell_type": "markdown",
      "source": [
        "Lem+SW Augmented Data:"
      ],
      "metadata": {
        "id": "57IZyJEpvAHn"
      }
    },
    {
      "cell_type": "code",
      "source": [
        "multilingual_BERT_model__lat_lem_sw_aug = BertModel.from_pretrained(\"bert-base-multilingual-uncased\")\n",
        "multilingual_BERT_model__en_lem_sw_aug=  BertModel.from_pretrained(\"bert-base-multilingual-uncased\")\n",
        "\n",
        "\n",
        "classifier_lat_lem_sw_aug = Classifier()\n",
        "classifier_en_lem_sw_aug = Classifier()\n",
        "\n",
        "multilingual_bert_authorship_model_lem_sw_augla = MultilingualBertForAuthorshipAttribution(multilingual_BERT_model__lat_lem_sw_aug, classifier_lat_lem_sw_aug)\n",
        "multilingual_bert_authorship_model_lem_sw_augen= MultilingualBertForAuthorshipAttribution(multilingual_BERT_model__en_lem_sw_aug, classifier_en_lem_sw_aug)\n",
        "\n",
        "sorted_pre_aug_lem_sw_train= sort_dataframe_by_file(train_data_17k_pre_lem_sw)\n",
        "\n",
        "sorted_pre_aug_lem_sw_test= sort_dataframe_by_file(test_data_pre_lem_sw)\n",
        "\n",
        "sorted_pre_aug_lem_sw_test_la, sorted_pre_aug_lem_sw_test_en = split_lang(sorted_pre_aug_lem_sw_test,multilingual_BERT_tokenizer )\n",
        "\n",
        "\n",
        "la_train_pre_lem_sw_aug, en_train_pre_lem_sw_aug= split_lang(sorted_pre_aug_lem_sw_train, multilingual_BERT_tokenizer)\n",
        "\n",
        "# Seed for reproducibility\n",
        "torch.manual_seed(42)\n",
        "\n",
        "la_indices = torch.randperm(len(la_train_pre_lem_sw_aug))\n",
        "la_train_pre_lem_sw_aug = TensorDataset(*[t[la_indices] for t in la_train_pre_lem_sw_aug.tensors])\n",
        "\n",
        "en_indices = torch.randperm(len(en_train_unp_aug))\n",
        "en_train_pre_lem_sw_aug = TensorDataset(*[t[en_indices] for t in en_train_pre_lem_sw_aug.tensors])\n",
        "\n",
        "\n",
        "\n",
        "\n",
        "valid_data_lem_sw_la, valid_data_lem_sw_en = split_lang(valid_data_pre_lem_sw, multilingual_BERT_tokenizer)\n",
        "\n",
        "model_la_pre_lem_sw_aug = train_model_non_cont(multilingual_bert_authorship_model_lem_sw_augla, la_train_pre_lem_sw_aug, valid_data_lem_sw_la)\n",
        "\n",
        "save_model(model_la_pre_lem_sw_aug, 'model_la_pre_lem_sw_aug.pth')\n",
        "\n",
        "del multilingual_BERT_model__lat_lem_sw_aug\n",
        "torch.cuda.empty_cache()\n",
        "\n",
        "\n",
        "\n",
        "model_en_pre_lem_sw_aug = train_model_non_cont(multilingual_bert_authorship_model_lem_sw_augen, en_train_pre_lem_sw_aug,valid_data_lem_sw_en )\n",
        "\n",
        "save_model(model_en_pre_lem_sw_aug, 'model_en_pre_lem_sw_aug.pth')\n",
        "\n",
        "del multilingual_BERT_model__en_lem_sw_aug\n",
        "torch.cuda.empty_cache()\n",
        "\n"
      ],
      "metadata": {
        "colab": {
          "base_uri": "https://localhost:8080/",
          "height": 1000
        },
        "id": "7jDlzbo7vE8K",
        "outputId": "7a0cd5aa-c713-4ab7-b83d-ce0221b0312f"
      },
      "execution_count": 38,
      "outputs": [
        {
          "output_type": "stream",
          "name": "stdout",
          "text": [
            "tensor(0)\n",
            "tensor(0)\n",
            "tensor(1)\n",
            "Epoch 1/8 completed. Training Loss: 4460.5091, Validation Loss: 3539.1600\n",
            "Epoch 2/8 completed. Training Loss: 2845.4046, Validation Loss: 2258.6196\n",
            "Epoch 3/8 completed. Training Loss: 1840.8133, Validation Loss: 1498.6004\n",
            "Epoch 4/8 completed. Training Loss: 1263.4435, Validation Loss: 1077.0188\n",
            "Epoch 5/8 completed. Training Loss: 951.3337, Validation Loss: 856.8618\n",
            "Epoch 6/8 completed. Training Loss: 794.4568, Validation Loss: 753.0347\n",
            "Epoch 7/8 completed. Training Loss: 727.3221, Validation Loss: 716.1278\n",
            "Epoch 8/8 completed. Training Loss: 708.7760, Validation Loss: 710.7991\n",
            "Training completed\n"
          ]
        },
        {
          "output_type": "display_data",
          "data": {
            "text/plain": [
              "<Figure size 1000x600 with 1 Axes>"
            ],
            "image/png": "[encoded data removed]"
          },
          "metadata": {}
        },
        {
          "output_type": "stream",
          "name": "stdout",
          "text": [
            "Epoch 1/8 completed. Training Loss: 4460.1703, Validation Loss: 3542.1589\n",
            "Epoch 2/8 completed. Training Loss: 2852.2456, Validation Loss: 2267.8397\n",
            "Epoch 3/8 completed. Training Loss: 1851.1215, Validation Loss: 1509.6270\n",
            "Epoch 4/8 completed. Training Loss: 1274.4243, Validation Loss: 1087.5930\n",
            "Epoch 5/8 completed. Training Loss: 961.6709, Validation Loss: 866.5698\n",
            "Epoch 6/8 completed. Training Loss: 804.3423, Validation Loss: 762.5851\n",
            "Epoch 7/8 completed. Training Loss: 736.8670, Validation Loss: 725.3172\n",
            "Epoch 8/8 completed. Training Loss: 718.2030, Validation Loss: 719.9442\n",
            "Training completed\n"
          ]
        },
        {
          "output_type": "display_data",
          "data": {
            "text/plain": [
              "<Figure size 1000x600 with 1 Axes>"
            ],
            "image/png": "[encoded data removed]"
          },
          "metadata": {}
        }
      ]
    },
    {
      "cell_type": "markdown",
      "source": [
        "*Evaluating Accuracy*"
      ],
      "metadata": {
        "id": "gAm38XyXvWBb"
      }
    },
    {
      "cell_type": "code",
      "source": [
        "acc_la_unp_unaug = evaluate_model(model_la_unp_unaug, la_test_unp, \"la_unprocessed_unaugmented\")\n",
        "acc_en_unp_unaug = evaluate_model(model_en_unp_unaug, en_test_unp, \"en_unprocessed_unaugmented\")\n"
      ],
      "metadata": {
        "id": "OKpvtFQhvYk3"
      },
      "execution_count": 39,
      "outputs": []
    },
    {
      "cell_type": "code",
      "source": [
        "acc_la_unp_aug = evaluate_model(model_la_unp_aug, la_test_unp, \"la_unprocessed_augmented\")\n",
        "acc_en_unp_aug = evaluate_model(model_en_unp_aug, en_test_unp, \"en_unprocessed_augmented\")"
      ],
      "metadata": {
        "id": "UnU-P-dOva01"
      },
      "execution_count": 40,
      "outputs": []
    },
    {
      "cell_type": "code",
      "source": [
        "acc_la_pre_lem_sw_aug = evaluate_model(model_la_pre_lem_sw_aug, sorted_pre_aug_lem_sw_test_la, \"la_lemm_sw_augmented\")\n",
        "acc_en_pre_lem_sw_aug = evaluate_model(model_en_pre_lem_sw_aug, sorted_pre_aug_lem_sw_test_en, \"en_lemm_sw_augmented\")"
      ],
      "metadata": {
        "id": "2YgQs7njvbLC"
      },
      "execution_count": 41,
      "outputs": []
    },
    {
      "cell_type": "code",
      "source": [
        "print(f\"acc_la_unp_unaug: {acc_la_unp_unaug}\" )\n",
        "print(f\"acc_en_unp_unaug: {acc_en_unp_unaug}\" )\n",
        "\n",
        "print(f\"acc_la_unp_aug: {acc_la_unp_aug}\" )\n",
        "print(f\"acc_en_unp_aug: {acc_en_unp_aug} \" )\n",
        "\n",
        "print(f\"acc_la_pre_lem_sw_aug: {acc_la_pre_lem_sw_aug} \")\n",
        "print(f\"acc_en_pre_lem_sw_aug: {acc_en_pre_lem_sw_aug}\")"
      ],
      "metadata": {
        "colab": {
          "base_uri": "https://localhost:8080/"
        },
        "id": "WrYT3sV7vdKK",
        "outputId": "81cb95e6-a094-497c-95a7-c9ab4e83bcb1"
      },
      "execution_count": 42,
      "outputs": [
        {
          "output_type": "stream",
          "name": "stdout",
          "text": [
            "acc_la_unp_unaug: 0.9666666666666667\n",
            "acc_en_unp_unaug: 0.8944444444444445\n",
            "acc_la_unp_aug: 0.9694444444444444\n",
            "acc_en_unp_aug: 0.8916666666666667 \n",
            "acc_la_pre_lem_sw_aug: 0.9475138121546961 \n",
            "acc_en_pre_lem_sw_aug: 0.8950276243093923\n"
          ]
        }
      ]
    },
    {
      "cell_type": "code",
      "source": [
        "latin_labels = ['LA Unprocessed Unaugmented', 'LA Unprocessed Augmented', 'LA Preprocessed Lemmatized SW Augmented']\n",
        "english_labels = ['EN Unprocessed Unaugmented', 'EN Unprocessed Augmented', 'EN Preprocessed Lemmatized SW Augmented']\n",
        "\n",
        "latin_values = [acc_la_unp_unaug, acc_la_unp_aug, acc_la_pre_lem_sw_aug]\n",
        "english_values = [acc_en_unp_unaug, acc_en_unp_aug, acc_en_pre_lem_sw_aug]\n",
        "\n",
        "plt.figure(figsize=(10, 6))\n",
        "\n",
        "bar_width = 0.35  # Width of the bars\n",
        "index = range(len(latin_labels))\n",
        "\n",
        "latin_bars = plt.bar(index, latin_values, bar_width, label='Latin', color='skyblue')\n",
        "english_bars = plt.bar([i + bar_width for i in index], english_values, bar_width, label='English', color='salmon')\n",
        "\n",
        "plt.xlabel('Dataset Categories')\n",
        "plt.ylabel('Accuracy')\n",
        "plt.title('Model Accuracies for Latin and English Datasets')\n",
        "plt.xticks([i + bar_width / 2 for i in index], latin_labels, rotation=45, ha=\"right\")\n",
        "plt.legend()\n",
        "plt.ylim(0, 1.1)\n",
        "plt.show()\n"
      ],
      "metadata": {
        "colab": {
          "base_uri": "https://localhost:8080/",
          "height": 784
        },
        "id": "ScFvCV6-vkHA",
        "outputId": "e6cdd062-b12e-4a2b-867e-3f6f012683ec"
      },
      "execution_count": 43,
      "outputs": [
        {
          "output_type": "display_data",
          "data": {
            "text/plain": [
              "<Figure size 1000x600 with 1 Axes>"
            ],
            "image/png": "[encoded data removed]"
          },
          "metadata": {}
        }
      ]
    },
    {
      "cell_type": "markdown",
      "source": [
        "# Contrastive Learning Approach"
      ],
      "metadata": {
        "id": "eqVKNVBEwy7u"
      }
    },
    {
      "cell_type": "markdown",
      "source": [
        "*loss function*"
      ],
      "metadata": {
        "id": "j-Vu-y4Gw3wR"
      }
    },
    {
      "cell_type": "code",
      "source": [
        "def combined_loss_function(outputs, labels, embeddings, temperature=0.1, lambda_coef=1.0):\n",
        "    \"\"\"\n",
        "    Calculate the combined cross-entropy and contrastive loss.\n",
        "\n",
        "    Args:\n",
        "    outputs (torch.Tensor): Output logits from the model (before softmax), shape (batch_size, num_classes)\n",
        "    labels (torch.Tensor): True labels, shape (batch_size,)\n",
        "    embeddings (torch.Tensor): Embeddings from the model, shape (batch_size, embedding_dim)\n",
        "    temperature (float): Temperature parameter for the contrastive loss\n",
        "    lambda_coef (float): Coefficient for balancing the two losses\n",
        "\n",
        "\n",
        "    Returns:\n",
        "    torch.Tensor: Combined loss\n",
        "    \"\"\"\n",
        "    # Cross-entropy loss\n",
        "    LCE = F.cross_entropy(outputs, labels)\n",
        "\n",
        "\n",
        "    # Normalize the embeddings to unit vectors\n",
        "    embeddings_norm = F.normalize(embeddings, p=2, dim=1)\n",
        "\n",
        "    similarity_matrix = torch.matmul(embeddings_norm, embeddings_norm.T) / temperature\n",
        "\n",
        "    max_sim = torch.max(similarity_matrix, dim=1, keepdim=True)[0]\n",
        "    similarity_matrix = similarity_matrix - max_sim.detach()  # Detach to prevent gradients for max_sim\n",
        "\n",
        "\n",
        "    # Create masks for positive and negative samples\n",
        "    labels_matrix = labels.unsqueeze(1) == labels.unsqueeze(0)\n",
        "    positive_mask = labels_matrix.fill_diagonal_(False)\n",
        "    negative_mask = ~labels_matrix\n",
        "\n",
        "    # Calculate the contrastive loss\n",
        "    numerator = torch.exp(similarity_matrix) * positive_mask\n",
        "    denominator = torch.exp(similarity_matrix) * (positive_mask + negative_mask)\n",
        "    epsilon = 1e-9\n",
        "    LCL = -torch.log(torch.sum(numerator, dim=1) / (torch.sum(denominator, dim=1) + epsilon))\n",
        "\n",
        "\n",
        "    #LCL is differ ent from LCE in that it explicitly enforces pairwise constraints in the representation space φ(·)\n",
        "\n",
        "    # Combine the losses\n",
        "    combined_loss = LCE + lambda_coef * LCL.mean()\n",
        "\n",
        "    return combined_loss"
      ],
      "metadata": {
        "id": "uX_YbvpVw3Hf"
      },
      "execution_count": null,
      "outputs": []
    },
    {
      "cell_type": "markdown",
      "source": [
        "*Training Function*"
      ],
      "metadata": {
        "id": "5dY2_dMdxBZ8"
      }
    },
    {
      "cell_type": "code",
      "source": [
        "def train_model_cont(model, train_dataset, val_dataset, lambda_coef=1.0, temperature=0.1, learning_rate=2e-5, num_epochs=8, batch_size=24, weight_decay=0.0001, l1_lambda=0.001):\n",
        "    \"\"\"\n",
        "    Train the model with the specified parameters.\n",
        "    \"\"\"\n",
        "    model = model.to(device)\n",
        "\n",
        "    # Create DataLoaders for the training and validation data\n",
        "    train_loader = DataLoader(train_dataset, batch_size=batch_size, shuffle=True)\n",
        "    val_loader = DataLoader(val_dataset, batch_size=batch_size)\n",
        "\n",
        "    # Initialize the optimizer with L2 regularization (weight decay)\n",
        "    optimizer = AdamW(model.parameters(), lr=learning_rate, weight_decay=weight_decay)\n",
        "\n",
        "    total_steps = len(train_loader) * num_epochs\n",
        "    # Initialize the learning rate scheduler\n",
        "    scheduler = get_cosine_schedule_with_warmup(optimizer, num_warmup_steps=0, num_training_steps=total_steps)\n",
        "\n",
        "    training_losses = []\n",
        "    validation_losses = []\n",
        "\n",
        "    # Early stopping parameters\n",
        "    no_improvement = 0\n",
        "    min_val_loss = float('inf')\n",
        "\n",
        "    # Set the model to training mode\n",
        "    model.train()\n",
        "\n",
        "    for epoch in range(num_epochs):\n",
        "        total_train_loss = 0\n",
        "\n",
        "        # Training phase\n",
        "        for batch in train_loader:\n",
        "            inputs, attention_mask, labels = batch\n",
        "            inputs, attention_mask, labels = inputs.to(device), attention_mask.to(device), labels.to(device)\n",
        "\n",
        "            # Forward pass: Compute embeddings and output logits from the model\n",
        "            embeddings, outputs = model(inputs, attention_mask)\n",
        "\n",
        "            # Compute the non-contrastive loss\n",
        "            loss = combined_loss_function(outputs, labels, embeddings, temperature, lambda_coef)\n",
        "\n",
        "            # L1 regularization term\n",
        "            l1_reg = sum(torch.sum(torch.abs(param)) for param in model.parameters())\n",
        "            loss += l1_lambda * l1_reg\n",
        "\n",
        "            # Backward pass and optimization\n",
        "            optimizer.zero_grad()\n",
        "            loss.backward()\n",
        "            optimizer.step()\n",
        "            scheduler.step()\n",
        "\n",
        "            total_train_loss += loss.item()\n",
        "\n",
        "        avg_train_loss = total_train_loss / len(train_loader)\n",
        "        training_losses.append(avg_train_loss)\n",
        "\n",
        "        # Validation phase\n",
        "        model.eval()\n",
        "        total_val_loss = 0\n",
        "\n",
        "        with torch.no_grad():\n",
        "            for batch in val_loader:\n",
        "                inputs, attention_mask, labels = batch\n",
        "                inputs, attention_mask, labels = inputs.to(device), attention_mask.to(device), labels.to(device)\n",
        "\n",
        "                embeddings, outputs = model(inputs, attention_mask)\n",
        "                loss = noncontrastive_loss_function(outputs, labels, embeddings, temperature, lambda_coef)\n",
        "\n",
        "                # L1 regularization term also during validation\n",
        "                l1_reg = sum(torch.sum(torch.abs(param)) for param in model.parameters())\n",
        "                loss += l1_lambda * l1_reg\n",
        "\n",
        "                total_val_loss += loss.item()\n",
        "\n",
        "        avg_val_loss = total_val_loss / len(val_loader)\n",
        "        validation_losses.append(avg_val_loss)\n",
        "\n",
        "        # Check for early stopping\n",
        "        if avg_val_loss < min_val_loss:\n",
        "            min_val_loss = avg_val_loss\n",
        "            no_improvement = 0\n",
        "        else:\n",
        "            no_improvement += 1\n",
        "\n",
        "        if no_improvement >= 2:\n",
        "            print(f'Early stopping triggered at epoch {epoch+1}')\n",
        "            break\n",
        "\n",
        "        model.train()  # Switch back to training mode\n",
        "\n",
        "        print(f'Epoch {epoch+1}/{num_epochs} completed. Training Loss: {avg_train_loss:.4f}, Validation Loss: {avg_val_loss:.4f}')\n",
        "\n",
        "    print('Training completed')\n",
        "\n",
        "    plt.figure(figsize=(10, 6))\n",
        "    plt.plot(training_losses, label='Training Loss')\n",
        "    plt.plot(validation_losses, label='Validation Loss')\n",
        "    plt.title('Training and Validation Loss Over Epochs mBERT Non-Contrastive Learning')\n",
        "    plt.xlabel('Epochs')\n",
        "    plt.ylabel('Loss')\n",
        "    plt.legend()\n",
        "    plt.show()\n",
        "\n",
        "    return model"
      ],
      "metadata": {
        "id": "rl_m_u-QxQ0b"
      },
      "execution_count": null,
      "outputs": []
    },
    {
      "cell_type": "markdown",
      "source": [
        "Unprocessed unaugmented data:"
      ],
      "metadata": {
        "id": "MEqZRIAIxu8u"
      }
    },
    {
      "cell_type": "code",
      "source": [
        "multilingual_BERT_model__lat_unp_unaug = BertModel.from_pretrained(\"bert-base-multilingual-uncased\")\n",
        "multilingual_BERT_model__en_unp_unaug=  BertModel.from_pretrained(\"bert-base-multilingual-uncased\")\n",
        "\n",
        "classifier_lat_unp_unaug = Classifier()\n",
        "classifier_en_unp_unaug = Classifier()\n",
        "\n",
        "\n",
        "multilingual_bert_authorship_model_lat_unp_unaug= MultilingualBertForAuthorshipAttribution(multilingual_BERT_model__lat_unp_unaug, classifier_lat_unp_unaug)\n",
        "multilingual_bert_authorship_model_en_unp_unaug = MultilingualBertForAuthorshipAttribution(multilingual_BERT_model__en_unp_unaug, classifier_en_unp_unaug)\n",
        "\n",
        "# Seed for reproducibility\n",
        "torch.manual_seed(42)\n",
        "\n",
        "# Shuffle indices for 'la_train_unp_unaug'\n",
        "la_indices = torch.randperm(len(la_train_unp_unaug))\n",
        "la_train_unp_unaug = TensorDataset(*[t[la_indices] for t in la_train_unp_unaug.tensors])\n",
        "\n",
        "# Shuffle indices for 'en_train_unp_unaug'\n",
        "en_indices = torch.randperm(len(en_train_unp_unaug))\n",
        "en_train_unp_unaug = TensorDataset(*[t[en_indices] for t in en_train_unp_unaug.tensors])\n",
        "\n",
        "\n",
        "valid_data_unprocessed_la, valid_data_unprocessed_en = split_lang(valid_data_unprocessed, multilingual_BERT_tokenizer)\n"
      ],
      "metadata": {
        "id": "7meMl22-xWKp"
      },
      "execution_count": null,
      "outputs": []
    },
    {
      "cell_type": "code",
      "source": [
        "\n",
        "model_la_unp_unaug = train_model_non_cont(multilingual_bert_authorship_model_lat_unp_unaug, train_subset, valid_data_unprocessed_la)\n",
        "save_model(model_la_unp_unaug, 'model_la_unp_unaug.pth')\n",
        "\n",
        "# Move the Latin model off GPU and clear cache\n",
        "del multilingual_bert_authorship_model_lat_unp_unaug\n",
        "torch.cuda.empty_cache()\n",
        "\n",
        "# Train the English model\n",
        "model_en_unp_unaug = train_model_non_cont(multilingual_bert_authorship_model_en_unp_unaug, en_train_unp_unaug, valid_data_unprocessed_en)\n",
        "\n",
        "# Optionally, save the English model as well\n",
        "save_model(model_en_unp_unaug, 'model_en_unp_unaug.pth')\n",
        "\n",
        "# Clean up\n",
        "del multilingual_bert_authorship_model_en_unp_unaug\n",
        "torch.cuda.empty_cache()\n",
        "\n",
        "\n",
        "torch.cuda.empty_cache()\n",
        "train_subset = torch.utils.data.Subset(la_train_unp_unaug, range(96))\n",
        "model_la_unp_unaug = train_model_non_cont(multilingual_bert_authorship_model_lat_unp_unaug,train_subset,valid_data_unprocessed_la )\n",
        "model_en_unp_unaug = train_model_non_cont(multilingual_bert_authorship_model_en_unp_unaug, en_train_unp_unaug,valid_data_unprocessed_en )"
      ],
      "metadata": {
        "id": "dA06ksK-xnZ4"
      },
      "execution_count": null,
      "outputs": []
    },
    {
      "cell_type": "markdown",
      "source": [
        "Unprocessed augmented data"
      ],
      "metadata": {
        "id": "hpLPEdqZx3ZG"
      }
    },
    {
      "cell_type": "code",
      "source": [
        "multilingual_BERT_model__lat_unp_aug = BertModel.from_pretrained(\"bert-base-multilingual-uncased\")\n",
        "multilingual_BERT_model__en_unp_aug=  BertModel.from_pretrained(\"bert-base-multilingual-uncased\")\n",
        "\n",
        "classifier_lat_unp_aug = Classifier()\n",
        "classifier_en_unp_aug = Classifier()\n",
        "\n",
        "\n",
        "multilingual_bert_authorship_model_unp_aug1 = MultilingualBertForAuthorshipAttribution(multilingual_BERT_model__lat_unp_aug, classifier_lat_unp_aug)\n",
        "multilingual_bert_authorship_model_unp_aug2= MultilingualBertForAuthorshipAttribution(multilingual_BERT_model__en_unp_aug, classifier_en_unp_aug)\n",
        "multilingual_BERT_tokenizer= BertTokenizer.from_pretrained('bert-base-multilingual-uncased')\n",
        "\n",
        "sorted_unp_aug_train= sort_dataframe_by_file(train_data_17k_pre_lem)\n",
        "\n",
        "la_train_unp_aug, en_train_unp_aug= split_lang(sorted_unp_aug_train, multilingual_BERT_tokenizer)\n",
        "\n",
        "la_train_unp_aug = la_train_unp_aug.sample(frac=1, random_state=42).reset_index(drop=True)\n",
        "en_train_unp_aug = en_train_unp_aug.sample(frac=1, random_state=42).reset_index(drop=True)\n",
        "\n",
        "\n",
        "\n",
        "\n",
        "model_la_unp_aug = train_model_non_cont(multilingual_bert_authorship_model_unp_aug1, la_train_unp_aug, valid_data_unprocessed_la)\n",
        "model_en_unp_aug = train_model_non_cont(multilingual_bert_authorship_model_unp_aug2, en_train_unp_aug, valid_data_unprocessed_en)"
      ],
      "metadata": {
        "id": "QVhH3_Lrxoy0"
      },
      "execution_count": null,
      "outputs": []
    },
    {
      "cell_type": "markdown",
      "source": [
        "Lem+SW Augmented Data:"
      ],
      "metadata": {
        "id": "giMHlgoWx6d2"
      }
    },
    {
      "cell_type": "code",
      "source": [
        "multilingual_BERT_model__lat_lem_sw_aug = BertModel.from_pretrained(\"bert-base-multilingual-uncased\")\n",
        "multilingual_BERT_model__en_lem_sw_aug=  BertModel.from_pretrained(\"bert-base-multilingual-uncased\")\n",
        "\n",
        "\n",
        "classifier_lat_lem_sw_aug = Classifier()\n",
        "classifier_en_lem_sw_aug = Classifier()\n",
        "\n",
        "multilingual_bert_authorship_model_lem_sw_augla = MultilingualBertForAuthorshipAttribution(multilingual_BERT_model__lat_lem_sw_aug, classifier_lat_lem_sw_aug)\n",
        "multilingual_bert_authorship_model_lem_sw_augen= MultilingualBertForAuthorshipAttribution(multilingual_BERT_model__en_lem_sw_aug, classifier_en_lem_sw_aug)\n",
        "\n",
        "sorted_pre_aug_lem_sw_train= sort_dataframe_by_file(train_data_17k_pre_lem_sw)\n",
        "\n",
        "sorted_pre_aug_lem_sw_test= sort_dataframe_by_file(test_data_pre_lem_sw)\n",
        "\n",
        "sorted_pre_aug_lem_sw_test_la, sorted_pre_aug_lem_sw_test_en = split_lang(sorted_pre_aug_lem_sw_test,multilingual_BERT_tokenizer )\n",
        "\n",
        "\n",
        "la_train_pre_lem_sw_aug, en_train_pre_lem_sw_aug= split_lang(sorted_pre_aug_lem_sw_train, multilingual_BERT_tokenizer)\n",
        "\n",
        "la_train_pre_lem_sw_aug = la_train_pre_lem_sw_aug.sample(frac=1, random_state=42).reset_index(drop=True)\n",
        "en_train_pre_lem_sw_aug = en_train_pre_lem_sw_aug.sample(frac=1, random_state=42).reset_index(drop=True)\n",
        "\n",
        "valid_data_lem_sw_la, valid_data_lem_sw_en = split_lang(valid_data_pre_lem_sw, multilingual_BERT_tokenizer)\n",
        "\n",
        "model_la_pre_lem_sw_aug = train_model_non_cont(multilingual_bert_authorship_model_lem_sw_augla, la_train_pre_lem_sw_aug, valid_data_lem_sw_la)\n",
        "model_en_pre_lem_sw_aug = train_model_non_cont(multilingual_bert_authorship_model_lem_sw_augen, en_train_pre_lem_sw_aug,valid_data_lem_sw_en )"
      ],
      "metadata": {
        "id": "mGhj47ElyC5h"
      },
      "execution_count": null,
      "outputs": []
    }
  ]
}