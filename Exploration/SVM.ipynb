{
 "cells": [
  {
   "cell_type": "markdown",
   "metadata": {},
   "source": [
    "# Imports"
   ]
  },
  {
   "cell_type": "code",
   "execution_count": 1,
   "metadata": {},
   "outputs": [],
   "source": [
    "import numpy as np\n",
    "import pandas as pd\n",
    "from sklearn.svm import LinearSVC\n",
    "from sklearn.feature_extraction.text import CountVectorizer"
   ]
  },
  {
   "cell_type": "markdown",
   "metadata": {},
   "source": [
    "# Load Data\n",
    "\n",
    "I'm using the lemmatized data."
   ]
  },
  {
   "cell_type": "code",
   "execution_count": 3,
   "metadata": {},
   "outputs": [],
   "source": [
    "train = pd.read_csv(\"../Data/Train_Data/pre_processed/train_data_lemmatized.csv\")\n",
    "valid = pd.read_csv(\"../Data/Validation_Data/pre_processed/validation_data_lemmatized.csv\")\n",
    "test = pd.read_csv(\"../Data/Train_Data/pre_processed/train_data_lemmatized.csv\")"
   ]
  },
  {
   "cell_type": "markdown",
   "metadata": {},
   "source": [
    "# Look at Data"
   ]
  },
  {
   "cell_type": "code",
   "execution_count": 7,
   "metadata": {},
   "outputs": [
    {
     "name": "stdout",
     "output_type": "stream",
     "text": [
      "   id                                                 la  \\\n",
      "0   1  frater meus tu os meus et carus meus tu quare ...   \n",
      "1   2  qui cum video turbo sum in sermo is et cogito ...   \n",
      "2   3  tunc respondeo is quidam de scribo et Pharisae...   \n",
      "3   4  custos igitur tu ipse et anima tuus sollicitus...   \n",
      "4   5  annus secundus Ioas filius Ioachaz rex Israhel...   \n",
      "\n",
      "                                                  en  \\\n",
      "0  You are my brethren, you are my bone, and my f...   \n",
      "1  Who having heard, wa troubled at his saying an...   \n",
      "2  Then some of the scribe and Pharisees answered...   \n",
      "3  Keep thyself therefore, and thy soul carefully...   \n",
      "4  In the second year of Joas son of Joachaz, kin...   \n",
      "\n",
      "                                  file  \n",
      "0  final_alignments\\Vulgate_Bible.json  \n",
      "1  final_alignments\\Vulgate_Bible.json  \n",
      "2  final_alignments\\Vulgate_Bible.json  \n",
      "3  final_alignments\\Vulgate_Bible.json  \n",
      "4  final_alignments\\Vulgate_Bible.json  \n"
     ]
    }
   ],
   "source": [
    "print(train.head())"
   ]
  },
  {
   "cell_type": "markdown",
   "metadata": {},
   "source": [
    "# Vectorize the Data\n",
    "\n",
    "I'm using the string split() method as my tokenizer.\n",
    "\n",
    "Bag-of-Unigrams, bigrams, and trigrams as features.\n",
    "\n",
    "Might modify code to optimize MAX_NGRAM hyperparameter."
   ]
  },
  {
   "cell_type": "code",
   "execution_count": 12,
   "metadata": {},
   "outputs": [],
   "source": [
    "MAX_NGRAM = 3\n",
    "\n",
    "la_cv = CountVectorizer(lowercase=False, tokenizer=lambda s : s.split(), ngram_range=(1, MAX_NGRAM))\n",
    "en_cv = CountVectorizer(lowercase=False, tokenizer=lambda s : s.split())\n",
    "\n",
    "la_train = la_cv.fit_transform(train[\"la\"])\n",
    "la_valid = la_cv.transform(valid[\"la\"])\n",
    "la_test = la_cv.transform(test[\"la\"])\n",
    "en_train = en_cv.fit_transform(train[\"en\"])\n",
    "en_valid = en_cv.transform(valid[\"en\"])\n",
    "en_test = en_cv.transform(test[\"en\"])\n",
    "\n",
    "file_train = train[\"file\"]\n",
    "file_valid = valid[\"file\"]\n",
    "file_test = test[\"file\"]"
   ]
  },
  {
   "cell_type": "markdown",
   "metadata": {},
   "source": [
    "# Train the Models\n",
    "\n",
    "Currently I am not using the validation at all.\n",
    "\n",
    "I want to eventually use it to optimize MAX_NGRAM."
   ]
  },
  {
   "cell_type": "code",
   "execution_count": 13,
   "metadata": {},
   "outputs": [
    {
     "name": "stderr",
     "output_type": "stream",
     "text": [
      "/Library/Frameworks/Python.framework/Versions/3.8/lib/python3.8/site-packages/sklearn/svm/_classes.py:32: FutureWarning: The default value of `dual` will change from `True` to `'auto'` in 1.5. Set the value of `dual` explicitly to suppress the warning.\n",
      "  warnings.warn(\n"
     ]
    },
    {
     "name": "stdout",
     "output_type": "stream",
     "text": [
      "Latin accuracy: 1.0\n"
     ]
    },
    {
     "name": "stderr",
     "output_type": "stream",
     "text": [
      "/Library/Frameworks/Python.framework/Versions/3.8/lib/python3.8/site-packages/sklearn/svm/_classes.py:32: FutureWarning: The default value of `dual` will change from `True` to `'auto'` in 1.5. Set the value of `dual` explicitly to suppress the warning.\n",
      "  warnings.warn(\n"
     ]
    },
    {
     "name": "stdout",
     "output_type": "stream",
     "text": [
      "Latin accuracy: 1.0\n"
     ]
    }
   ],
   "source": [
    "la_svm = LinearSVC()\n",
    "la_svm.fit(la_train, file_train)\n",
    "la_predictions = la_svm.predict(la_test)\n",
    "print(\"Latin accuracy:\", np.mean(la_predictions == file_test))\n",
    "\n",
    "en_svm = LinearSVC()\n",
    "en_svm.fit(en_train, file_train)\n",
    "en_predictions = en_svm.predict(en_test)\n",
    "print(\"Latin accuracy:\", np.mean(en_predictions == file_test))"
   ]
  }
 ],
 "metadata": {
  "kernelspec": {
   "display_name": "Python 3",
   "language": "python",
   "name": "python3"
  },
  "language_info": {
   "codemirror_mode": {
    "name": "ipython",
    "version": 3
   },
   "file_extension": ".py",
   "mimetype": "text/x-python",
   "name": "python",
   "nbconvert_exporter": "python",
   "pygments_lexer": "ipython3",
   "version": "3.8.2"
  },
  "orig_nbformat": 4
 },
 "nbformat": 4,
 "nbformat_minor": 2
}
