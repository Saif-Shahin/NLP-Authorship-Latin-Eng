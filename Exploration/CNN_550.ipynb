{
  "nbformat": 4,
  "nbformat_minor": 0,
  "metadata": {
    "colab": {
      "provenance": [],
      "gpuType": "T4"
    },
    "kernelspec": {
      "name": "python3",
      "display_name": "Python 3"
    },
    "language_info": {
      "name": "python"
    },
    "accelerator": "GPU"
  },
  "cells": [
    {
      "cell_type": "markdown",
      "source": [
        "# CNN"
      ],
      "metadata": {
        "id": "9SzeVkUsoTZ5"
      }
    },
    {
      "cell_type": "code",
      "source": [
        "# Overall Model architecture"
      ],
      "metadata": {
        "colab": {
          "base_uri": "https://localhost:8080/"
        },
        "id": "yjivf79komaW",
        "outputId": "193c370c-7772-4671-df3f-8a7c704749a4"
      },
      "execution_count": 18,
      "outputs": [
        {
          "output_type": "stream",
          "name": "stdout",
          "text": [
            "Model: \"sequential_4\"\n",
            "_________________________________________________________________\n",
            " Layer (type)                Output Shape              Param #   \n",
            "=================================================================\n",
            " embedding_4 (Embedding)     (None, 300, 16)           2048      \n",
            "                                                                 \n",
            " conv1d_4 (Conv1D)           (None, 296, 128)          10368     \n",
            "                                                                 \n",
            " global_max_pooling1d_4 (Gl  (None, 128)               0         \n",
            " obalMaxPooling1D)                                               \n",
            "                                                                 \n",
            " dense_8 (Dense)             (None, 320)               41280     \n",
            "                                                                 \n",
            " dense_9 (Dense)             (None, 5)                 1605      \n",
            "                                                                 \n",
            "=================================================================\n",
            "Total params: 55301 (216.02 KB)\n",
            "Trainable params: 55301 (216.02 KB)\n",
            "Non-trainable params: 0 (0.00 Byte)\n",
            "_________________________________________________________________\n"
          ]
        }
      ]
    },
    {
      "cell_type": "markdown",
      "source": [
        "## Imports"
      ],
      "metadata": {
        "id": "bmI__ly7Mrsh"
      }
    },
    {
      "cell_type": "code",
      "execution_count": 1,
      "metadata": {
        "id": "gVf-tUp4CqVh"
      },
      "outputs": [],
      "source": [
        "import tensorflow as tf\n",
        "from tensorflow.keras import layers, models\n",
        "import pandas as pd\n",
        "from sklearn.preprocessing import OneHotEncoder\n",
        "from google.colab import output#oven timer\n",
        "import os\n",
        "from sklearn.metrics import f1_score, accuracy_score"
      ]
    },
    {
      "cell_type": "markdown",
      "source": [
        "# Pre Proccess"
      ],
      "metadata": {
        "id": "1aZ3-4B5oO1Z"
      }
    },
    {
      "cell_type": "markdown",
      "source": [
        "##Load Data"
      ],
      "metadata": {
        "id": "q45ndmgQMt9O"
      }
    },
    {
      "cell_type": "code",
      "source": [
        "print(os.getcwd())\n",
        "#Path of the data folder\n",
        "#data_path = \"C:/Users/Admin/OneDrive - McGill University/COMP551550git/NLP-Authorship-Latin-Eng\\Data\"\n",
        "data_path = \"\"\n",
        "os.path.exists(data_path)"
      ],
      "metadata": {
        "colab": {
          "base_uri": "https://localhost:8080/"
        },
        "id": "HH4Y32r1NLwq",
        "outputId": "3e86f20e-abd8-4a41-db44-fbfa601fafc4"
      },
      "execution_count": 2,
      "outputs": [
        {
          "output_type": "stream",
          "name": "stdout",
          "text": [
            "/content\n"
          ]
        },
        {
          "output_type": "execute_result",
          "data": {
            "text/plain": [
              "False"
            ]
          },
          "metadata": {},
          "execution_count": 2
        }
      ]
    },
    {
      "cell_type": "code",
      "source": [
        "\n",
        "# Load your CSV dataset\n",
        "training_data = pd.read_csv((data_path + \"translated_data_train_16k_format_fix.csv\"))\n",
        "validation_data = pd.read_csv((data_path + \"validation_data_filtered.csv\"))\n",
        "test_data = pd.read_csv((data_path + \"test_data_filtered.csv\"))\n",
        "\n",
        "train_en_x = training_data['en'].values\n",
        "train_la_x = training_data['la'].values\n",
        "valid_en_x = validation_data['en'].values\n",
        "valid_la_x = validation_data['la'].values\n",
        "test_en_x  = test_data['en'].values\n",
        "test_la_x  = test_data['la'].values\n",
        "\n",
        "train_y = training_data['file'].values\n",
        "valid_y = validation_data['file'].values\n",
        "test_y = test_data['file'].values\n",
        "\n",
        "# Encode labels\n",
        "label_encoder = OneHotEncoder()\n",
        "label_encoder.fit(train_y.reshape(-1,1))\n",
        "\n",
        "train_y=label_encoder.transform(train_y.reshape(-1,1)).toarray()\n",
        "valid_y =label_encoder.transform(valid_y.reshape(-1,1)).toarray()\n",
        "test_y= label_encoder.transform(test_y.reshape(-1,1)).toarray()\n"
      ],
      "metadata": {
        "id": "l0jNzHnhIJxc"
      },
      "execution_count": 3,
      "outputs": []
    },
    {
      "cell_type": "markdown",
      "source": [
        "## Tokenize"
      ],
      "metadata": {
        "id": "ZOKyqjwNMwk6"
      }
    },
    {
      "cell_type": "code",
      "source": [
        "def tokenize(text_nump, tokenizer, maxlen):\n",
        "  seq = tokenizer.texts_to_sequences(text_nump)\n",
        "  return tf.keras.preprocessing.sequence.pad_sequences(seq, maxlen = maxlen)"
      ],
      "metadata": {
        "id": "SeBB7nLWP-mn"
      },
      "execution_count": 4,
      "outputs": []
    },
    {
      "cell_type": "code",
      "source": [
        "# Define parameters\n",
        "max_len = 300  # maximum sequence length\n",
        "vocab_size = 128  # ASCII characters\n",
        "\n",
        "# Tokenize and pad the text sequences\n",
        "tokenizer_la = tf.keras.preprocessing.text.Tokenizer(char_level=True, filters=None, lower=False)\n",
        "tokenizer_la.fit_on_texts(train_la_x)\n",
        "\n",
        "tokenizer_en = tf.keras.preprocessing.text.Tokenizer(char_level=True, filters=None, lower=False)\n",
        "tokenizer_en.fit_on_texts(train_en_x)\n",
        "\n",
        "train_seq_la = tokenize(train_la_x, tokenizer_la, max_len)\n",
        "train_seq_en = tokenize(train_en_x, tokenizer_en, max_len)\n",
        "valid_seq_la = tokenize(valid_la_x, tokenizer_la, max_len)\n",
        "valid_seq_en = tokenize(valid_en_x, tokenizer_en, max_len)\n",
        "test_seq_la = tokenize(test_la_x, tokenizer_la, max_len)\n",
        "test_seq_en= tokenize(test_en_x, tokenizer_en, max_len)\n"
      ],
      "metadata": {
        "id": "l1hGUMSNMqyc"
      },
      "execution_count": 5,
      "outputs": []
    },
    {
      "cell_type": "markdown",
      "source": [
        "# Model"
      ],
      "metadata": {
        "id": "_QrJEWnQoL_e"
      }
    },
    {
      "cell_type": "code",
      "source": [
        "def make_model(): #match model architecture\n",
        "  # Build the model\n",
        "  model = models.Sequential()\n",
        "  model.add(layers.Embedding(input_dim=vocab_size, output_dim=16, input_length=300))\n",
        "  model.add(layers.Conv1D(128, 5, activation='relu'))\n",
        "  model.add(layers.GlobalMaxPooling1D())\n",
        "  model.add(layers.Dense(320, activation='relu'))\n",
        "  model.add(layers.Dense(len(label_encoder.categories_[0]), activation='softmax'))\n",
        "\n",
        "  # Compile the model\n",
        "  model.compile(optimizer='adam',\n",
        "                loss='categorical_crossentropy',\n",
        "                metrics=['accuracy'])\n",
        "  return model\n",
        "def decode_predictions(predictions):\n",
        "    return predictions.argmax(axis=1)"
      ],
      "metadata": {
        "id": "a3uQHZfBh8qz"
      },
      "execution_count": 16,
      "outputs": []
    },
    {
      "cell_type": "markdown",
      "source": [
        "## Latin Model"
      ],
      "metadata": {
        "id": "5vSCxI3qfKoq"
      }
    },
    {
      "cell_type": "code",
      "source": [
        "\n",
        "# Build the model\n",
        "model = make_model()\n",
        "# Train the model\n",
        "model.fit(train_seq_la, train_y, epochs=10, batch_size=64,\n",
        "          validation_data = (valid_seq_la, valid_y), validation_batch_size = 64\n",
        "          )\n",
        "\n",
        "# Evaluate the model on the test set\n",
        "test_predictions_la = model.predict(test_seq_la)\n",
        "\n"
      ],
      "metadata": {
        "id": "UtqN8rITQCub",
        "colab": {
          "base_uri": "https://localhost:8080/"
        },
        "outputId": "ba89fb44-3f36-4248-ce6e-c0f34d002ed4"
      },
      "execution_count": 8,
      "outputs": [
        {
          "output_type": "stream",
          "name": "stdout",
          "text": [
            "Epoch 1/10\n",
            "273/273 [==============================] - 5s 14ms/step - loss: 1.1298 - accuracy: 0.5168 - val_loss: 0.1540 - val_accuracy: 0.9669\n",
            "Epoch 2/10\n",
            "273/273 [==============================] - 1s 5ms/step - loss: 0.6785 - accuracy: 0.7252 - val_loss: 0.1194 - val_accuracy: 0.9725\n",
            "Epoch 3/10\n",
            "273/273 [==============================] - 1s 5ms/step - loss: 0.5400 - accuracy: 0.7904 - val_loss: 0.1026 - val_accuracy: 0.9697\n",
            "Epoch 4/10\n",
            "273/273 [==============================] - 1s 5ms/step - loss: 0.4606 - accuracy: 0.8233 - val_loss: 0.1137 - val_accuracy: 0.9725\n",
            "Epoch 5/10\n",
            "273/273 [==============================] - 2s 6ms/step - loss: 0.3891 - accuracy: 0.8533 - val_loss: 0.1952 - val_accuracy: 0.9532\n",
            "Epoch 6/10\n",
            "273/273 [==============================] - 1s 5ms/step - loss: 0.3411 - accuracy: 0.8745 - val_loss: 0.1500 - val_accuracy: 0.9642\n",
            "Epoch 7/10\n",
            "273/273 [==============================] - 2s 6ms/step - loss: 0.2955 - accuracy: 0.8909 - val_loss: 0.1572 - val_accuracy: 0.9642\n",
            "Epoch 8/10\n",
            "273/273 [==============================] - 2s 8ms/step - loss: 0.2609 - accuracy: 0.9042 - val_loss: 0.1043 - val_accuracy: 0.9780\n",
            "Epoch 9/10\n",
            "273/273 [==============================] - 3s 10ms/step - loss: 0.2341 - accuracy: 0.9156 - val_loss: 0.1065 - val_accuracy: 0.9780\n",
            "Epoch 10/10\n",
            "273/273 [==============================] - 1s 5ms/step - loss: 0.2018 - accuracy: 0.9268 - val_loss: 0.1050 - val_accuracy: 0.9780\n",
            "12/12 [==============================] - 0s 2ms/step\n"
          ]
        }
      ]
    },
    {
      "cell_type": "code",
      "source": [],
      "metadata": {
        "colab": {
          "base_uri": "https://localhost:8080/"
        },
        "id": "QTca2KoveGnJ",
        "outputId": "a232385b-9710-46a2-852a-7876f63f759b"
      },
      "execution_count": 15,
      "outputs": [
        {
          "output_type": "stream",
          "name": "stdout",
          "text": [
            "[3.1572774e-03 8.0439878e-07 6.2861704e-06 6.3621775e-07 9.9683505e-01]\n"
          ]
        },
        {
          "output_type": "execute_result",
          "data": {
            "text/plain": [
              "array([0., 0., 0., 0., 1.])"
            ]
          },
          "metadata": {},
          "execution_count": 15
        }
      ]
    },
    {
      "cell_type": "code",
      "source": [
        "# Convert predictions and true labels back to original form\n",
        "decoded_test_predictions_la = decode_predictions(test_predictions_la)\n",
        "decoded_true_labels = decode_predictions(test_y)\n",
        "\n",
        "test_accuracy = accuracy_score(decoded_true_labels, decoded_test_predictions_la)\n",
        "print(f\"Test Accuracy: {test_accuracy}\")\n",
        "\n",
        "# Calculate F1 Score\n",
        "test_f1_score = f1_score(decoded_true_labels, decoded_test_predictions_la, average='weighted')\n",
        "print(f\"Test F1 Score: {test_f1_score}\")"
      ],
      "metadata": {
        "colab": {
          "base_uri": "https://localhost:8080/"
        },
        "id": "TbSPWn2Qd-yg",
        "outputId": "41ccd958-476e-4ab1-ab0d-ea2b8c2f4955"
      },
      "execution_count": 17,
      "outputs": [
        {
          "output_type": "stream",
          "name": "stdout",
          "text": [
            "Test Accuracy: 0.9805555555555555\n",
            "Test F1 Score: 0.9814575598709848\n"
          ]
        }
      ]
    },
    {
      "cell_type": "markdown",
      "source": [
        "## English Model"
      ],
      "metadata": {
        "id": "hG1Sk_wafPw9"
      }
    },
    {
      "cell_type": "code",
      "source": [
        "# Build the model\n",
        "model = make_model()\n",
        "# Train the model\n",
        "model.fit(train_seq_en, train_y, epochs=10, batch_size=64,\n",
        "          validation_data = (valid_seq_en, valid_y), validation_batch_size = 64\n",
        "          )\n",
        "\n",
        "test_predictions_en = model.predict(test_seq_en)\n"
      ],
      "metadata": {
        "colab": {
          "base_uri": "https://localhost:8080/"
        },
        "id": "rZfUQDmEhzjZ",
        "outputId": "bb6b1318-0e57-4e57-a42b-841605340a47"
      },
      "execution_count": 18,
      "outputs": [
        {
          "output_type": "stream",
          "name": "stdout",
          "text": [
            "Epoch 1/10\n",
            "273/273 [==============================] - 5s 13ms/step - loss: 1.2033 - accuracy: 0.4952 - val_loss: 0.5914 - val_accuracy: 0.7796\n",
            "Epoch 2/10\n",
            "273/273 [==============================] - 1s 5ms/step - loss: 0.6310 - accuracy: 0.7629 - val_loss: 0.2942 - val_accuracy: 0.8843\n",
            "Epoch 3/10\n",
            "273/273 [==============================] - 1s 5ms/step - loss: 0.4389 - accuracy: 0.8423 - val_loss: 0.6309 - val_accuracy: 0.7741\n",
            "Epoch 4/10\n",
            "273/273 [==============================] - 1s 5ms/step - loss: 0.3255 - accuracy: 0.8863 - val_loss: 0.3894 - val_accuracy: 0.8402\n",
            "Epoch 5/10\n",
            "273/273 [==============================] - 2s 9ms/step - loss: 0.2553 - accuracy: 0.9120 - val_loss: 0.3340 - val_accuracy: 0.8898\n",
            "Epoch 6/10\n",
            "273/273 [==============================] - 2s 7ms/step - loss: 0.2004 - accuracy: 0.9320 - val_loss: 0.6418 - val_accuracy: 0.8044\n",
            "Epoch 7/10\n",
            "273/273 [==============================] - 2s 6ms/step - loss: 0.1570 - accuracy: 0.9487 - val_loss: 0.5192 - val_accuracy: 0.8292\n",
            "Epoch 8/10\n",
            "273/273 [==============================] - 1s 5ms/step - loss: 0.1218 - accuracy: 0.9612 - val_loss: 0.4741 - val_accuracy: 0.8457\n",
            "Epoch 9/10\n",
            "273/273 [==============================] - 1s 5ms/step - loss: 0.1093 - accuracy: 0.9638 - val_loss: 0.5649 - val_accuracy: 0.8430\n",
            "Epoch 10/10\n",
            "273/273 [==============================] - 1s 5ms/step - loss: 0.0795 - accuracy: 0.9770 - val_loss: 0.7036 - val_accuracy: 0.8127\n",
            "12/12 [==============================] - 0s 2ms/step\n"
          ]
        }
      ]
    },
    {
      "cell_type": "code",
      "source": [
        "# Convert predictions and true labels back to original form\n",
        "decoded_test_predictions_en = decode_predictions(test_predictions_en)\n",
        "decoded_true_labels = decode_predictions(test_y)\n",
        "\n",
        "test_accuracy = accuracy_score(decoded_true_labels, decoded_test_predictions_en)\n",
        "print(f\"Test Accuracy: {test_accuracy}\")\n",
        "\n",
        "# Calculate F1 Score\n",
        "test_f1_score = f1_score(decoded_true_labels, decoded_test_predictions_en, average='weighted')\n",
        "print(f\"Test F1 Score: {test_f1_score}\")"
      ],
      "metadata": {
        "colab": {
          "base_uri": "https://localhost:8080/"
        },
        "id": "zytvUvJNgUC6",
        "outputId": "e8d7c9ca-2859-4e3d-c99f-7b64439041f7"
      },
      "execution_count": 19,
      "outputs": [
        {
          "output_type": "stream",
          "name": "stdout",
          "text": [
            "Test Accuracy: 0.7916666666666666\n",
            "Test F1 Score: 0.8503940993715884\n"
          ]
        }
      ]
    }
  ]
}