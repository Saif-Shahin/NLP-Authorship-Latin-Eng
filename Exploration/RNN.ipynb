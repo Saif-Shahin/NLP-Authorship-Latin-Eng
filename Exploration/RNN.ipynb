{
  "cells": [
    {
      "cell_type": "markdown",
      "id": "76808e1a",
      "metadata": {
        "id": "76808e1a"
      },
      "source": [
        "# Exploration"
      ]
    },
    {
      "cell_type": "markdown",
      "id": "859e2f95",
      "metadata": {
        "id": "859e2f95"
      },
      "source": [
        "## Imports"
      ]
    },
    {
      "cell_type": "code",
      "execution_count": null,
      "id": "811f5354",
      "metadata": {
        "id": "811f5354"
      },
      "outputs": [],
      "source": [
        "#conda install tensorflow"
      ]
    },
    {
      "cell_type": "code",
      "execution_count": 111,
      "id": "541c5fa9",
      "metadata": {
        "scrolled": true,
        "id": "541c5fa9"
      },
      "outputs": [],
      "source": [
        "import pandas as pd\n",
        "import os\n",
        "import numpy as np\n",
        "import tensorflow as tf\n",
        "import matplotlib.pyplot as plt\n",
        "from google.colab import output#oven timer"
      ]
    },
    {
      "cell_type": "markdown",
      "id": "bdae6235",
      "metadata": {
        "id": "bdae6235"
      },
      "source": [
        "## Load Data"
      ]
    },
    {
      "cell_type": "code",
      "execution_count": 6,
      "id": "9a558530",
      "metadata": {
        "colab": {
          "base_uri": "https://localhost:8080/"
        },
        "id": "9a558530",
        "outputId": "0dd0e34e-4d9b-4c81-9b78-b9aa0781d3f5"
      },
      "outputs": [
        {
          "output_type": "stream",
          "name": "stdout",
          "text": [
            "/content\n"
          ]
        },
        {
          "output_type": "execute_result",
          "data": {
            "text/plain": [
              "False"
            ]
          },
          "metadata": {},
          "execution_count": 6
        }
      ],
      "source": [
        "print(os.getcwd())\n",
        "#Path of the data folder\n",
        "#data_path = \"C:/Users/Admin/OneDrive - McGill University/COMP551550git/NLP-Authorship-Latin-Eng\\Data\"\n",
        "data_path = \"\"\n",
        "os.path.exists(data_path)"
      ]
    },
    {
      "cell_type": "markdown",
      "id": "949c5d61",
      "metadata": {
        "id": "949c5d61"
      },
      "source": [
        "### TensorFlow"
      ]
    },
    {
      "cell_type": "code",
      "execution_count": null,
      "id": "7db08286",
      "metadata": {
        "id": "7db08286"
      },
      "outputs": [],
      "source": [
        "training_data = pd.read_csv((data_path + \"/Train_Data/train_data_pre_processed_lemmatized.csv\"))\n",
        "validation_data = pd.read_csv((data_path + \"/Validation_Data/pre_processed/validation_data_lemmatized.csv\"))\n",
        "test_data = pd.read_csv((data_path + \"/Test_Data/pre_processed/test_data_lemmatized.csv\"))"
      ]
    },
    {
      "cell_type": "code",
      "source": [
        "training_data = pd.read_csv((data_path + \"translated_data_train_16k_format_fix.csv\"))\n",
        "validation_data = pd.read_csv((data_path + \"validation_data_filtered.csv\"))\n",
        "test_data = pd.read_csv((data_path + \"test_data_filtered.csv\"))"
      ],
      "metadata": {
        "id": "pVPp1C95_AUW"
      },
      "id": "pVPp1C95_AUW",
      "execution_count": 41,
      "outputs": []
    },
    {
      "cell_type": "code",
      "source": [
        "label_list = ['final_alignments\\\\Vulgate_Bible.json',\n",
        "       'final_alignments\\\\Cato_Agriculture.json',\n",
        "       'final_alignments\\\\Tertullian_Apology.json',\n",
        "       'final_alignments\\\\Sallust_Jugurtha.json',\n",
        "       'final_alignments\\\\Velleius_Paterculus_Compendium.json'] #string labels converted to ints\n",
        "\n",
        "def data_prep(df, label_list = label_list, label_name = 'file', text_name = 'la'):\n",
        "  df[label_name].replace(label_list,range(len(label_list)), inplace=True)\n",
        "  labels_one_hot = tf.keras.utils.to_categorical(df[label_name].values, len(label_list))\n",
        "  return tf.data.Dataset.from_tensor_slices((df[text_name].values,labels_one_hot))\n",
        "def oven_timer():\n",
        "  output.eval_js('new Audio(\"https://upload.wikimedia.org/wikipedia/commons/0/05/Beep-09.ogg\").play()')#Beep when complete, bread is baked\n"
      ],
      "metadata": {
        "id": "zW16kFWYirh1"
      },
      "id": "zW16kFWYirh1",
      "execution_count": 112,
      "outputs": []
    },
    {
      "cell_type": "code",
      "execution_count": 114,
      "id": "fa31c368",
      "metadata": {
        "colab": {
          "base_uri": "https://localhost:8080/"
        },
        "id": "fa31c368",
        "outputId": "4761f81a-08f7-4a1e-b40f-98d61e5e0caf"
      },
      "outputs": [
        {
          "output_type": "execute_result",
          "data": {
            "text/plain": [
              "(TensorSpec(shape=(), dtype=tf.string, name=None),\n",
              " TensorSpec(shape=(5,), dtype=tf.float32, name=None))"
            ]
          },
          "metadata": {},
          "execution_count": 114
        }
      ],
      "source": [
        "training_data_la = data_prep(training_data,text_name = 'la')\n",
        "training_data_en = data_prep(training_data,text_name = 'en')\n",
        "training_data_en.element_spec"
      ]
    },
    {
      "cell_type": "code",
      "execution_count": 115,
      "id": "ae85c8e8",
      "metadata": {
        "colab": {
          "base_uri": "https://localhost:8080/",
          "height": 81
        },
        "id": "ae85c8e8",
        "outputId": "d5ab7b3c-f6e6-48af-de6f-01a306a56a63"
      },
      "outputs": [
        {
          "output_type": "execute_result",
          "data": {
            "text/plain": [
              "   Unnamed: 0  id                                                 la  \\\n",
              "0          14   2  Quid si noluerint vel nullae fuerint? quid den...   \n",
              "\n",
              "                                                  en  file  \n",
              "0  But if they wont come, or if you have none? Wh...     2  "
            ],
            "text/html": [
              "\n",
              "  <div id=\"df-2147ea3f-7c1e-4b80-a5d9-ca644532bdb7\" class=\"colab-df-container\">\n",
              "    <div>\n",
              "<style scoped>\n",
              "    .dataframe tbody tr th:only-of-type {\n",
              "        vertical-align: middle;\n",
              "    }\n",
              "\n",
              "    .dataframe tbody tr th {\n",
              "        vertical-align: top;\n",
              "    }\n",
              "\n",
              "    .dataframe thead th {\n",
              "        text-align: right;\n",
              "    }\n",
              "</style>\n",
              "<table border=\"1\" class=\"dataframe\">\n",
              "  <thead>\n",
              "    <tr style=\"text-align: right;\">\n",
              "      <th></th>\n",
              "      <th>Unnamed: 0</th>\n",
              "      <th>id</th>\n",
              "      <th>la</th>\n",
              "      <th>en</th>\n",
              "      <th>file</th>\n",
              "    </tr>\n",
              "  </thead>\n",
              "  <tbody>\n",
              "    <tr>\n",
              "      <th>0</th>\n",
              "      <td>14</td>\n",
              "      <td>2</td>\n",
              "      <td>Quid si noluerint vel nullae fuerint? quid den...</td>\n",
              "      <td>But if they wont come, or if you have none? Wh...</td>\n",
              "      <td>2</td>\n",
              "    </tr>\n",
              "  </tbody>\n",
              "</table>\n",
              "</div>\n",
              "    <div class=\"colab-df-buttons\">\n",
              "\n",
              "  <div class=\"colab-df-container\">\n",
              "    <button class=\"colab-df-convert\" onclick=\"convertToInteractive('df-2147ea3f-7c1e-4b80-a5d9-ca644532bdb7')\"\n",
              "            title=\"Convert this dataframe to an interactive table.\"\n",
              "            style=\"display:none;\">\n",
              "\n",
              "  <svg xmlns=\"http://www.w3.org/2000/svg\" height=\"24px\" viewBox=\"0 -960 960 960\">\n",
              "    <path d=\"M120-120v-720h720v720H120Zm60-500h600v-160H180v160Zm220 220h160v-160H400v160Zm0 220h160v-160H400v160ZM180-400h160v-160H180v160Zm440 0h160v-160H620v160ZM180-180h160v-160H180v160Zm440 0h160v-160H620v160Z\"/>\n",
              "  </svg>\n",
              "    </button>\n",
              "\n",
              "  <style>\n",
              "    .colab-df-container {\n",
              "      display:flex;\n",
              "      gap: 12px;\n",
              "    }\n",
              "\n",
              "    .colab-df-convert {\n",
              "      background-color: #E8F0FE;\n",
              "      border: none;\n",
              "      border-radius: 50%;\n",
              "      cursor: pointer;\n",
              "      display: none;\n",
              "      fill: #1967D2;\n",
              "      height: 32px;\n",
              "      padding: 0 0 0 0;\n",
              "      width: 32px;\n",
              "    }\n",
              "\n",
              "    .colab-df-convert:hover {\n",
              "      background-color: #E2EBFA;\n",
              "      box-shadow: 0px 1px 2px rgba(60, 64, 67, 0.3), 0px 1px 3px 1px rgba(60, 64, 67, 0.15);\n",
              "      fill: #174EA6;\n",
              "    }\n",
              "\n",
              "    .colab-df-buttons div {\n",
              "      margin-bottom: 4px;\n",
              "    }\n",
              "\n",
              "    [theme=dark] .colab-df-convert {\n",
              "      background-color: #3B4455;\n",
              "      fill: #D2E3FC;\n",
              "    }\n",
              "\n",
              "    [theme=dark] .colab-df-convert:hover {\n",
              "      background-color: #434B5C;\n",
              "      box-shadow: 0px 1px 3px 1px rgba(0, 0, 0, 0.15);\n",
              "      filter: drop-shadow(0px 1px 2px rgba(0, 0, 0, 0.3));\n",
              "      fill: #FFFFFF;\n",
              "    }\n",
              "  </style>\n",
              "\n",
              "    <script>\n",
              "      const buttonEl =\n",
              "        document.querySelector('#df-2147ea3f-7c1e-4b80-a5d9-ca644532bdb7 button.colab-df-convert');\n",
              "      buttonEl.style.display =\n",
              "        google.colab.kernel.accessAllowed ? 'block' : 'none';\n",
              "\n",
              "      async function convertToInteractive(key) {\n",
              "        const element = document.querySelector('#df-2147ea3f-7c1e-4b80-a5d9-ca644532bdb7');\n",
              "        const dataTable =\n",
              "          await google.colab.kernel.invokeFunction('convertToInteractive',\n",
              "                                                    [key], {});\n",
              "        if (!dataTable) return;\n",
              "\n",
              "        const docLinkHtml = 'Like what you see? Visit the ' +\n",
              "          '<a target=\"_blank\" href=https://colab.research.google.com/notebooks/data_table.ipynb>data table notebook</a>'\n",
              "          + ' to learn more about interactive tables.';\n",
              "        element.innerHTML = '';\n",
              "        dataTable['output_type'] = 'display_data';\n",
              "        await google.colab.output.renderOutput(dataTable, element);\n",
              "        const docLink = document.createElement('div');\n",
              "        docLink.innerHTML = docLinkHtml;\n",
              "        element.appendChild(docLink);\n",
              "      }\n",
              "    </script>\n",
              "  </div>\n",
              "\n",
              "\n",
              "    </div>\n",
              "  </div>\n"
            ]
          },
          "metadata": {},
          "execution_count": 115
        }
      ],
      "source": [
        "validation_data_la = data_prep(validation_data,text_name = 'la')\n",
        "validation_data_en = data_prep(validation_data,text_name = 'en')\n",
        "validation_data.head(1)"
      ]
    },
    {
      "cell_type": "code",
      "execution_count": 116,
      "id": "cd73b3a4",
      "metadata": {
        "colab": {
          "base_uri": "https://localhost:8080/",
          "height": 81
        },
        "id": "cd73b3a4",
        "outputId": "26ef1cae-eeb0-416d-b59f-8709cd2534ef"
      },
      "outputs": [
        {
          "output_type": "execute_result",
          "data": {
            "text/plain": [
              "   Unnamed: 0  id                                                 la  \\\n",
              "0           1   1  super aspidem et basiliscum calcabis conculcab...   \n",
              "\n",
              "                                                  en  file  \n",
              "0  super aspidem et basiliscum ambulabis et; conc...     0  "
            ],
            "text/html": [
              "\n",
              "  <div id=\"df-8d9afe83-9b63-4bc9-bca3-121fa7804a0c\" class=\"colab-df-container\">\n",
              "    <div>\n",
              "<style scoped>\n",
              "    .dataframe tbody tr th:only-of-type {\n",
              "        vertical-align: middle;\n",
              "    }\n",
              "\n",
              "    .dataframe tbody tr th {\n",
              "        vertical-align: top;\n",
              "    }\n",
              "\n",
              "    .dataframe thead th {\n",
              "        text-align: right;\n",
              "    }\n",
              "</style>\n",
              "<table border=\"1\" class=\"dataframe\">\n",
              "  <thead>\n",
              "    <tr style=\"text-align: right;\">\n",
              "      <th></th>\n",
              "      <th>Unnamed: 0</th>\n",
              "      <th>id</th>\n",
              "      <th>la</th>\n",
              "      <th>en</th>\n",
              "      <th>file</th>\n",
              "    </tr>\n",
              "  </thead>\n",
              "  <tbody>\n",
              "    <tr>\n",
              "      <th>0</th>\n",
              "      <td>1</td>\n",
              "      <td>1</td>\n",
              "      <td>super aspidem et basiliscum calcabis conculcab...</td>\n",
              "      <td>super aspidem et basiliscum ambulabis et; conc...</td>\n",
              "      <td>0</td>\n",
              "    </tr>\n",
              "  </tbody>\n",
              "</table>\n",
              "</div>\n",
              "    <div class=\"colab-df-buttons\">\n",
              "\n",
              "  <div class=\"colab-df-container\">\n",
              "    <button class=\"colab-df-convert\" onclick=\"convertToInteractive('df-8d9afe83-9b63-4bc9-bca3-121fa7804a0c')\"\n",
              "            title=\"Convert this dataframe to an interactive table.\"\n",
              "            style=\"display:none;\">\n",
              "\n",
              "  <svg xmlns=\"http://www.w3.org/2000/svg\" height=\"24px\" viewBox=\"0 -960 960 960\">\n",
              "    <path d=\"M120-120v-720h720v720H120Zm60-500h600v-160H180v160Zm220 220h160v-160H400v160Zm0 220h160v-160H400v160ZM180-400h160v-160H180v160Zm440 0h160v-160H620v160ZM180-180h160v-160H180v160Zm440 0h160v-160H620v160Z\"/>\n",
              "  </svg>\n",
              "    </button>\n",
              "\n",
              "  <style>\n",
              "    .colab-df-container {\n",
              "      display:flex;\n",
              "      gap: 12px;\n",
              "    }\n",
              "\n",
              "    .colab-df-convert {\n",
              "      background-color: #E8F0FE;\n",
              "      border: none;\n",
              "      border-radius: 50%;\n",
              "      cursor: pointer;\n",
              "      display: none;\n",
              "      fill: #1967D2;\n",
              "      height: 32px;\n",
              "      padding: 0 0 0 0;\n",
              "      width: 32px;\n",
              "    }\n",
              "\n",
              "    .colab-df-convert:hover {\n",
              "      background-color: #E2EBFA;\n",
              "      box-shadow: 0px 1px 2px rgba(60, 64, 67, 0.3), 0px 1px 3px 1px rgba(60, 64, 67, 0.15);\n",
              "      fill: #174EA6;\n",
              "    }\n",
              "\n",
              "    .colab-df-buttons div {\n",
              "      margin-bottom: 4px;\n",
              "    }\n",
              "\n",
              "    [theme=dark] .colab-df-convert {\n",
              "      background-color: #3B4455;\n",
              "      fill: #D2E3FC;\n",
              "    }\n",
              "\n",
              "    [theme=dark] .colab-df-convert:hover {\n",
              "      background-color: #434B5C;\n",
              "      box-shadow: 0px 1px 3px 1px rgba(0, 0, 0, 0.15);\n",
              "      filter: drop-shadow(0px 1px 2px rgba(0, 0, 0, 0.3));\n",
              "      fill: #FFFFFF;\n",
              "    }\n",
              "  </style>\n",
              "\n",
              "    <script>\n",
              "      const buttonEl =\n",
              "        document.querySelector('#df-8d9afe83-9b63-4bc9-bca3-121fa7804a0c button.colab-df-convert');\n",
              "      buttonEl.style.display =\n",
              "        google.colab.kernel.accessAllowed ? 'block' : 'none';\n",
              "\n",
              "      async function convertToInteractive(key) {\n",
              "        const element = document.querySelector('#df-8d9afe83-9b63-4bc9-bca3-121fa7804a0c');\n",
              "        const dataTable =\n",
              "          await google.colab.kernel.invokeFunction('convertToInteractive',\n",
              "                                                    [key], {});\n",
              "        if (!dataTable) return;\n",
              "\n",
              "        const docLinkHtml = 'Like what you see? Visit the ' +\n",
              "          '<a target=\"_blank\" href=https://colab.research.google.com/notebooks/data_table.ipynb>data table notebook</a>'\n",
              "          + ' to learn more about interactive tables.';\n",
              "        element.innerHTML = '';\n",
              "        dataTable['output_type'] = 'display_data';\n",
              "        await google.colab.output.renderOutput(dataTable, element);\n",
              "        const docLink = document.createElement('div');\n",
              "        docLink.innerHTML = docLinkHtml;\n",
              "        element.appendChild(docLink);\n",
              "      }\n",
              "    </script>\n",
              "  </div>\n",
              "\n",
              "\n",
              "    </div>\n",
              "  </div>\n"
            ]
          },
          "metadata": {},
          "execution_count": 116
        }
      ],
      "source": [
        "test_data_la = data_prep(test_data,text_name = 'la')\n",
        "test_data_en = data_prep(test_data,text_name = 'en')\n",
        "test_data.head(1)"
      ]
    },
    {
      "cell_type": "code",
      "execution_count": 117,
      "id": "0c3f8cf8",
      "metadata": {
        "id": "0c3f8cf8"
      },
      "outputs": [],
      "source": [
        "BUFFER_SIZE = 10000\n",
        "BATCH_SIZE = 64\n",
        "training_data_la = training_data_la.shuffle(BUFFER_SIZE).batch(BATCH_SIZE).prefetch(tf.data.AUTOTUNE)\n",
        "validation_data_la = validation_data_la.batch(BATCH_SIZE).prefetch(tf.data.AUTOTUNE)\n",
        "test_data_la = test_data_la.batch(BATCH_SIZE).prefetch(tf.data.AUTOTUNE)\n",
        "\n",
        "training_data_en = training_data_en.shuffle(BUFFER_SIZE).batch(BATCH_SIZE).prefetch(tf.data.AUTOTUNE)\n",
        "validation_data_en = validation_data_en.batch(BATCH_SIZE).prefetch(tf.data.AUTOTUNE)\n",
        "test_data_en = test_data_en.batch(BATCH_SIZE).prefetch(tf.data.AUTOTUNE)"
      ]
    },
    {
      "cell_type": "markdown",
      "source": [
        "##Vectorization"
      ],
      "metadata": {
        "id": "2C5zh_kWYtOv"
      },
      "id": "2C5zh_kWYtOv"
    },
    {
      "cell_type": "code",
      "source": [
        "VOCAB_SIZE = 5000\n",
        "encoder_la = tf.keras.layers.TextVectorization(max_tokens=VOCAB_SIZE)\n",
        "encoder_la.adapt(training_data_la.map(lambda text, label: text))\n",
        "\n",
        "encoder_en = tf.keras.layers.TextVectorization(max_tokens=VOCAB_SIZE)\n",
        "encoder_en.adapt(training_data_en.map(lambda text, label: text))"
      ],
      "metadata": {
        "id": "m8siFDA0JG_P"
      },
      "id": "m8siFDA0JG_P",
      "execution_count": 118,
      "outputs": []
    },
    {
      "cell_type": "code",
      "source": [
        "np.array(encoder_la.get_vocabulary())[0:20] #dtype?"
      ],
      "metadata": {
        "colab": {
          "base_uri": "https://localhost:8080/"
        },
        "id": "YFrf-5jhR8lS",
        "outputId": "e9947d52-f486-4ad1-9bc0-a8e03e82a2fd"
      },
      "id": "YFrf-5jhR8lS",
      "execution_count": 119,
      "outputs": [
        {
          "output_type": "execute_result",
          "data": {
            "text/plain": [
              "array(['', '[UNK]', 'et', 'in', 'est', 'non', 'ad', 'cum', 'quod', 'de',\n",
              "       'qui', 'ut', 'si', 'sed', 'vel', 'quae', 'a', 'quam', 'ex', 'aut'],\n",
              "      dtype='<U16')"
            ]
          },
          "metadata": {},
          "execution_count": 119
        }
      ]
    },
    {
      "cell_type": "code",
      "source": [
        "np.array(encoder_en.get_vocabulary())[0:20] #dtype?"
      ],
      "metadata": {
        "colab": {
          "base_uri": "https://localhost:8080/"
        },
        "id": "x-KF2-v7Xuhj",
        "outputId": "9e9e1dfc-2e1c-44a0-d4f3-e973d2e47063"
      },
      "id": "x-KF2-v7Xuhj",
      "execution_count": 92,
      "outputs": [
        {
          "output_type": "execute_result",
          "data": {
            "text/plain": [
              "array(['', '[UNK]', 'the', 'of', 'and', 'to', 'in', 'a', 'that', 'he',\n",
              "       'his', 'for', 'was', 'it', 'with', 'is', 'not', 'by', 'you', 'had'],\n",
              "      dtype='<U14')"
            ]
          },
          "metadata": {},
          "execution_count": 92
        }
      ]
    },
    {
      "cell_type": "markdown",
      "source": [
        "#Compose Layers"
      ],
      "metadata": {
        "id": "ng9k7yhlY1HN"
      },
      "id": "ng9k7yhlY1HN"
    },
    {
      "cell_type": "markdown",
      "source": [
        "##Latin\n"
      ],
      "metadata": {
        "id": "YHpX99xrY6Ya"
      },
      "id": "YHpX99xrY6Ya"
    },
    {
      "cell_type": "markdown",
      "source": [
        " sequential model is used here since all the layers in the model only have single input and produce single output."
      ],
      "metadata": {
        "id": "u6VmHYBVadD-"
      },
      "id": "u6VmHYBVadD-"
    },
    {
      "cell_type": "code",
      "source": [
        "model_la = tf.keras.Sequential([\n",
        "    encoder_la,\n",
        "    tf.keras.layers.Embedding(\n",
        "        input_dim=len(encoder_la.get_vocabulary()),\n",
        "        output_dim=64,\n",
        "        # Use masking to handle the variable sequence lengths\n",
        "        mask_zero=True),\n",
        "\n",
        "    #A recurrent neural network (RNN) processes sequence input by iterating through the elements.\n",
        "    #RNNs pass the outputs from one timestep to their input on the next timestep.\n",
        "    #The tf.keras.layers.Bidirectional wrapper can also be used with an RNN layer.\n",
        "    #This propagates the input forward and backwards through the RNN layer and then concatenates the final output.\n",
        "    tf.keras.layers.Bidirectional(tf.keras.layers.LSTM(64)),\n",
        "    # final processing, and convert from this vector representation to a single logit as the classification output.\n",
        "    tf.keras.layers.Dense(64, activation='relu'), #Relu activation\n",
        "    tf.keras.layers.Dense(len(label_list), activation='softmax')  # Adjust the output size based on the number of classes\n",
        "])\n",
        "\n",
        "model_la.compile(loss=tf.keras.losses.CategoricalCrossentropy(from_logits=True),\n",
        "              optimizer=tf.keras.optimizers.Adam(1e-4),#lr 1e-4\n",
        "              metrics=['accuracy'])\n",
        "history_la = model_la.fit(training_data_la, epochs=12,\n",
        "                    validation_data=validation_data_la,\n",
        "                    validation_steps=30)\n",
        "\n",
        "oven_timer()\n",
        "\n",
        "test_loss, test_acc = model_la.evaluate(test_data_la)\n",
        "print('Test Loss:', test_loss)\n",
        "print('Test Accuracy:', test_acc)"
      ],
      "metadata": {
        "colab": {
          "base_uri": "https://localhost:8080/",
          "height": 436
        },
        "id": "ILhZyVinYQ71",
        "outputId": "95ce4490-0a29-4663-958c-9bb45e04ac88"
      },
      "id": "ILhZyVinYQ71",
      "execution_count": 122,
      "outputs": [
        {
          "output_type": "stream",
          "name": "stdout",
          "text": [
            "Epoch 1/10\n"
          ]
        },
        {
          "output_type": "stream",
          "name": "stderr",
          "text": [
            "/usr/local/lib/python3.10/dist-packages/keras/src/backend.py:5575: UserWarning: \"`categorical_crossentropy` received `from_logits=True`, but the `output` argument was produced by a Softmax activation and thus does not represent logits. Was this intended?\n",
            "  output, from_logits = _get_logits(\n"
          ]
        },
        {
          "output_type": "stream",
          "name": "stdout",
          "text": [
            "273/273 [==============================] - ETA: 0s - loss: 1.5672 - accuracy: 0.3399"
          ]
        },
        {
          "output_type": "stream",
          "name": "stderr",
          "text": [
            "WARNING:tensorflow:Your input ran out of data; interrupting training. Make sure that your dataset or generator can generate at least `steps_per_epoch * epochs` batches (in this case, 30 batches). You may need to use the repeat() function when building your dataset.\n"
          ]
        },
        {
          "output_type": "stream",
          "name": "stdout",
          "text": [
            "\b\b\b\b\b\b\b\b\b\b\b\b\b\b\b\b\b\b\b\b\b\b\b\b\b\b\b\b\b\b\b\b\b\b\b\b\b\b\b\b\b\b\b\b\b\b\b\b\b\b\b\b\b\b\b\b\b\b\b\b\b\b\b\b\b\b\b\b\b\b\b\b\b\b\b\b\b\b\b\b\b\b\b\b\r273/273 [==============================] - 43s 126ms/step - loss: 1.5672 - accuracy: 0.3399 - val_loss: 1.3988 - val_accuracy: 0.6612\n",
            "Epoch 2/10\n",
            "273/273 [==============================] - 33s 122ms/step - loss: 1.1409 - accuracy: 0.5701\n",
            "Epoch 3/10\n",
            "273/273 [==============================] - 32s 116ms/step - loss: 0.7944 - accuracy: 0.7210\n",
            "Epoch 4/10\n",
            "273/273 [==============================] - 32s 117ms/step - loss: 0.6186 - accuracy: 0.7869\n",
            "Epoch 5/10\n",
            "273/273 [==============================] - 31s 115ms/step - loss: 0.5174 - accuracy: 0.8242\n",
            "Epoch 6/10\n",
            "273/273 [==============================] - 32s 119ms/step - loss: 0.4461 - accuracy: 0.8538\n",
            "Epoch 7/10\n",
            "273/273 [==============================] - 31s 115ms/step - loss: 0.3889 - accuracy: 0.8741\n",
            "Epoch 8/10\n",
            "273/273 [==============================] - 32s 118ms/step - loss: 0.3444 - accuracy: 0.8882\n",
            "Epoch 9/10\n",
            "273/273 [==============================] - 32s 119ms/step - loss: 0.3100 - accuracy: 0.9018\n",
            "Epoch 10/10\n",
            "273/273 [==============================] - 32s 116ms/step - loss: 0.2776 - accuracy: 0.9138\n"
          ]
        }
      ]
    },
    {
      "cell_type": "markdown",
      "source": [
        "## English"
      ],
      "metadata": {
        "id": "iBdvdLRRZq67"
      },
      "id": "iBdvdLRRZq67"
    },
    {
      "cell_type": "code",
      "source": [
        "model_en = tf.keras.Sequential([\n",
        "    encoder_en,\n",
        "    tf.keras.layers.Embedding( input_dim=len(encoder_en.get_vocabulary()), output_dim=64,mask_zero=True),\n",
        "    tf.keras.layers.Bidirectional(tf.keras.layers.LSTM(64)),\n",
        "    tf.keras.layers.Dense(64, activation='relu'),\n",
        "    tf.keras.layers.Dense(len(label_list), activation='softmax')\n",
        "])\n",
        "model_en.compile(loss=tf.keras.losses.CategoricalCrossentropy(from_logits=True),\n",
        "              optimizer=tf.keras.optimizers.Adam(1e-4),#lr 1e-4\n",
        "              metrics=['accuracy'])\n",
        "history_en = model_en.fit(training_data_en, epochs=12,\n",
        "                    validation_data=validation_data_en,\n",
        "                    validation_steps=30)\n",
        "oven_timer()\n",
        "test_loss, test_acc = model_en.evaluate(test_data_en)\n",
        "print('Test Loss:', test_loss)\n",
        "print('Test Accuracy:', test_acc)"
      ],
      "metadata": {
        "colab": {
          "base_uri": "https://localhost:8080/",
          "height": 401
        },
        "id": "naZCEM78ZstA",
        "outputId": "821f9800-7d6d-469b-b353-4f8c02cecc00"
      },
      "id": "naZCEM78ZstA",
      "execution_count": 124,
      "outputs": [
        {
          "output_type": "stream",
          "name": "stdout",
          "text": [
            "Epoch 1/10\n",
            "273/273 [==============================] - ETA: 0s - loss: 1.4784 - accuracy: 0.4307"
          ]
        },
        {
          "output_type": "stream",
          "name": "stderr",
          "text": [
            "WARNING:tensorflow:Your input ran out of data; interrupting training. Make sure that your dataset or generator can generate at least `steps_per_epoch * epochs` batches (in this case, 30 batches). You may need to use the repeat() function when building your dataset.\n"
          ]
        },
        {
          "output_type": "stream",
          "name": "stdout",
          "text": [
            "\b\b\b\b\b\b\b\b\b\b\b\b\b\b\b\b\b\b\b\b\b\b\b\b\b\b\b\b\b\b\b\b\b\b\b\b\b\b\b\b\b\b\b\b\b\b\b\b\b\b\b\b\b\b\b\b\b\b\b\b\b\b\b\b\b\b\b\b\b\b\b\b\b\b\b\b\b\b\b\b\b\b\b\b\r273/273 [==============================] - 72s 229ms/step - loss: 1.4784 - accuracy: 0.4307 - val_loss: 1.5429 - val_accuracy: 0.1157\n",
            "Epoch 2/10\n",
            "273/273 [==============================] - 59s 217ms/step - loss: 1.0102 - accuracy: 0.6140\n",
            "Epoch 3/10\n",
            "273/273 [==============================] - 58s 211ms/step - loss: 0.7496 - accuracy: 0.7557\n",
            "Epoch 4/10\n",
            "273/273 [==============================] - 60s 220ms/step - loss: 0.5479 - accuracy: 0.8386\n",
            "Epoch 5/10\n",
            "273/273 [==============================] - 58s 214ms/step - loss: 0.4123 - accuracy: 0.8799\n",
            "Epoch 6/10\n",
            "273/273 [==============================] - 59s 215ms/step - loss: 0.3285 - accuracy: 0.9066\n",
            "Epoch 7/10\n",
            "273/273 [==============================] - 59s 218ms/step - loss: 0.2518 - accuracy: 0.9282\n",
            "Epoch 8/10\n",
            "273/273 [==============================] - 58s 213ms/step - loss: 0.1979 - accuracy: 0.9472\n",
            "Epoch 9/10\n",
            "273/273 [==============================] - 60s 219ms/step - loss: 0.1697 - accuracy: 0.9563\n",
            "Epoch 10/10\n",
            "273/273 [==============================] - 58s 214ms/step - loss: 0.1344 - accuracy: 0.9655\n"
          ]
        }
      ]
    },
    {
      "cell_type": "code",
      "source": [
        "def plot_graphs(history, metric):\n",
        "  plt.plot(history.history[metric])\n",
        "  plt.plot(history.history['val_'+metric], '')\n",
        "  plt.xlabel(\"Epochs\")\n",
        "  plt.ylabel(metric)\n",
        "  plt.legend([metric, 'val_'+metric])"
      ],
      "metadata": {
        "id": "wi8URRaRy0J7"
      },
      "id": "wi8URRaRy0J7",
      "execution_count": 125,
      "outputs": []
    },
    {
      "cell_type": "code",
      "source": [
        "plt.figure(figsize=(16, 8))\n",
        "plt.subplot(1, 2, 1)\n",
        "plot_graphs(history_en, 'accuracy')\n",
        "plt.ylim(None, 1)\n",
        "plt.subplot(1, 2, 2)\n",
        "plot_graphs(history_en, 'loss')\n",
        "plt.ylim(0, None)\n",
        "\n",
        "plt.figure(figsize=(16, 8))\n",
        "plt.subplot(1, 2, 1)\n",
        "plot_graphs(history_la, 'accuracy')\n",
        "plt.ylim(None, 1)\n",
        "plt.subplot(1, 2, 2)\n",
        "plot_graphs(history_la, 'loss')\n",
        "plt.ylim(0, None)"
      ],
      "metadata": {
        "colab": {
          "base_uri": "https://localhost:8080/",
          "height": 973
        },
        "id": "I3xJvIHFfv_q",
        "outputId": "74ed427a-c425-44c6-d2c5-f73552530b76"
      },
      "id": "I3xJvIHFfv_q",
      "execution_count": 128,
      "outputs": [
        {
          "output_type": "execute_result",
          "data": {
            "text/plain": [
              "(0.0, 1.63167734593153)"
            ]
          },
          "metadata": {},
          "execution_count": 128
        },
        {
          "output_type": "display_data",
          "data": {
            "text/plain": [
              "<Figure size 1600x800 with 2 Axes>"
            ],
            "image/png": "[encoded data removed]"
          },
          "metadata": {}
        },
        {
          "output_type": "display_data",
          "data": {
            "text/plain": [
              "<Figure size 1600x800 with 2 Axes>"
            ],
            "image/png": "[encoded data removed]"
          },
          "metadata": {}
        }
      ]
    },
    {
      "cell_type": "code",
      "source": [
        "\n",
        "test_loss, test_acc = model_en.evaluate(test_data_en)\n",
        "print('Test Loss:', test_loss)\n",
        "print('Test Accuracy:', test_acc)"
      ],
      "metadata": {
        "colab": {
          "base_uri": "https://localhost:8080/"
        },
        "id": "C3ZeTC1p8y4y",
        "outputId": "e9d02c6f-a630-42ec-9299-77203c3bdefb"
      },
      "id": "C3ZeTC1p8y4y",
      "execution_count": 129,
      "outputs": [
        {
          "output_type": "stream",
          "name": "stdout",
          "text": [
            "6/6 [==============================] - 0s 32ms/step - loss: 0.5842 - accuracy: 0.8472\n",
            "Test Loss: 0.5841511487960815\n",
            "Test Accuracy: 0.8472222089767456\n"
          ]
        }
      ]
    },
    {
      "cell_type": "code",
      "source": [
        "test_loss, test_acc = model_la.evaluate(test_data_la)\n",
        "print('Test Loss:', test_loss)\n",
        "print('Test Accuracy:', test_acc)"
      ],
      "metadata": {
        "colab": {
          "base_uri": "https://localhost:8080/"
        },
        "id": "Ex0ET_Ek9sjI",
        "outputId": "df7dd8b1-d841-46bc-b6fb-fa1a034eaa9e"
      },
      "id": "Ex0ET_Ek9sjI",
      "execution_count": 130,
      "outputs": [
        {
          "output_type": "stream",
          "name": "stdout",
          "text": [
            "6/6 [==============================] - 0s 21ms/step - loss: 0.8229 - accuracy: 0.8111\n",
            "Test Loss: 0.8228954672813416\n",
            "Test Accuracy: 0.8111110925674438\n"
          ]
        }
      ]
    }
  ],
  "metadata": {
    "kernelspec": {
      "display_name": "Python 3 (ipykernel)",
      "language": "python",
      "name": "python3"
    },
    "language_info": {
      "codemirror_mode": {
        "name": "ipython",
        "version": 3
      },
      "file_extension": ".py",
      "mimetype": "text/x-python",
      "name": "python",
      "nbconvert_exporter": "python",
      "pygments_lexer": "ipython3",
      "version": "3.11.5"
    },
    "colab": {
      "provenance": []
    }
  },
  "nbformat": 4,
  "nbformat_minor": 5
}